{
    "metadata": {
        "language_info": {
            "file_extension": ".py", 
            "mimetype": "text/x-python", 
            "version": "3.5.2", 
            "pygments_lexer": "ipython3", 
            "name": "python", 
            "codemirror_mode": {
                "version": 3, 
                "name": "ipython"
            }, 
            "nbconvert_exporter": "python"
        }, 
        "kernelspec": {
            "display_name": "Python 3.5 (Experimental) with Spark 2.0", 
            "language": "python", 
            "name": "python3-spark20"
        }
    }, 
    "cells": [
        {
            "metadata": {
                "collapsed": false
            }, 
            "cell_type": "code", 
            "outputs": [], 
            "execution_count": 1, 
            "source": "# The code was removed by DSX for sharing."
        }, 
        {
            "metadata": {
                "collapsed": false
            }, 
            "cell_type": "code", 
            "outputs": [], 
            "execution_count": 2, 
            "source": "\n\ncloudantdata = sqlContext.read.format(\"com.cloudant.spark\").\\\noption(\"cloudant.host\",\"ab46cb82-f091-4fea-b622-11049ed033af-bluemix.cloudant.com\").\\\noption(\"cloudant.username\", \"ab46cb82-f091-4fea-b622-11049ed033af-bluemix\").\\\noption(\"cloudant.password\",\"9c25511ba5185fde1746a9f31bd8b351c75510b7c8aca12c9ccf3c5bc14c0f2e\").\\\nload(\"prints\")"
        }, 
        {
            "metadata": {
                "collapsed": false
            }, 
            "cell_type": "code", 
            "outputs": [
                {
                    "output_type": "stream", 
                    "text": "root\n |-- _id: string (nullable = true)\n |-- _rev: string (nullable = true)\n |-- dados: array (nullable = true)\n |    |-- element: struct (containsNull = true)\n |    |    |-- classes: array (nullable = true)\n |    |    |    |-- element: struct (containsNull = true)\n |    |    |    |    |-- class_name: string (nullable = true)\n |    |    |    |    |-- confidence: double (nullable = true)\n |    |    |-- classifier_id: string (nullable = true)\n |    |    |-- texto: string (nullable = true)\n |-- poc-dipol: array (nullable = true)\n |    |-- element: struct (containsNull = true)\n |    |    |-- classes: array (nullable = true)\n |    |    |    |-- element: struct (containsNull = true)\n |    |    |    |    |-- class_name: string (nullable = true)\n |    |    |    |    |-- confidence: double (nullable = true)\n |    |    |-- classifier_id: string (nullable = true)\n |    |    |-- texto: string (nullable = true)\n |-- whatsapp-chatbot: string (nullable = true)\n\n", 
                    "name": "stdout"
                }
            ], 
            "execution_count": 3, 
            "source": "cloudantdata.printSchema()"
        }, 
        {
            "metadata": {
                "collapsed": false
            }, 
            "cell_type": "code", 
            "outputs": [
                {
                    "output_type": "stream", 
                    "text": "+--------------------+--------------------+--------------------+--------------------+----------------+\n|                 _id|                _rev|               dados|           poc-dipol|whatsapp-chatbot|\n+--------------------+--------------------+--------------------+--------------------+----------------+\n|Abordagem_Bicicle...|1-64719397538e95c...|[[WrappedArray([A...|                null|            null|\n|   Caracter_Armado_2|1-6d1c77531388b19...|[[WrappedArray([C...|                null|            null|\n|   Caracter_Armado_3|1-6d1c77531388b19...|[[WrappedArray([C...|                null|            null|\n|   Caracter_Armado_4|1-6d1c77531388b19...|[[WrappedArray([C...|                null|            null|\n|   Caracter_Armado_5|1-6d1c77531388b19...|[[WrappedArray([C...|                null|            null|\n|   Caracter_Armado_6|1-6d1c77531388b19...|[[WrappedArray([C...|                null|            null|\n|       Roubo_Carro_2|1-99ad2cd53ce160d...|[[WrappedArray([R...|                null|            null|\n|         poc-dipol_1|1-983a80f39d23609...|                null|[[WrappedArray([C...|            null|\n|        poc-dipol_10|1-598e8b47640921c...|                null|[[WrappedArray([A...|            null|\n|       poc-dipol_100|1-799f2acc4f17503...|                null|[[WrappedArray([C...|            null|\n|      poc-dipol_1000|1-fea1dbc89a2b5df...|                null|[[WrappedArray([C...|            null|\n|      poc-dipol_1001|1-e8e384bc67c6a1f...|                null|[[WrappedArray([A...|            null|\n|      poc-dipol_1002|1-b4698e436e214f0...|                null|[[WrappedArray([C...|            null|\n|      poc-dipol_1003|1-22427341d9f3e56...|                null|[[WrappedArray([C...|            null|\n|      poc-dipol_1004|1-30195ae2afeada3...|                null|[[WrappedArray([C...|            null|\n|      poc-dipol_1005|1-30195ae2afeada3...|                null|[[WrappedArray([C...|            null|\n|      poc-dipol_1006|1-de9f84f6621a3ff...|                null|[[WrappedArray([A...|            null|\n|      poc-dipol_1007|1-a963567225dd6a7...|                null|[[WrappedArray([C...|            null|\n|      poc-dipol_1008|1-8048e31931fb54d...|                null|[[WrappedArray([A...|            null|\n|      poc-dipol_1009|1-8048e31931fb54d...|                null|[[WrappedArray([A...|            null|\n+--------------------+--------------------+--------------------+--------------------+----------------+\nonly showing top 20 rows\n\n", 
                    "name": "stdout"
                }
            ], 
            "execution_count": 4, 
            "source": "#Mostra os primeiros 20 documentos da cole\u00e7\u00e3o prints\ncloudantdata.show()"
        }, 
        {
            "metadata": {
                "collapsed": false
            }, 
            "cell_type": "code", 
            "outputs": [
                {
                    "metadata": {}, 
                    "execution_count": 5, 
                    "data": {
                        "text/plain": "7994"
                    }, 
                    "output_type": "execute_result"
                }
            ], 
            "execution_count": 5, 
            "source": "#Quantidade de documentos na cole\u00e7\u00e3o prints\ncloudantdata.count()"
        }, 
        {
            "metadata": {
                "collapsed": false
            }, 
            "cell_type": "code", 
            "outputs": [], 
            "execution_count": 6, 
            "source": "pocDipol = cloudantdata.select(\"poc-dipol\")\n"
        }, 
        {
            "metadata": {
                "collapsed": false
            }, 
            "cell_type": "code", 
            "outputs": [
                {
                    "metadata": {}, 
                    "execution_count": 7, 
                    "data": {
                        "text/plain": "pyspark.sql.dataframe.DataFrame"
                    }, 
                    "output_type": "execute_result"
                }
            ], 
            "execution_count": 7, 
            "source": "type(pocDipol)"
        }, 
        {
            "metadata": {
                "collapsed": true
            }, 
            "cell_type": "code", 
            "outputs": [], 
            "execution_count": 8, 
            "source": "pocDipol.registerTempTable(\"pocDipolTB\")"
        }, 
        {
            "metadata": {
                "collapsed": false
            }, 
            "cell_type": "code", 
            "outputs": [
                {
                    "metadata": {}, 
                    "execution_count": 19, 
                    "data": {
                        "text/plain": "DataFrame[poc-dipol: array<struct<classes:array<struct<class_name:string,confidence:double>>,classifier_id:string,texto:string>>]"
                    }, 
                    "output_type": "execute_result"
                }
            ], 
            "execution_count": 19, 
            "source": "spark.sql(\"select * from pocDipolTB \")"
        }, 
        {
            "metadata": {
                "collapsed": true
            }, 
            "cell_type": "code", 
            "outputs": [], 
            "execution_count": null, 
            "source": ""
        }
    ], 
    "nbformat": 4, 
    "nbformat_minor": 0
}