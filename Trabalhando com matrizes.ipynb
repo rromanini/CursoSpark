{
    "metadata": {
        "language_info": {
            "file_extension": ".py", 
            "mimetype": "text/x-python", 
            "nbconvert_exporter": "python", 
            "pygments_lexer": "ipython3", 
            "version": "3.5.2", 
            "name": "python", 
            "codemirror_mode": {
                "version": 3, 
                "name": "ipython"
            }
        }, 
        "kernelspec": {
            "display_name": "Python 3.5 (Experimental) with Spark 2.0", 
            "language": "python", 
            "name": "python3-spark20"
        }
    }, 
    "cells": [
        {
            "metadata": {
                "collapsed": true
            }, 
            "cell_type": "markdown", 
            "source": "# Trabalhando com matrizes"
        }, 
        {
            "metadata": {
                "collapsed": false
            }, 
            "cell_type": "code", 
            "source": "import sys\nimport numpy as np\nprint(sys.version)\nnp.__version__", 
            "execution_count": 4, 
            "outputs": [
                {
                    "output_type": "stream", 
                    "text": "3.5.2 |Anaconda 4.1.1 (64-bit)| (default, Jul  2 2016, 17:53:06) \n[GCC 4.4.7 20120313 (Red Hat 4.4.7-1)]\n", 
                    "name": "stdout"
                }, 
                {
                    "output_type": "execute_result", 
                    "execution_count": 4, 
                    "data": {
                        "text/plain": "'1.11.1'"
                    }, 
                    "metadata": {}
                }
            ]
        }, 
        {
            "metadata": {}, 
            "cell_type": "markdown", 
            "source": "# Criando matrizes"
        }, 
        {
            "metadata": {
                "collapsed": false
            }, 
            "cell_type": "code", 
            "source": "mat1 = np.matrix(\"1,2,3;4,5,6\")", 
            "execution_count": 7, 
            "outputs": []
        }, 
        {
            "metadata": {
                "collapsed": false
            }, 
            "cell_type": "code", 
            "source": "mat1", 
            "execution_count": 8, 
            "outputs": [
                {
                    "output_type": "execute_result", 
                    "execution_count": 8, 
                    "data": {
                        "text/plain": "matrix([[1, 2, 3],\n        [4, 5, 6]])"
                    }, 
                    "metadata": {}
                }
            ]
        }, 
        {
            "metadata": {
                "collapsed": false
            }, 
            "cell_type": "code", 
            "source": "type(mat1)", 
            "execution_count": 9, 
            "outputs": [
                {
                    "output_type": "execute_result", 
                    "execution_count": 9, 
                    "data": {
                        "text/plain": "numpy.matrixlib.defmatrix.matrix"
                    }, 
                    "metadata": {}
                }
            ]
        }, 
        {
            "metadata": {
                "collapsed": true
            }, 
            "cell_type": "code", 
            "source": "mat2 = np.matrix(([1,2,3],[4,5,6]))", 
            "execution_count": 10, 
            "outputs": []
        }, 
        {
            "metadata": {
                "collapsed": false
            }, 
            "cell_type": "code", 
            "source": "type(mat2)", 
            "execution_count": 11, 
            "outputs": [
                {
                    "output_type": "execute_result", 
                    "execution_count": 11, 
                    "data": {
                        "text/plain": "numpy.matrixlib.defmatrix.matrix"
                    }, 
                    "metadata": {}
                }
            ]
        }, 
        {
            "metadata": {
                "collapsed": false
            }, 
            "cell_type": "code", 
            "source": "mat2", 
            "execution_count": 13, 
            "outputs": [
                {
                    "output_type": "execute_result", 
                    "execution_count": 13, 
                    "data": {
                        "text/plain": "matrix([[1, 2, 3],\n        [4, 5, 6]])"
                    }, 
                    "metadata": {}
                }
            ]
        }, 
        {
            "metadata": {
                "collapsed": false
            }, 
            "cell_type": "code", 
            "source": "mat3 = np.matrix([[0,10,0,0,0],[0,0,20,0,0],[0,0,30,0,0],[0,0,0,40,0],[0,0,0,0,50]])", 
            "execution_count": 15, 
            "outputs": []
        }, 
        {
            "metadata": {
                "collapsed": false
            }, 
            "cell_type": "code", 
            "source": "mat3\n", 
            "execution_count": 16, 
            "outputs": [
                {
                    "output_type": "execute_result", 
                    "execution_count": 16, 
                    "data": {
                        "text/plain": "matrix([[ 0, 10,  0,  0,  0],\n        [ 0,  0, 20,  0,  0],\n        [ 0,  0, 30,  0,  0],\n        [ 0,  0,  0, 40,  0],\n        [ 0,  0,  0,  0, 50]])"
                    }, 
                    "metadata": {}
                }
            ]
        }, 
        {
            "metadata": {
                "collapsed": false
            }, 
            "cell_type": "code", 
            "source": "mat3[4,4]", 
            "execution_count": 24, 
            "outputs": [
                {
                    "output_type": "execute_result", 
                    "execution_count": 24, 
                    "data": {
                        "text/plain": "50"
                    }, 
                    "metadata": {}
                }
            ]
        }, 
        {
            "metadata": {}, 
            "cell_type": "markdown", 
            "source": "# Matrizes esparsas"
        }, 
        {
            "metadata": {
                "collapsed": true
            }, 
            "cell_type": "code", 
            "source": "import scipy.sparse", 
            "execution_count": 25, 
            "outputs": []
        }, 
        {
            "metadata": {
                "collapsed": false
            }, 
            "cell_type": "code", 
            "source": "linha = np.array([0,1,2,3])\ncoluna= np.array([1,2,3,4])\nvalores = np.array([10,20,30,40])", 
            "execution_count": 28, 
            "outputs": []
        }, 
        {
            "metadata": {
                "collapsed": false
            }, 
            "cell_type": "code", 
            "source": "mat4 = scipy.sparse.coo_matrix((valores,(linha,coluna)))", 
            "execution_count": 32, 
            "outputs": []
        }, 
        {
            "metadata": {
                "collapsed": false
            }, 
            "cell_type": "code", 
            "source": "mat4", 
            "execution_count": 33, 
            "outputs": [
                {
                    "output_type": "execute_result", 
                    "execution_count": 33, 
                    "data": {
                        "text/plain": "<4x5 sparse matrix of type '<class 'numpy.int64'>'\n\twith 4 stored elements in COOrdinate format>"
                    }, 
                    "metadata": {}
                }
            ]
        }, 
        {
            "metadata": {
                "collapsed": false
            }, 
            "cell_type": "code", 
            "source": "print(mat4)", 
            "execution_count": 34, 
            "outputs": [
                {
                    "output_type": "stream", 
                    "text": "  (0, 1)\t10\n  (1, 2)\t20\n  (2, 3)\t30\n  (3, 4)\t40\n", 
                    "name": "stdout"
                }
            ]
        }, 
        {
            "metadata": {
                "collapsed": false
            }, 
            "cell_type": "code", 
            "source": "print(mat4.todense())", 
            "execution_count": 36, 
            "outputs": [
                {
                    "output_type": "stream", 
                    "text": "[[ 0 10  0  0  0]\n [ 0  0 20  0  0]\n [ 0  0  0 30  0]\n [ 0  0  0  0 40]]\n", 
                    "name": "stdout"
                }
            ]
        }, 
        {
            "metadata": {}, 
            "cell_type": "markdown", 
            "source": "# Opera\u00e7\u00f5es com arrays e matrizes"
        }, 
        {
            "metadata": {
                "collapsed": true
            }, 
            "cell_type": "code", 
            "source": "a = np.array([[1,2],[3,4]])", 
            "execution_count": 39, 
            "outputs": []
        }, 
        {
            "metadata": {
                "collapsed": false
            }, 
            "cell_type": "code", 
            "source": "a", 
            "execution_count": 40, 
            "outputs": [
                {
                    "output_type": "execute_result", 
                    "execution_count": 40, 
                    "data": {
                        "text/plain": "array([[1, 2],\n       [3, 4]])"
                    }, 
                    "metadata": {}
                }
            ]
        }, 
        {
            "metadata": {
                "collapsed": true
            }, 
            "cell_type": "code", 
            "source": "mat_a = np.mat(a)", 
            "execution_count": 43, 
            "outputs": []
        }, 
        {
            "metadata": {
                "collapsed": false
            }, 
            "cell_type": "code", 
            "source": "mat_a", 
            "execution_count": 44, 
            "outputs": [
                {
                    "output_type": "execute_result", 
                    "execution_count": 44, 
                    "data": {
                        "text/plain": "matrix([[1, 2],\n        [3, 4]])"
                    }, 
                    "metadata": {}
                }
            ]
        }, 
        {
            "metadata": {
                "collapsed": false
            }, 
            "cell_type": "code", 
            "source": "# A multiplica\u00e7\u00e3o de matrizes ocorre de forma diferente\n# \u00e9 a representacao matematica de matrizes\n# na multiplicacao, linha deve multiplicar coluna\nprint(mat_a*mat_a)", 
            "execution_count": 47, 
            "outputs": [
                {
                    "output_type": "stream", 
                    "text": "[[ 7 10]\n [15 22]]\n", 
                    "name": "stdout"
                }
            ]
        }, 
        {
            "metadata": {
                "collapsed": false
            }, 
            "cell_type": "code", 
            "source": "a", 
            "execution_count": 48, 
            "outputs": [
                {
                    "output_type": "execute_result", 
                    "execution_count": 48, 
                    "data": {
                        "text/plain": "array([[1, 2],\n       [3, 4]])"
                    }, 
                    "metadata": {}
                }
            ]
        }, 
        {
            "metadata": {
                "collapsed": false
            }, 
            "cell_type": "code", 
            "source": "a = np.asmatrix(a)", 
            "execution_count": 51, 
            "outputs": []
        }, 
        {
            "metadata": {
                "collapsed": false
            }, 
            "cell_type": "code", 
            "source": "a", 
            "execution_count": 52, 
            "outputs": [
                {
                    "output_type": "execute_result", 
                    "execution_count": 52, 
                    "data": {
                        "text/plain": "matrix([[1, 2],\n        [3, 4]])"
                    }, 
                    "metadata": {}
                }
            ]
        }, 
        {
            "metadata": {
                "collapsed": true
            }, 
            "cell_type": "code", 
            "source": "a = np.asarray(a)", 
            "execution_count": 53, 
            "outputs": []
        }, 
        {
            "metadata": {
                "collapsed": false
            }, 
            "cell_type": "code", 
            "source": "a\n", 
            "execution_count": 54, 
            "outputs": [
                {
                    "output_type": "execute_result", 
                    "execution_count": 54, 
                    "data": {
                        "text/plain": "array([[1, 2],\n       [3, 4]])"
                    }, 
                    "metadata": {}
                }
            ]
        }, 
        {
            "metadata": {
                "collapsed": true
            }, 
            "cell_type": "code", 
            "source": "", 
            "execution_count": null, 
            "outputs": []
        }
    ], 
    "nbformat": 4, 
    "nbformat_minor": 0
}