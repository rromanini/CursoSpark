{
    "cells": [
        {
            "cell_type": "markdown", 
            "source": "# Trabalhando com matrizes", 
            "metadata": {
                "collapsed": true
            }
        }, 
        {
            "cell_type": "code", 
            "execution_count": 4, 
            "outputs": [
                {
                    "output_type": "stream", 
                    "text": "3.5.2 |Anaconda 4.1.1 (64-bit)| (default, Jul  2 2016, 17:53:06) \n[GCC 4.4.7 20120313 (Red Hat 4.4.7-1)]\n", 
                    "name": "stdout"
                }, 
                {
                    "output_type": "execute_result", 
                    "execution_count": 4, 
                    "metadata": {}, 
                    "data": {
                        "text/plain": "'1.11.1'"
                    }
                }
            ], 
            "source": "import sys\nimport numpy as np\nprint(sys.version)\nnp.__version__", 
            "metadata": {
                "collapsed": false
            }
        }, 
        {
            "cell_type": "markdown", 
            "source": "# Criando matrizes", 
            "metadata": {}
        }, 
        {
            "cell_type": "code", 
            "execution_count": 7, 
            "outputs": [], 
            "source": "mat1 = np.matrix(\"1,2,3;4,5,6\")", 
            "metadata": {
                "collapsed": false
            }
        }, 
        {
            "cell_type": "code", 
            "execution_count": 8, 
            "outputs": [
                {
                    "output_type": "execute_result", 
                    "execution_count": 8, 
                    "metadata": {}, 
                    "data": {
                        "text/plain": "matrix([[1, 2, 3],\n        [4, 5, 6]])"
                    }
                }
            ], 
            "source": "mat1", 
            "metadata": {
                "collapsed": false
            }
        }, 
        {
            "cell_type": "code", 
            "execution_count": 9, 
            "outputs": [
                {
                    "output_type": "execute_result", 
                    "execution_count": 9, 
                    "metadata": {}, 
                    "data": {
                        "text/plain": "numpy.matrixlib.defmatrix.matrix"
                    }
                }
            ], 
            "source": "type(mat1)", 
            "metadata": {
                "collapsed": false
            }
        }, 
        {
            "cell_type": "code", 
            "execution_count": 10, 
            "outputs": [], 
            "source": "mat2 = np.matrix(([1,2,3],[4,5,6]))", 
            "metadata": {
                "collapsed": true
            }
        }, 
        {
            "cell_type": "code", 
            "execution_count": 11, 
            "outputs": [
                {
                    "output_type": "execute_result", 
                    "execution_count": 11, 
                    "metadata": {}, 
                    "data": {
                        "text/plain": "numpy.matrixlib.defmatrix.matrix"
                    }
                }
            ], 
            "source": "type(mat2)", 
            "metadata": {
                "collapsed": false
            }
        }, 
        {
            "cell_type": "code", 
            "execution_count": 13, 
            "outputs": [
                {
                    "output_type": "execute_result", 
                    "execution_count": 13, 
                    "metadata": {}, 
                    "data": {
                        "text/plain": "matrix([[1, 2, 3],\n        [4, 5, 6]])"
                    }
                }
            ], 
            "source": "mat2", 
            "metadata": {
                "collapsed": false
            }
        }, 
        {
            "cell_type": "code", 
            "execution_count": 15, 
            "outputs": [], 
            "source": "mat3 = np.matrix([[0,10,0,0,0],[0,0,20,0,0],[0,0,30,0,0],[0,0,0,40,0],[0,0,0,0,50]])", 
            "metadata": {
                "collapsed": false
            }
        }, 
        {
            "cell_type": "code", 
            "execution_count": 16, 
            "outputs": [
                {
                    "output_type": "execute_result", 
                    "execution_count": 16, 
                    "metadata": {}, 
                    "data": {
                        "text/plain": "matrix([[ 0, 10,  0,  0,  0],\n        [ 0,  0, 20,  0,  0],\n        [ 0,  0, 30,  0,  0],\n        [ 0,  0,  0, 40,  0],\n        [ 0,  0,  0,  0, 50]])"
                    }
                }
            ], 
            "source": "mat3\n", 
            "metadata": {
                "collapsed": false
            }
        }, 
        {
            "cell_type": "code", 
            "execution_count": 24, 
            "outputs": [
                {
                    "output_type": "execute_result", 
                    "execution_count": 24, 
                    "metadata": {}, 
                    "data": {
                        "text/plain": "50"
                    }
                }
            ], 
            "source": "mat3[4,4]", 
            "metadata": {
                "collapsed": false
            }
        }, 
        {
            "cell_type": "markdown", 
            "source": "# Matrizes esparsas", 
            "metadata": {}
        }, 
        {
            "cell_type": "code", 
            "execution_count": 25, 
            "outputs": [], 
            "source": "import scipy.sparse", 
            "metadata": {
                "collapsed": true
            }
        }, 
        {
            "cell_type": "code", 
            "execution_count": 28, 
            "outputs": [], 
            "source": "linha = np.array([0,1,2,3])\ncoluna= np.array([1,2,3,4])\nvalores = np.array([10,20,30,40])", 
            "metadata": {
                "collapsed": false
            }
        }, 
        {
            "cell_type": "code", 
            "execution_count": 32, 
            "outputs": [], 
            "source": "mat4 = scipy.sparse.coo_matrix((valores,(linha,coluna)))", 
            "metadata": {
                "collapsed": false
            }
        }, 
        {
            "cell_type": "code", 
            "execution_count": 33, 
            "outputs": [
                {
                    "output_type": "execute_result", 
                    "execution_count": 33, 
                    "metadata": {}, 
                    "data": {
                        "text/plain": "<4x5 sparse matrix of type '<class 'numpy.int64'>'\n\twith 4 stored elements in COOrdinate format>"
                    }
                }
            ], 
            "source": "mat4", 
            "metadata": {
                "collapsed": false
            }
        }, 
        {
            "cell_type": "code", 
            "execution_count": 34, 
            "outputs": [
                {
                    "output_type": "stream", 
                    "text": "  (0, 1)\t10\n  (1, 2)\t20\n  (2, 3)\t30\n  (3, 4)\t40\n", 
                    "name": "stdout"
                }
            ], 
            "source": "print(mat4)", 
            "metadata": {
                "collapsed": false
            }
        }, 
        {
            "cell_type": "code", 
            "execution_count": 36, 
            "outputs": [
                {
                    "output_type": "stream", 
                    "text": "[[ 0 10  0  0  0]\n [ 0  0 20  0  0]\n [ 0  0  0 30  0]\n [ 0  0  0  0 40]]\n", 
                    "name": "stdout"
                }
            ], 
            "source": "print(mat4.todense())", 
            "metadata": {
                "collapsed": false
            }
        }, 
        {
            "cell_type": "code", 
            "execution_count": null, 
            "outputs": [], 
            "source": "", 
            "metadata": {
                "collapsed": true
            }
        }
    ], 
    "nbformat_minor": 0, 
    "metadata": {
        "kernelspec": {
            "language": "python", 
            "display_name": "Python 3.5 (Experimental) with Spark 2.0", 
            "name": "python3-spark20"
        }, 
        "language_info": {
            "pygments_lexer": "ipython3", 
            "file_extension": ".py", 
            "codemirror_mode": {
                "version": 3, 
                "name": "ipython"
            }, 
            "version": "3.5.2", 
            "mimetype": "text/x-python", 
            "nbconvert_exporter": "python", 
            "name": "python"
        }
    }, 
    "nbformat": 4
}