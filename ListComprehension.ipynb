{
    "metadata": {
        "language_info": {
            "name": "python", 
            "mimetype": "text/x-python", 
            "nbconvert_exporter": "python", 
            "pygments_lexer": "ipython3", 
            "codemirror_mode": {
                "name": "ipython", 
                "version": 3
            }, 
            "file_extension": ".py", 
            "version": "3.5.2"
        }, 
        "kernelspec": {
            "display_name": "Python 3.5 (Experimental) with Spark 2.0", 
            "name": "python3-spark20", 
            "language": "python"
        }
    }, 
    "nbformat_minor": 0, 
    "cells": [
        {
            "metadata": {
                "collapsed": true
            }, 
            "source": "# List Comprehension ", 
            "cell_type": "markdown"
        }, 
        {
            "outputs": [], 
            "metadata": {
                "collapsed": true
            }, 
            "source": "array1 = range(0,15)", 
            "cell_type": "code", 
            "execution_count": 1
        }, 
        {
            "outputs": [
                {
                    "name": "stdout", 
                    "output_type": "stream", 
                    "text": "[0, 1, 2, 3, 4, 5, 6, 7, 8, 9, 10, 11, 12, 13, 14]\n"
                }
            ], 
            "metadata": {
                "collapsed": false
            }, 
            "source": "print(list(array1))", 
            "cell_type": "code", 
            "execution_count": 2
        }, 
        {
            "outputs": [
                {
                    "data": {
                        "text/plain": "[0, 1, 8, 27, 64, 125, 216, 343, 512, 729, 1000, 1331, 1728, 2197, 2744]"
                    }, 
                    "metadata": {}, 
                    "output_type": "execute_result", 
                    "execution_count": 5
                }
            ], 
            "metadata": {
                "collapsed": false
            }, 
            "source": "#Utilizando list comprehension\n[num ** 3 for num in array1]", 
            "cell_type": "code", 
            "execution_count": 5
        }, 
        {
            "outputs": [
                {
                    "data": {
                        "text/plain": "[0, 2, 4, 6, 8, 10, 12, 14]"
                    }, 
                    "metadata": {}, 
                    "output_type": "execute_result", 
                    "execution_count": 6
                }
            ], 
            "metadata": {
                "collapsed": false
            }, 
            "source": "# Retornando valores pares\n[num for num in array1 if num % 2 == 0]", 
            "cell_type": "code", 
            "execution_count": 6
        }, 
        {
            "outputs": [
                {
                    "data": {
                        "text/plain": "[0, 4, 16, 36, 64, 100, 144, 196]"
                    }, 
                    "metadata": {}, 
                    "output_type": "execute_result", 
                    "execution_count": 7
                }
            ], 
            "metadata": {
                "collapsed": false
            }, 
            "source": "# Retornando o quadrado apenas dos valores pares\n[num ** 2 for num in array1 if num % 2 == 0]", 
            "cell_type": "code", 
            "execution_count": 7
        }, 
        {
            "outputs": [], 
            "metadata": {
                "collapsed": true
            }, 
            "source": "# Criando uma lista de frases\narray2 = [\"Big Data com Big Data\", \"Teste\",\"alfa\",\"Big Data e Big Data\"]", 
            "cell_type": "code", 
            "execution_count": 8
        }, 
        {
            "outputs": [
                {
                    "name": "stdout", 
                    "output_type": "stream", 
                    "text": "['Big Data com Big Data', 'Teste', 'alfa', 'Big Data e Big Data']\n"
                }
            ], 
            "metadata": {
                "collapsed": false
            }, 
            "source": "print(list(array2))", 
            "cell_type": "code", 
            "execution_count": 9
        }, 
        {
            "outputs": [
                {
                    "data": {
                        "text/plain": "['Big Data com Big Data', 'Big Data e Big Data']"
                    }, 
                    "metadata": {}, 
                    "output_type": "execute_result", 
                    "execution_count": 11
                }
            ], 
            "metadata": {
                "collapsed": false
            }, 
            "source": "[item for item in array2 if item.count(\"Big Data\") >= 2]", 
            "cell_type": "code", 
            "execution_count": 11
        }, 
        {
            "outputs": [
                {
                    "data": {
                        "text/plain": "[0.0,\n 1.0,\n 2.0,\n 3.0,\n 4.0,\n 5.0,\n 6.0,\n 7.0,\n 8.0,\n 9.0,\n 10.0,\n 11.0,\n 12.0,\n 13.0,\n 14.0]"
                    }, 
                    "metadata": {}, 
                    "output_type": "execute_result", 
                    "execution_count": 14
                }
            ], 
            "metadata": {
                "collapsed": false
            }, 
            "source": "#Conversao de valores para float\n[float(item) for item in array1]", 
            "cell_type": "code", 
            "execution_count": 14
        }, 
        {
            "outputs": [
                {
                    "data": {
                        "text/plain": "[0, 1, 4, 9, 16, 25, 36, 49, 64, 81, 100, 121, 144, 169, 196]"
                    }, 
                    "metadata": {}, 
                    "output_type": "execute_result", 
                    "execution_count": 15
                }
            ], 
            "metadata": {
                "collapsed": false
            }, 
            "source": "#Elevando um valor ao quadrado com ListComprehension\n[num ** 2 for num in array1]", 
            "cell_type": "code", 
            "execution_count": 15
        }, 
        {
            "outputs": [], 
            "metadata": {
                "collapsed": true
            }, 
            "source": "#Elevando um valor ao quadrado com uso de funcoes e funcao map\ndef elevarQuadrado(num):\n    return num ** 2", 
            "cell_type": "code", 
            "execution_count": 16
        }, 
        {
            "outputs": [
                {
                    "name": "stdout", 
                    "output_type": "stream", 
                    "text": "[0, 1, 4, 9, 16, 25, 36, 49, 64, 81, 100, 121, 144, 169, 196]\n"
                }
            ], 
            "metadata": {
                "collapsed": false
            }, 
            "source": "valorQuadrado = map(elevarQuadrado,array1)\nprint(list(valorQuadrado))", 
            "cell_type": "code", 
            "execution_count": 24
        }, 
        {
            "outputs": [
                {
                    "data": {
                        "text/plain": "[0, 1, 4, 9, 16, 25, 36, 49, 64, 81, 100, 121, 144, 169, 196]"
                    }, 
                    "metadata": {}, 
                    "output_type": "execute_result", 
                    "execution_count": 29
                }
            ], 
            "metadata": {
                "collapsed": false
            }, 
            "source": "#Utilizando funcoes Lambda\nlist(map(lambda num:num**2,array1))", 
            "cell_type": "code", 
            "execution_count": 29
        }, 
        {
            "outputs": [
                {
                    "data": {
                        "text/plain": "[4, 16, 36, 64, 100, 144, 196, 256, 324]"
                    }, 
                    "metadata": {}, 
                    "output_type": "execute_result", 
                    "execution_count": 30
                }
            ], 
            "metadata": {
                "collapsed": false
            }, 
            "source": "#Utilizando funcoes Lambda, com uso de Filter em um array com 19 elementos\nlist(map(lambda num:num**2,filter(lambda num:num % 2 == 0,range(1,20))))", 
            "cell_type": "code", 
            "execution_count": 30
        }, 
        {
            "outputs": [], 
            "metadata": {
                "collapsed": true
            }, 
            "source": "", 
            "cell_type": "code", 
            "execution_count": null
        }
    ], 
    "nbformat": 4
}