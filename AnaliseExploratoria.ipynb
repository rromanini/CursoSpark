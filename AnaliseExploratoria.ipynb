{
    "nbformat_minor": 0, 
    "metadata": {
        "language_info": {
            "pygments_lexer": "ipython3", 
            "codemirror_mode": {
                "name": "ipython", 
                "version": 3
            }, 
            "file_extension": ".py", 
            "version": "3.5.2", 
            "mimetype": "text/x-python", 
            "name": "python", 
            "nbconvert_exporter": "python"
        }, 
        "kernelspec": {
            "name": "python3-spark20", 
            "language": "python", 
            "display_name": "Python 3.5 (Experimental) with Spark 2.0"
        }
    }, 
    "cells": [
        {
            "metadata": {
                "collapsed": true
            }, 
            "source": "import pandas as pd\nimport numpy as np\nimport matplotlib.pyplot as plt\n%matplotlib inline", 
            "execution_count": 1, 
            "cell_type": "code", 
            "outputs": []
        }, 
        {
            "metadata": {
                "collapsed": false
            }, 
            "source": "\nfrom io import StringIO\nimport requests\nimport json\nimport pandas as pd\n\n# @hidden_cell\n# This function accesses a file in your Object Storage. The definition contains your credentials.\n# You might want to remove those credentials before you share your notebook.\ndef get_object_storage_file_with_credentials_b0229f57d26048ebbeee34c5e21b1aaf(container, filename):\n    \"\"\"This functions returns a StringIO object containing\n    the file content from Bluemix Object Storage.\"\"\"\n\n    url1 = ''.join(['https://identity.open.softlayer.com', '/v3/auth/tokens'])\n    data = {'auth': {'identity': {'methods': ['password'],\n            'password': {'user': {'name': 'member_bf2b79002e2f945583a88d49bdccac9b516fdec6','domain': {'id': '78a6389428974e79aa679e33dc7dc070'},\n            'password': 'pQ,Mqd4X1A(VmP(s'}}}}}\n    headers1 = {'Content-Type': 'application/json'}\n    resp1 = requests.post(url=url1, data=json.dumps(data), headers=headers1)\n    resp1_body = resp1.json()\n    for e1 in resp1_body['token']['catalog']:\n        if(e1['type']=='object-store'):\n            for e2 in e1['endpoints']:\n                        if(e2['interface']=='public'and e2['region']=='dallas'):\n                            url2 = ''.join([e2['url'],'/', container, '/', filename])\n    s_subject_token = resp1.headers['x-subject-token']\n    headers2 = {'X-Auth-Token': s_subject_token, 'accept': 'application/json'}\n    resp2 = requests.get(url=url2, headers=headers2)\n    return StringIO(resp2.text)\n\ndf = pd.read_csv(get_object_storage_file_with_credentials_b0229f57d26048ebbeee34c5e21b1aaf('BigDataRealTimecomPythooneSpark', 'taxis_bikes_nycity.csv'),parse_dates=[\"Data\"])\ndf.head()\n", 
            "execution_count": 15, 
            "cell_type": "code", 
            "outputs": [
                {
                    "metadata": {}, 
                    "output_type": "execute_result", 
                    "data": {
                        "text/plain": "        Data  Distancia Tempo\n0 2015-08-02       1.70   NaN\n1 2015-08-03       1.40   NaN\n2 2015-08-04       2.10   NaN\n3 2015-08-06       2.38   NaN\n4 2015-08-07       2.30   NaN", 
                        "text/html": "<div>\n<table border=\"1\" class=\"dataframe\">\n  <thead>\n    <tr style=\"text-align: right;\">\n      <th></th>\n      <th>Data</th>\n      <th>Distancia</th>\n      <th>Tempo</th>\n    </tr>\n  </thead>\n  <tbody>\n    <tr>\n      <th>0</th>\n      <td>2015-08-02</td>\n      <td>1.70</td>\n      <td>NaN</td>\n    </tr>\n    <tr>\n      <th>1</th>\n      <td>2015-08-03</td>\n      <td>1.40</td>\n      <td>NaN</td>\n    </tr>\n    <tr>\n      <th>2</th>\n      <td>2015-08-04</td>\n      <td>2.10</td>\n      <td>NaN</td>\n    </tr>\n    <tr>\n      <th>3</th>\n      <td>2015-08-06</td>\n      <td>2.38</td>\n      <td>NaN</td>\n    </tr>\n    <tr>\n      <th>4</th>\n      <td>2015-08-07</td>\n      <td>2.30</td>\n      <td>NaN</td>\n    </tr>\n  </tbody>\n</table>\n</div>"
                    }, 
                    "execution_count": 15
                }
            ]
        }, 
        {
            "metadata": {
                "collapsed": false
            }, 
            "source": "df.dtypes", 
            "execution_count": 16, 
            "cell_type": "code", 
            "outputs": [
                {
                    "metadata": {}, 
                    "output_type": "execute_result", 
                    "data": {
                        "text/plain": "Data         datetime64[ns]\nDistancia           float64\nTempo                object\ndtype: object"
                    }, 
                    "execution_count": 16
                }
            ]
        }, 
        {
            "metadata": {
                "collapsed": false
            }, 
            "source": "df.columns", 
            "execution_count": 13, 
            "cell_type": "code", 
            "outputs": [
                {
                    "metadata": {}, 
                    "output_type": "execute_result", 
                    "data": {
                        "text/plain": "Index(['Data', 'Distancia', 'Tempo'], dtype='object')"
                    }, 
                    "execution_count": 13
                }
            ]
        }, 
        {
            "metadata": {
                "collapsed": false
            }, 
            "source": "df.index", 
            "execution_count": 14, 
            "cell_type": "code", 
            "outputs": [
                {
                    "metadata": {}, 
                    "output_type": "execute_result", 
                    "data": {
                        "text/plain": "RangeIndex(start=0, stop=81, step=1)"
                    }, 
                    "execution_count": 14
                }
            ]
        }, 
        {
            "metadata": {
                "collapsed": false
            }, 
            "source": "df.set_index(\"Data\")", 
            "execution_count": 17, 
            "cell_type": "code", 
            "outputs": [
                {
                    "metadata": {}, 
                    "output_type": "execute_result", 
                    "data": {
                        "text/plain": "            Distancia    Tempo\nData                          \n2015-08-02       1.70      NaN\n2015-08-03       1.40      NaN\n2015-08-04       2.10      NaN\n2015-08-06       2.38      NaN\n2015-08-07       2.30      NaN\n2015-08-08       3.40      NaN\n2015-08-09       2.50      NaN\n2015-08-10       3.36  0:28:37\n2015-08-11       1.67  0:13:07\n2015-08-12       1.42  0:10:35\n2015-08-13       2.35  0:17:25\n2015-08-14       0.90  0:06:16\n2015-08-14       0.90  0:06:16\n2015-08-15       1.78      NaN\n2015-08-16       0.65      NaN\n2015-08-17       1.34      NaN\n2015-08-18       0.65      NaN\n2015-08-19       1.37      NaN\n2015-08-19       1.37      NaN\n2015-08-20       1.37  0:09:33\n2015-08-21       1.37  0:09:24\n2015-08-22       1.37  0:09:05\n2015-08-23       1.34      NaN\n2015-08-24       3.00      NaN\n2015-08-25       1.37  0:08:55\n2015-08-25       1.34      NaN\n2015-08-26       1.37  0:10:30\n2015-08-27       2.50  0:25:00\n2015-08-29       5.00  0:43:27\n2015-09-02       2.00      NaN\n...               ...      ...\n2015-10-25       2.00      NaN\n2015-10-31       2.01      NaN\n2015-11-02       1.37  0:08:43\n2015-11-03       5.30  0:39:26\n2015-11-04       3.05  0:22:12\n2015-11-07       5.63  0:49:05\n2015-11-07       1.26      NaN\n2015-11-07       1.20      NaN\n2015-11-09       3.05  0:22:36\n2015-11-10       1.50  0:09:00\n2015-11-10       1.50  0:11:33\n2015-11-10       4.00      NaN\n2015-11-23       3.05  0:22:35\n2015-11-27       1.00      NaN\n2015-11-28       3.00      NaN\n2015-12-09       2.93  0:25:00\n2015-12-12       1.37  0:09:15\n2015-12-13       5.30  0:43:36\n2015-12-13       2.21  0:18:59\n2015-12-15       6.50  0:58:43\n2015-12-17      12.00  1:39:00\n2015-12-19       3.10  0:26:15\n2015-12-20      14.80  2:15:00\n2015-12-22       3.10  0:28:00\n2015-12-23       5.63  0:51:50\n2015-12-24       3.05  0:25:08\n2015-12-25      14.80  2:20:00\n2015-12-26       5.20      NaN\n2015-12-30       3.15  0:22:10\n2016-01-01      26.20  4:20:43\n\n[81 rows x 2 columns]", 
                        "text/html": "<div>\n<table border=\"1\" class=\"dataframe\">\n  <thead>\n    <tr style=\"text-align: right;\">\n      <th></th>\n      <th>Distancia</th>\n      <th>Tempo</th>\n    </tr>\n    <tr>\n      <th>Data</th>\n      <th></th>\n      <th></th>\n    </tr>\n  </thead>\n  <tbody>\n    <tr>\n      <th>2015-08-02</th>\n      <td>1.70</td>\n      <td>NaN</td>\n    </tr>\n    <tr>\n      <th>2015-08-03</th>\n      <td>1.40</td>\n      <td>NaN</td>\n    </tr>\n    <tr>\n      <th>2015-08-04</th>\n      <td>2.10</td>\n      <td>NaN</td>\n    </tr>\n    <tr>\n      <th>2015-08-06</th>\n      <td>2.38</td>\n      <td>NaN</td>\n    </tr>\n    <tr>\n      <th>2015-08-07</th>\n      <td>2.30</td>\n      <td>NaN</td>\n    </tr>\n    <tr>\n      <th>2015-08-08</th>\n      <td>3.40</td>\n      <td>NaN</td>\n    </tr>\n    <tr>\n      <th>2015-08-09</th>\n      <td>2.50</td>\n      <td>NaN</td>\n    </tr>\n    <tr>\n      <th>2015-08-10</th>\n      <td>3.36</td>\n      <td>0:28:37</td>\n    </tr>\n    <tr>\n      <th>2015-08-11</th>\n      <td>1.67</td>\n      <td>0:13:07</td>\n    </tr>\n    <tr>\n      <th>2015-08-12</th>\n      <td>1.42</td>\n      <td>0:10:35</td>\n    </tr>\n    <tr>\n      <th>2015-08-13</th>\n      <td>2.35</td>\n      <td>0:17:25</td>\n    </tr>\n    <tr>\n      <th>2015-08-14</th>\n      <td>0.90</td>\n      <td>0:06:16</td>\n    </tr>\n    <tr>\n      <th>2015-08-14</th>\n      <td>0.90</td>\n      <td>0:06:16</td>\n    </tr>\n    <tr>\n      <th>2015-08-15</th>\n      <td>1.78</td>\n      <td>NaN</td>\n    </tr>\n    <tr>\n      <th>2015-08-16</th>\n      <td>0.65</td>\n      <td>NaN</td>\n    </tr>\n    <tr>\n      <th>2015-08-17</th>\n      <td>1.34</td>\n      <td>NaN</td>\n    </tr>\n    <tr>\n      <th>2015-08-18</th>\n      <td>0.65</td>\n      <td>NaN</td>\n    </tr>\n    <tr>\n      <th>2015-08-19</th>\n      <td>1.37</td>\n      <td>NaN</td>\n    </tr>\n    <tr>\n      <th>2015-08-19</th>\n      <td>1.37</td>\n      <td>NaN</td>\n    </tr>\n    <tr>\n      <th>2015-08-20</th>\n      <td>1.37</td>\n      <td>0:09:33</td>\n    </tr>\n    <tr>\n      <th>2015-08-21</th>\n      <td>1.37</td>\n      <td>0:09:24</td>\n    </tr>\n    <tr>\n      <th>2015-08-22</th>\n      <td>1.37</td>\n      <td>0:09:05</td>\n    </tr>\n    <tr>\n      <th>2015-08-23</th>\n      <td>1.34</td>\n      <td>NaN</td>\n    </tr>\n    <tr>\n      <th>2015-08-24</th>\n      <td>3.00</td>\n      <td>NaN</td>\n    </tr>\n    <tr>\n      <th>2015-08-25</th>\n      <td>1.37</td>\n      <td>0:08:55</td>\n    </tr>\n    <tr>\n      <th>2015-08-25</th>\n      <td>1.34</td>\n      <td>NaN</td>\n    </tr>\n    <tr>\n      <th>2015-08-26</th>\n      <td>1.37</td>\n      <td>0:10:30</td>\n    </tr>\n    <tr>\n      <th>2015-08-27</th>\n      <td>2.50</td>\n      <td>0:25:00</td>\n    </tr>\n    <tr>\n      <th>2015-08-29</th>\n      <td>5.00</td>\n      <td>0:43:27</td>\n    </tr>\n    <tr>\n      <th>2015-09-02</th>\n      <td>2.00</td>\n      <td>NaN</td>\n    </tr>\n    <tr>\n      <th>...</th>\n      <td>...</td>\n      <td>...</td>\n    </tr>\n    <tr>\n      <th>2015-10-25</th>\n      <td>2.00</td>\n      <td>NaN</td>\n    </tr>\n    <tr>\n      <th>2015-10-31</th>\n      <td>2.01</td>\n      <td>NaN</td>\n    </tr>\n    <tr>\n      <th>2015-11-02</th>\n      <td>1.37</td>\n      <td>0:08:43</td>\n    </tr>\n    <tr>\n      <th>2015-11-03</th>\n      <td>5.30</td>\n      <td>0:39:26</td>\n    </tr>\n    <tr>\n      <th>2015-11-04</th>\n      <td>3.05</td>\n      <td>0:22:12</td>\n    </tr>\n    <tr>\n      <th>2015-11-07</th>\n      <td>5.63</td>\n      <td>0:49:05</td>\n    </tr>\n    <tr>\n      <th>2015-11-07</th>\n      <td>1.26</td>\n      <td>NaN</td>\n    </tr>\n    <tr>\n      <th>2015-11-07</th>\n      <td>1.20</td>\n      <td>NaN</td>\n    </tr>\n    <tr>\n      <th>2015-11-09</th>\n      <td>3.05</td>\n      <td>0:22:36</td>\n    </tr>\n    <tr>\n      <th>2015-11-10</th>\n      <td>1.50</td>\n      <td>0:09:00</td>\n    </tr>\n    <tr>\n      <th>2015-11-10</th>\n      <td>1.50</td>\n      <td>0:11:33</td>\n    </tr>\n    <tr>\n      <th>2015-11-10</th>\n      <td>4.00</td>\n      <td>NaN</td>\n    </tr>\n    <tr>\n      <th>2015-11-23</th>\n      <td>3.05</td>\n      <td>0:22:35</td>\n    </tr>\n    <tr>\n      <th>2015-11-27</th>\n      <td>1.00</td>\n      <td>NaN</td>\n    </tr>\n    <tr>\n      <th>2015-11-28</th>\n      <td>3.00</td>\n      <td>NaN</td>\n    </tr>\n    <tr>\n      <th>2015-12-09</th>\n      <td>2.93</td>\n      <td>0:25:00</td>\n    </tr>\n    <tr>\n      <th>2015-12-12</th>\n      <td>1.37</td>\n      <td>0:09:15</td>\n    </tr>\n    <tr>\n      <th>2015-12-13</th>\n      <td>5.30</td>\n      <td>0:43:36</td>\n    </tr>\n    <tr>\n      <th>2015-12-13</th>\n      <td>2.21</td>\n      <td>0:18:59</td>\n    </tr>\n    <tr>\n      <th>2015-12-15</th>\n      <td>6.50</td>\n      <td>0:58:43</td>\n    </tr>\n    <tr>\n      <th>2015-12-17</th>\n      <td>12.00</td>\n      <td>1:39:00</td>\n    </tr>\n    <tr>\n      <th>2015-12-19</th>\n      <td>3.10</td>\n      <td>0:26:15</td>\n    </tr>\n    <tr>\n      <th>2015-12-20</th>\n      <td>14.80</td>\n      <td>2:15:00</td>\n    </tr>\n    <tr>\n      <th>2015-12-22</th>\n      <td>3.10</td>\n      <td>0:28:00</td>\n    </tr>\n    <tr>\n      <th>2015-12-23</th>\n      <td>5.63</td>\n      <td>0:51:50</td>\n    </tr>\n    <tr>\n      <th>2015-12-24</th>\n      <td>3.05</td>\n      <td>0:25:08</td>\n    </tr>\n    <tr>\n      <th>2015-12-25</th>\n      <td>14.80</td>\n      <td>2:20:00</td>\n    </tr>\n    <tr>\n      <th>2015-12-26</th>\n      <td>5.20</td>\n      <td>NaN</td>\n    </tr>\n    <tr>\n      <th>2015-12-30</th>\n      <td>3.15</td>\n      <td>0:22:10</td>\n    </tr>\n    <tr>\n      <th>2016-01-01</th>\n      <td>26.20</td>\n      <td>4:20:43</td>\n    </tr>\n  </tbody>\n</table>\n<p>81 rows \u00d7 2 columns</p>\n</div>"
                    }, 
                    "execution_count": 17
                }
            ]
        }, 
        {
            "metadata": {
                "collapsed": true
            }, 
            "source": "", 
            "execution_count": null, 
            "cell_type": "code", 
            "outputs": []
        }
    ], 
    "nbformat": 4
}