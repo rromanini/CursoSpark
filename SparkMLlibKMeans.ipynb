{
    "metadata": {
        "kernelspec": {
            "language": "python", 
            "display_name": "Python 2 with Spark 2.0", 
            "name": "python2-spark20"
        }, 
        "language_info": {
            "name": "python", 
            "codemirror_mode": {
                "version": 2, 
                "name": "ipython"
            }, 
            "version": "2.7.11", 
            "mimetype": "text/x-python", 
            "file_extension": ".py", 
            "nbconvert_exporter": "python", 
            "pygments_lexer": "ipython2"
        }, 
        "anaconda-cloud": {}
    }, 
    "nbformat_minor": 0, 
    "cells": [
        {
            "metadata": {}, 
            "cell_type": "markdown", 
            "source": "# <font color='blue'>Data Science Academy Big Data Real-Time Analytics com Python e Spark</font>\n\n# <font color='blue'>Cap\u00edtulo 9</font>"
        }, 
        {
            "metadata": {}, 
            "cell_type": "markdown", 
            "source": "## <font color='blue'>Spark MLLib - Clustering - K-Means</font>"
        }, 
        {
            "metadata": {}, 
            "cell_type": "markdown", 
            "source": "<strong> Descri\u00e7\u00e3o </strong>\n<ul style=\"list-style-type:square\">\n  <li>Algoritmo N\u00e3o Supervisionado.</li>\n  <li>Agrupamento de Dados por Similaridade.</li>\n  <li>Particiona os dados em um n\u00famero \"k\" de clusters, sendo que cada observa\u00e7\u00e3o pertende a apenas um cluster.</li>\n  <li>A clusteriza\u00e7\u00e3o \u00e9 feita medindo a dist\u00e2ncia entre os pontos de dados e agrupando-os.</li>\n  <li>M\u00faltiplas medidas de dist\u00e2ncia podem ser usadas, como dist\u00e2ncia Euclidiana e dist\u00e2ncia Manhattan.</li>\n</ul>"
        }, 
        {
            "metadata": {}, 
            "cell_type": "markdown", 
            "source": "<dl>\n  <dt>Vantagens</dt>\n  <dd>- Veloz</dd>\n  <dd>- Eficiente quando se tem muitas vari\u00e1veis</dd>\n  <br />\n  <dt>Desvantagens</dt>\n  <dd>- O valor de K precisa ser conhecido</dd>\n  <dd>- O valor inicial de k tem influ\u00eancia nos clusters criados</dd>\n  <br />\n  <dt>Aplica\u00e7\u00e3o</dt>\n  <dd>- Agrupamento preliminar antes de se aplicar t\u00e9cnicas de classifica\u00e7\u00e3o</dd>\n  <dd>- Clusteriza\u00e7\u00e3o geogr\u00e1fica</dd>\n</dl>"
        }, 
        {
            "metadata": {
                "collapsed": true
            }, 
            "cell_type": "markdown", 
            "source": "## Agrupando autom\u00f3veis"
        }, 
        {
            "execution_count": 1, 
            "outputs": [], 
            "cell_type": "code", 
            "source": "import math\nfrom pyspark.sql import Row\nfrom pyspark.ml.linalg import Vectors\nfrom pyspark.ml.clustering import KMeans\nimport pandas as pd\nimport matplotlib.pylab as plt\n%matplotlib inline", 
            "metadata": {
                "collapsed": true
            }
        }, 
        {
            "execution_count": 2, 
            "outputs": [
                {
                    "output_type": "execute_result", 
                    "execution_count": 2, 
                    "data": {
                        "text/plain": "swift://CursoSpark.keystone/carros2.csv MapPartitionsRDD[1] at textFile at NativeMethodAccessorImpl.java:-2"
                    }, 
                    "metadata": {}
                }
            ], 
            "cell_type": "code", 
            "source": "\nfrom pyspark.sql import SparkSession\n\n# @hidden_cell\n# This function is used to setup the access of Spark to your Object Storage. The definition contains your credentials.\n# You might want to remove those credentials before you share your notebook.\ndef set_hadoop_config_with_credentials_f0d6ce325e0f4bc08812229b8d429dbe(name):\n    \"\"\"This function sets the Hadoop configuration so it is possible to\n    access data from Bluemix Object Storage using Spark\"\"\"\n\n    prefix = 'fs.swift.service.' + name\n    hconf = sc._jsc.hadoopConfiguration()\n    hconf.set(prefix + '.auth.url', 'https://identity.open.softlayer.com'+'/v3/auth/tokens')\n    hconf.set(prefix + '.auth.endpoint.prefix', 'endpoints')\n    hconf.set(prefix + '.tenant', '9a0cc60102244d368e96a83f25d4ca89')\n    hconf.set(prefix + '.username', '0caf8026c98a4342ac027a05416e6dee')\n    hconf.set(prefix + '.password', 'D[Cvr1bgf9DM^I{C')\n    hconf.setInt(prefix + '.http.port', 8080)\n    hconf.set(prefix + '.region', 'dallas')\n    hconf.setBoolean(prefix + '.public', False)\n\n# you can choose any name\nname = 'keystone'\nset_hadoop_config_with_credentials_f0d6ce325e0f4bc08812229b8d429dbe(name)\n\nspark = SparkSession.builder.getOrCreate()\n\n#df_data_1 = spark.read\\\n#  .format('org.apache.spark.sql.execution.datasources.csv.CSVFileFormat')\\\n#  .option('header', 'true')\\\n#  .load('swift://CursoSpark.' + name + '/carros2.csv')\n\n# Carregando os dados e gerando um RDD\ncarrosRDD = sc.textFile('swift://CursoSpark.' + name + '/carros2.csv')\ncarrosRDD.cache()", 
            "metadata": {
                "collapsed": false
            }
        }, 
        {
            "execution_count": 3, 
            "outputs": [
                {
                    "output_type": "execute_result", 
                    "execution_count": 3, 
                    "data": {
                        "text/plain": "[u'MAKE,FUELTYPE,ASPIRE,DOORS,BODY,DRIVE,CYLINDERS,HP,RPM,MPG-CITY,MPG-HWY,PRICE',\n u'subaru,gas,std,two,hatchback,fwd,four,69,4900,31,36,5118',\n u'chevrolet,gas,std,two,hatchback,fwd,three,48,5100,47,53,5151',\n u'mazda,gas,std,two,hatchback,fwd,four,68,5000,30,31,5195',\n u'toyota,gas,std,two,hatchback,fwd,four,62,4800,35,39,5348']"
                    }, 
                    "metadata": {}
                }
            ], 
            "cell_type": "code", 
            "source": "carrosRDD.take(5)", 
            "metadata": {
                "collapsed": false
            }
        }, 
        {
            "execution_count": 4, 
            "outputs": [
                {
                    "output_type": "execute_result", 
                    "execution_count": 4, 
                    "data": {
                        "text/plain": "197"
                    }, 
                    "metadata": {}
                }
            ], 
            "cell_type": "code", 
            "source": "# Removendo a primeira linha do arquivo (cabe\u00e7alho)\nprimeiraLinha = carrosRDD.first()\ncarrosRDD2 = carrosRDD.filter(lambda x: x != primeiraLinha)\ncarrosRDD2.count()", 
            "metadata": {
                "collapsed": false
            }
        }, 
        {
            "execution_count": 6, 
            "outputs": [
                {
                    "output_type": "execute_result", 
                    "execution_count": 6, 
                    "data": {
                        "text/plain": "[u'subaru,gas,std,two,hatchback,fwd,four,69,4900,31,36,5118',\n u'chevrolet,gas,std,two,hatchback,fwd,three,48,5100,47,53,5151',\n u'mazda,gas,std,two,hatchback,fwd,four,68,5000,30,31,5195',\n u'toyota,gas,std,two,hatchback,fwd,four,62,4800,35,39,5348',\n u'mitsubishi,gas,std,two,hatchback,fwd,four,68,5500,37,41,5389']"
                    }, 
                    "metadata": {}
                }
            ], 
            "cell_type": "code", 
            "source": "carrosRDD2.take(5)", 
            "metadata": {
                "collapsed": false
            }
        }, 
        {
            "execution_count": 7, 
            "outputs": [], 
            "cell_type": "code", 
            "source": "# Convertendo e limpando os dados\ndef transformToNumeric( inputStr) :\n    attList = inputStr.split(\",\")\n\n    doors = 1.0 if attList[3] == \"two\" else 2.0\n    body = 1.0 if attList[4] == \"sedan\" else 2.0 \n       \n    linhas = Row(DOORS = doors, BODY = float(body), HP = float(attList[7]), RPM = float(attList[8]),\n                 MPG = float(attList[9]))\n    return linhas", 
            "metadata": {
                "collapsed": true
            }
        }, 
        {
            "execution_count": 8, 
            "outputs": [
                {
                    "output_type": "execute_result", 
                    "execution_count": 8, 
                    "data": {
                        "text/plain": "[Row(BODY=2.0, DOORS=1.0, HP=69.0, MPG=31.0, RPM=4900.0),\n Row(BODY=2.0, DOORS=1.0, HP=48.0, MPG=47.0, RPM=5100.0),\n Row(BODY=2.0, DOORS=1.0, HP=68.0, MPG=30.0, RPM=5000.0),\n Row(BODY=2.0, DOORS=1.0, HP=62.0, MPG=35.0, RPM=4800.0),\n Row(BODY=2.0, DOORS=1.0, HP=68.0, MPG=37.0, RPM=5500.0)]"
                    }, 
                    "metadata": {}
                }
            ], 
            "cell_type": "code", 
            "source": "# Aplicando a fun\u00e7\u00e3o\ncarrosRDD3 = carrosRDD2.map(transformToNumeric)\ncarrosRDD3.persist()\ncarrosRDD3.take(5)", 
            "metadata": {
                "collapsed": false, 
                "scrolled": false
            }
        }, 
        {
            "execution_count": 9, 
            "outputs": [
                {
                    "output_type": "stream", 
                    "name": "stdout", 
                    "text": "+----+-----+----+----+------+\n|BODY|DOORS|  HP| MPG|   RPM|\n+----+-----+----+----+------+\n| 2.0|  1.0|69.0|31.0|4900.0|\n| 2.0|  1.0|48.0|47.0|5100.0|\n| 2.0|  1.0|68.0|30.0|5000.0|\n| 2.0|  1.0|62.0|35.0|4800.0|\n| 2.0|  1.0|68.0|37.0|5500.0|\n| 2.0|  1.0|60.0|38.0|5500.0|\n| 1.0|  1.0|69.0|31.0|5200.0|\n| 2.0|  1.0|68.0|37.0|5500.0|\n| 2.0|  1.0|68.0|37.0|5500.0|\n| 2.0|  1.0|68.0|31.0|5000.0|\n| 2.0|  1.0|68.0|31.0|5500.0|\n| 2.0|  2.0|68.0|31.0|5500.0|\n| 2.0|  2.0|68.0|31.0|5500.0|\n| 2.0|  1.0|70.0|38.0|5400.0|\n| 2.0|  1.0|62.0|31.0|4800.0|\n| 2.0|  1.0|68.0|31.0|5500.0|\n| 2.0|  1.0|58.0|49.0|4800.0|\n| 2.0|  2.0|62.0|31.0|4800.0|\n| 2.0|  1.0|76.0|30.0|6000.0|\n| 1.0|  2.0|70.0|38.0|5400.0|\n+----+-----+----+----+------+\nonly showing top 20 rows\n\n"
                }
            ], 
            "cell_type": "code", 
            "source": "# Criando um Dataframe\ncarrosDF = spark.createDataFrame(carrosRDD3)\ncarrosDF.show()", 
            "metadata": {
                "collapsed": false
            }
        }, 
        {
            "execution_count": 10, 
            "outputs": [], 
            "cell_type": "code", 
            "source": "# Sumarizando os dados e extraindo a m\u00e9dia e o desvio padr\u00e3o\nestats = carrosDF.describe().toPandas()\nmedias = estats.iloc[1,1:5].values.tolist()\ndesvios = estats.iloc[2,1:5].values.tolist()", 
            "metadata": {
                "collapsed": false
            }
        }, 
        {
            "execution_count": 11, 
            "outputs": [], 
            "cell_type": "code", 
            "source": "# Colocando a m\u00e9dia e o desvio padr\u00e3o e vari\u00e1ves do tipo Broadcast\nbc_media = sc.broadcast(medias)\nbc_desvio = sc.broadcast(desvios)", 
            "metadata": {
                "collapsed": true
            }
        }, 
        {
            "execution_count": 12, 
            "outputs": [], 
            "cell_type": "code", 
            "source": "# Fun\u00e7\u00e3o para centralizar e aplicar escala aos dados. Cada valor ser\u00e1 subtra\u00eddo da m\u00e9dia ent\u00e3o dividido pelo desvio padr\u00e3o\ndef centerAndScale(inRow) :\n    global bc_media\n    global bc_desvio\n    \n    meanArray = bc_media.value\n    stdArray = bc_desvio.value\n\n    retArray = []\n    \n    for i in range(len(meanArray)):\n        retArray.append( (float(inRow[i]) - float(meanArray[i])) / float(stdArray[i]) )\n    return Vectors.dense(retArray)", 
            "metadata": {
                "collapsed": true
            }
        }, 
        {
            "execution_count": 13, 
            "outputs": [
                {
                    "output_type": "execute_result", 
                    "execution_count": 13, 
                    "data": {
                        "text/plain": "[DenseVector([0.9337, -1.145, -0.9194, 0.9083]),\n DenseVector([0.9337, -1.145, -1.4773, 3.3936]),\n DenseVector([0.9337, -1.145, -0.9459, 0.753]),\n DenseVector([0.9337, -1.145, -1.1053, 1.5297]),\n DenseVector([0.9337, -1.145, -0.9459, 1.8403]),\n DenseVector([0.9337, -1.145, -1.1585, 1.9956]),\n DenseVector([-1.0656, -1.145, -0.9194, 0.9083]),\n DenseVector([0.9337, -1.145, -0.9459, 1.8403]),\n DenseVector([0.9337, -1.145, -0.9459, 1.8403]),\n DenseVector([0.9337, -1.145, -0.9459, 0.9083]),\n DenseVector([0.9337, -1.145, -0.9459, 0.9083]),\n DenseVector([0.9337, 0.869, -0.9459, 0.9083]),\n DenseVector([0.9337, 0.869, -0.9459, 0.9083]),\n DenseVector([0.9337, -1.145, -0.8928, 1.9956]),\n DenseVector([0.9337, -1.145, -1.1053, 0.9083]),\n DenseVector([0.9337, -1.145, -0.9459, 0.9083]),\n DenseVector([0.9337, -1.145, -1.2116, 3.7043]),\n DenseVector([0.9337, 0.869, -1.1053, 0.9083]),\n DenseVector([0.9337, -1.145, -0.7334, 0.753]),\n DenseVector([-1.0656, 0.869, -0.8928, 1.9956]),\n DenseVector([-1.0656, -1.145, -0.9194, 0.9083]),\n DenseVector([0.9337, -1.145, -0.9459, 0.9083]),\n DenseVector([-1.0656, 0.869, -0.9459, 0.9083]),\n DenseVector([-1.0656, 0.869, -0.9459, 0.9083]),\n DenseVector([-1.0656, 0.869, -0.9459, 0.9083]),\n DenseVector([-1.0656, 0.869, -0.6802, -0.179]),\n DenseVector([0.9337, -1.145, -0.9459, 0.9083]),\n DenseVector([-1.0656, 0.869, -0.9194, 0.9083]),\n DenseVector([0.9337, -1.145, -0.7334, 0.9083]),\n DenseVector([0.9337, 0.869, -1.1053, 0.9083]),\n DenseVector([-1.0656, 0.869, -0.8928, 0.753]),\n DenseVector([-1.0656, 0.869, -0.4146, -0.0237]),\n DenseVector([0.9337, -1.145, -0.8131, 0.1317]),\n DenseVector([-1.0656, -1.145, -1.2913, 3.083]),\n DenseVector([-1.0656, 0.869, -0.574, 1.0637]),\n DenseVector([0.9337, -1.145, -0.7334, 0.753]),\n DenseVector([0.9337, 0.869, -0.8928, 0.753]),\n DenseVector([-1.0656, 0.869, -0.7334, 0.753]),\n DenseVector([0.9337, 0.869, -0.7334, 0.753]),\n DenseVector([-1.0656, -1.145, -0.9194, 0.9083]),\n DenseVector([0.9337, 0.869, -0.9194, 0.9083]),\n DenseVector([-1.0656, 0.869, -0.9459, 0.9083]),\n DenseVector([0.9337, 0.869, -0.574, 0.4423]),\n DenseVector([-1.0656, 0.869, -0.9194, 0.9083]),\n DenseVector([0.9337, -1.145, -0.8131, 0.1317]),\n DenseVector([-1.0656, 0.869, -0.9459, 0.9083]),\n DenseVector([-1.0656, 0.869, -0.9459, 0.9083]),\n DenseVector([0.9337, -1.145, -0.0426, -0.179]),\n DenseVector([-1.0656, 0.869, -0.8928, 1.9956]),\n DenseVector([-1.0656, 0.869, -0.574, 0.4423]),\n DenseVector([-1.0656, -1.145, -1.371, 1.8403]),\n DenseVector([0.9337, 0.869, -1.2647, 1.9956]),\n DenseVector([0.9337, -1.145, -0.9194, 0.9083]),\n DenseVector([0.9337, -1.145, -0.4677, 0.287]),\n DenseVector([0.9337, 0.869, -1.1053, 0.287]),\n DenseVector([-1.0656, 0.869, -1.2647, 1.3743]),\n DenseVector([0.9337, -1.145, -0.0426, -0.179]),\n DenseVector([0.9337, -1.145, -0.0426, -0.179]),\n DenseVector([-1.0656, -1.145, -0.4943, 0.287]),\n DenseVector([-1.0656, 0.869, -1.371, 1.8403]),\n DenseVector([0.9337, 0.869, -0.9194, 0.9083]),\n DenseVector([0.9337, 0.869, -0.574, -0.3343]),\n DenseVector([-1.0656, -1.145, -0.8928, 0.5977]),\n DenseVector([-1.0656, 0.869, -0.4146, -0.0237]),\n DenseVector([-1.0656, 0.869, -0.4943, 0.287]),\n DenseVector([0.9337, -1.145, -0.8928, 0.5977]),\n DenseVector([0.9337, -1.145, -0.9194, 0.9083]),\n DenseVector([0.9337, 0.869, -0.8928, 0.4423]),\n DenseVector([0.9337, -1.145, 0.3293, -0.179]),\n DenseVector([-1.0656, 0.869, -0.5208, 0.1317]),\n DenseVector([-1.0656, 0.869, -0.4943, 0.287]),\n DenseVector([0.9337, -1.145, -0.4146, -0.0237]),\n DenseVector([0.9337, 0.869, -1.1053, 0.287]),\n DenseVector([-1.0656, 0.869, -0.4677, 0.287]),\n DenseVector([0.9337, -1.145, -0.5208, 0.1317]),\n DenseVector([0.9337, 0.869, -0.4146, -0.179]),\n DenseVector([0.9337, 0.869, -0.4146, -0.179]),\n DenseVector([-1.0656, 0.869, -0.3083, 0.5977]),\n DenseVector([0.9337, 0.869, -0.1755, 0.287]),\n DenseVector([0.9337, -1.145, -0.4677, 0.287]),\n DenseVector([-1.0656, 0.869, -0.574, -0.179]),\n DenseVector([-1.0656, 0.869, -0.8928, 0.4423]),\n DenseVector([-1.0656, 0.869, 0.3293, -0.3343]),\n DenseVector([-1.0656, 0.869, 0.3293, -0.3343]),\n DenseVector([-1.0656, -1.145, 0.2231, 0.1317]),\n DenseVector([-1.0656, 0.869, -0.9459, 1.8403]),\n DenseVector([0.9337, -1.145, 0.2231, 0.1317]),\n DenseVector([-1.0656, 0.869, -0.1755, 0.287]),\n DenseVector([0.9337, -1.145, 0.3293, -0.179]),\n DenseVector([0.9337, -1.145, 0.3293, -0.3343]),\n DenseVector([-1.0656, 0.869, -0.2552, 0.1317]),\n DenseVector([0.9337, -1.145, -0.3614, -0.179]),\n DenseVector([0.9337, 0.869, -0.3083, 0.287]),\n DenseVector([0.9337, -1.145, 0.3293, -0.179]),\n DenseVector([-1.0656, 0.869, -0.0958, 0.1317]),\n DenseVector([0.9337, 0.869, -0.2552, -0.0237]),\n DenseVector([-1.0656, 0.869, -0.5208, 0.1317]),\n DenseVector([-1.0656, 0.869, -0.4677, 0.287]),\n DenseVector([-1.0656, -1.145, -0.0958, -0.0237]),\n DenseVector([0.9337, -1.145, -0.5208, 0.1317]),\n DenseVector([-1.0656, 0.869, -0.8131, 0.753]),\n DenseVector([-1.0656, 0.869, -0.3083, 0.287]),\n DenseVector([0.9337, -1.145, -0.0692, -1.2663]),\n DenseVector([0.9337, -1.145, -0.3614, -0.179]),\n DenseVector([0.9337, -1.145, 0.3293, -0.179]),\n DenseVector([0.9337, 0.869, -0.5208, 0.1317]),\n DenseVector([0.9337, 0.869, -0.3083, 0.287]),\n DenseVector([-1.0656, 0.869, 0.1965, -0.179]),\n DenseVector([0.9337, -1.145, 0.3293, -0.179]),\n DenseVector([0.9337, -1.145, -0.3614, -0.179]),\n DenseVector([0.9337, 0.869, 0.1965, -0.3343]),\n DenseVector([0.9337, -1.145, -0.0692, -1.2663]),\n DenseVector([0.9337, -1.145, 0.1699, -0.645]),\n DenseVector([-1.0656, 0.869, -0.1755, -0.9556]),\n DenseVector([-1.0656, 0.869, 0.1699, -0.645]),\n DenseVector([0.9337, 0.869, -0.4146, -0.0237]),\n DenseVector([0.9337, 0.869, -0.1755, -0.9556]),\n DenseVector([0.9337, -1.145, 1.0998, -0.9556]),\n DenseVector([0.9337, -1.145, 1.0998, -0.9556]),\n DenseVector([-1.0656, 0.869, 0.2762, -0.3343]),\n DenseVector([-1.0656, 0.869, -0.0692, -0.179]),\n DenseVector([0.9337, -1.145, 1.0998, -0.9556]),\n DenseVector([-1.0656, 0.869, -0.2286, 0.4423]),\n DenseVector([-1.0656, 0.869, 0.1699, -0.9556]),\n DenseVector([0.9337, 0.869, 0.2762, -0.3343]),\n DenseVector([0.9337, -1.145, 0.1965, -0.645]),\n DenseVector([-1.0656, 0.869, 1.2858, -1.2663]),\n DenseVector([-1.0656, 0.869, 1.2858, -0.9556]),\n DenseVector([0.9337, -1.145, -0.0692, -1.2663]),\n DenseVector([-1.0656, 0.869, -0.9459, 1.219]),\n DenseVector([0.9337, 0.869, -0.2286, -0.0237]),\n DenseVector([-1.0656, 0.869, -0.0426, -0.179]),\n DenseVector([0.9337, 0.869, 1.2858, -1.2663]),\n DenseVector([0.9337, -1.145, 1.0998, -0.9556]),\n DenseVector([0.9337, -1.145, 1.0998, -0.9556]),\n DenseVector([0.9337, -1.145, 0.1699, -0.645]),\n DenseVector([-1.0656, -1.145, 0.1699, -0.9556]),\n DenseVector([-1.0656, 0.869, 0.1699, -0.645]),\n DenseVector([-1.0656, 0.869, -0.2286, -0.9556]),\n DenseVector([0.9337, -1.145, 0.8341, -1.4216]),\n DenseVector([-1.0656, 0.869, 1.3921, -0.8003]),\n DenseVector([0.9337, 0.869, 1.3921, -0.9556]),\n DenseVector([-1.0656, 0.869, 0.2762, -0.179]),\n DenseVector([0.9337, -1.145, 1.5249, -0.9556]),\n DenseVector([-1.0656, -1.145, -0.0692, -0.3343]),\n DenseVector([0.9337, -1.145, 0.1965, -0.645]),\n DenseVector([0.9337, -1.145, 1.3389, -0.9556]),\n DenseVector([0.9337, -1.145, 1.8969, -0.9556]),\n DenseVector([0.9337, 0.869, 0.2762, -0.179]),\n DenseVector([0.9337, -1.145, 1.5249, -0.8003]),\n DenseVector([-1.0656, 0.869, -0.1755, -0.9556]),\n DenseVector([0.9337, 0.869, -0.2286, -0.9556]),\n DenseVector([-1.0656, 0.869, 0.2762, -0.3343]),\n DenseVector([-1.0656, 0.869, -0.2286, 0.4423]),\n DenseVector([-1.0656, 0.869, -0.0692, -0.3343]),\n DenseVector([0.9337, 0.869, -0.2286, -0.0237]),\n DenseVector([0.9337, -1.145, 1.4983, -0.9556]),\n DenseVector([-1.0656, 0.869, 0.3028, -1.111]),\n DenseVector([0.9337, -1.145, 0.3293, -0.179]),\n DenseVector([-1.0656, 0.869, 0.1699, -0.9556]),\n DenseVector([-1.0656, 0.869, -0.2286, 0.4423]),\n DenseVector([-1.0656, 0.869, 1.0201, -1.111]),\n DenseVector([0.9337, -1.145, 1.4983, -0.9556]),\n DenseVector([-1.0656, 0.869, 0.4356, -0.9556]),\n DenseVector([-1.0656, 0.869, -0.8397, 0.9083]),\n DenseVector([0.9337, -1.145, 1.4983, -0.9556]),\n DenseVector([-1.0656, 0.869, 1.5515, -1.2663]),\n DenseVector([-1.0656, 0.869, 1.4983, -0.9556]),\n DenseVector([0.9337, 0.869, 0.1699, -0.9556]),\n DenseVector([0.9337, 0.869, 1.5515, -1.2663]),\n DenseVector([-1.0656, 0.869, 1.4983, -0.9556]),\n DenseVector([0.9337, -1.145, 2.5611, -1.2663]),\n DenseVector([-1.0656, -1.145, 0.4622, -0.645]),\n DenseVector([-1.0656, 0.869, 0.4622, -0.645]),\n DenseVector([-1.0656, 0.869, 0.8076, -1.111]),\n DenseVector([0.9337, -1.145, 1.0467, -0.9556]),\n DenseVector([-1.0656, 0.869, 0.0637, 0.1317]),\n DenseVector([-1.0656, 0.869, 0.2762, -0.9556]),\n DenseVector([-1.0656, 0.869, 0.967, -1.2663]),\n DenseVector([-1.0656, 0.869, 0.4622, -0.8003]),\n DenseVector([-1.0656, 0.869, 0.5153, -0.4896]),\n DenseVector([0.9337, -1.145, 0.5153, -0.4896]),\n DenseVector([0.9337, 0.869, 0.5153, -0.4896]),\n DenseVector([-1.0656, 0.869, 2.0828, -1.4216]),\n DenseVector([-1.0656, 0.869, 0.5153, -0.4896]),\n DenseVector([-1.0656, 0.869, 1.9234, -1.577]),\n DenseVector([0.9337, -1.145, 2.747, -1.2663]),\n DenseVector([0.9337, -1.145, 2.747, -1.2663]),\n DenseVector([-1.0656, 0.869, 1.3655, -1.4216]),\n DenseVector([0.9337, -1.145, 1.3655, -1.4216]),\n DenseVector([-1.0656, 0.869, 1.9234, -1.577]),\n DenseVector([-1.0656, -1.145, 4.2083, -1.8876]),\n DenseVector([-1.0656, 0.869, 2.0828, -1.577]),\n DenseVector([0.9337, -1.145, 2.747, -1.2663]),\n DenseVector([-1.0656, 0.869, 2.136, -1.7323]),\n DenseVector([-1.0656, -1.145, 2.0828, -1.4216]),\n DenseVector([0.9337, -1.145, 2.136, -1.7323])]"
                    }, 
                    "metadata": {}
                }
            ], 
            "cell_type": "code", 
            "source": "carrosRDD4 = carrosDF.rdd.map(centerAndScale)\ncarrosRDD4.collect()", 
            "metadata": {
                "collapsed": false
            }
        }, 
        {
            "execution_count": 14, 
            "outputs": [
                {
                    "output_type": "stream", 
                    "name": "stdout", 
                    "text": "+--------------------+\n|            features|\n+--------------------+\n|[0.93367168148051...|\n|[0.93367168148051...|\n|[0.93367168148051...|\n|[0.93367168148051...|\n|[0.93367168148051...|\n|[0.93367168148051...|\n|[-1.0656035495158...|\n|[0.93367168148051...|\n|[0.93367168148051...|\n|[0.93367168148051...|\n+--------------------+\nonly showing top 10 rows\n\n"
                }
            ], 
            "cell_type": "code", 
            "source": "# Criando um Dataframe\ncarrosRDD5 = carrosRDD4.map( lambda f:Row(features = f))\ncarrosDF = spark.createDataFrame(carrosRDD5)\ncarrosDF.select(\"features\").show(10)", 
            "metadata": {
                "collapsed": false
            }
        }, 
        {
            "execution_count": 15, 
            "outputs": [], 
            "cell_type": "code", 
            "source": "# Criando o modelo\nkmeans = KMeans(k = 3, seed = 1)\nmodelo = kmeans.fit(carrosDF)", 
            "metadata": {
                "collapsed": false
            }
        }, 
        {
            "execution_count": 16, 
            "outputs": [
                {
                    "output_type": "stream", 
                    "name": "stdout", 
                    "text": "+--------------------+----------+\n|            features|prediction|\n+--------------------+----------+\n|[0.93367168148051...|         0|\n|[0.93367168148051...|         0|\n|[0.93367168148051...|         0|\n|[0.93367168148051...|         0|\n|[0.93367168148051...|         0|\n|[0.93367168148051...|         0|\n|[-1.0656035495158...|         0|\n|[0.93367168148051...|         0|\n|[0.93367168148051...|         0|\n|[0.93367168148051...|         0|\n|[0.93367168148051...|         0|\n|[0.93367168148051...|         0|\n|[0.93367168148051...|         0|\n|[0.93367168148051...|         0|\n|[0.93367168148051...|         0|\n|[0.93367168148051...|         0|\n|[0.93367168148051...|         0|\n|[0.93367168148051...|         0|\n|[0.93367168148051...|         0|\n|[-1.0656035495158...|         2|\n+--------------------+----------+\nonly showing top 20 rows\n\n"
                }
            ], 
            "cell_type": "code", 
            "source": "# Previs\u00f5es\nprevisoes = modelo.transform(carrosDF)\nprevisoes.show()", 
            "metadata": {
                "collapsed": false
            }
        }, 
        {
            "execution_count": 17, 
            "outputs": [], 
            "cell_type": "code", 
            "source": "def unstripData(instr) :\n    return (instr[\"prediction\"], instr[\"features\"][0], instr[\"features\"][1], instr[\"features\"][2], instr[\"features\"][3])", 
            "metadata": {
                "collapsed": true
            }
        }, 
        {
            "execution_count": 18, 
            "outputs": [], 
            "cell_type": "code", 
            "source": "carrosRDD6 = previsoes.rdd.map(unstripData)\npredList = carrosRDD6.collect()\npredPd = pd.DataFrame(predList)", 
            "metadata": {
                "collapsed": false
            }
        }, 
        {
            "execution_count": 19, 
            "outputs": [
                {
                    "output_type": "execute_result", 
                    "execution_count": 19, 
                    "data": {
                        "text/plain": "<matplotlib.collections.PathCollection at 0x7fec36967110>"
                    }, 
                    "metadata": {}
                }, 
                {
                    "output_type": "display_data", 
                    "metadata": {}, 
                    "data": {
                        "text/plain": "<matplotlib.figure.Figure at 0x7fec39030490>", 
                        "image/png": "[encoded data removed]"
                    }
                }
            ], 
            "cell_type": "code", 
            "source": "# Gr\u00e1fico com o resultados dos clusters criados\nplt.cla()\nplt.scatter(predPd[3], predPd[4], c = predPd[0])", 
            "metadata": {
                "collapsed": false
            }
        }, 
        {
            "metadata": {}, 
            "cell_type": "markdown", 
            "source": "# Fim"
        }, 
        {
            "metadata": {}, 
            "cell_type": "markdown", 
            "source": "### Obrigado - Data Science Academy - <a href=http://facebook.com/dsacademy>facebook.com/dsacademybr</a>"
        }
    ], 
    "nbformat": 4
}