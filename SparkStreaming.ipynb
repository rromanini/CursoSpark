{
    "nbformat_minor": 0, 
    "metadata": {
        "language_info": {
            "codemirror_mode": {
                "name": "ipython", 
                "version": 3
            }, 
            "version": "3.5.2", 
            "file_extension": ".py", 
            "name": "python", 
            "nbconvert_exporter": "python", 
            "mimetype": "text/x-python", 
            "pygments_lexer": "ipython3"
        }, 
        "kernelspec": {
            "name": "python3-spark20", 
            "display_name": "Python 3.5 (Experimental) with Spark 2.0", 
            "language": "python"
        }
    }, 
    "nbformat": 4, 
    "cells": [
        {
            "metadata": {
                "collapsed": true
            }, 
            "source": "# Spark Streaming com Twitter", 
            "cell_type": "markdown"
        }, 
        {
            "source": "!pip install requests_oauthlib", 
            "metadata": {
                "collapsed": false
            }, 
            "cell_type": "code", 
            "execution_count": 4, 
            "outputs": [
                {
                    "name": "stdout", 
                    "output_type": "stream", 
                    "text": "Collecting requests_oauthlib\n  Downloading requests_oauthlib-0.8.0-py2.py3-none-any.whl\nRequirement already satisfied (use --upgrade to upgrade): requests>=2.0.0 in /usr/local/src/conda3_runtime.v9/4.1.1/lib/python3.5/site-packages (from requests_oauthlib)\nCollecting oauthlib>=0.6.2 (from requests_oauthlib)\n  Downloading oauthlib-2.0.2.tar.gz (125kB)\n\u001b[K    100% |\u2588\u2588\u2588\u2588\u2588\u2588\u2588\u2588\u2588\u2588\u2588\u2588\u2588\u2588\u2588\u2588\u2588\u2588\u2588\u2588\u2588\u2588\u2588\u2588\u2588\u2588\u2588\u2588\u2588\u2588\u2588\u2588| 133kB 4.8MB/s \n\u001b[?25hBuilding wheels for collected packages: oauthlib\n  Running setup.py bdist_wheel for oauthlib ... \u001b[?25l-\b \b\\\b \bdone\n\u001b[?25h  Stored in directory: /gpfs/fs01/user/sf2f-8f4bf40bb9b7e1-6bd8badf036a/.cache/pip/wheels/84/98/7a/fba7268f61097bea6081cbe5480bc439b38975748ea7684fd5\nSuccessfully built oauthlib\nInstalling collected packages: oauthlib, requests-oauthlib\nSuccessfully installed oauthlib-2.0.2 requests-oauthlib-0.8.0\n"
                }
            ]
        }, 
        {
            "source": "from pyspark.streaming import StreamingContext\nfrom pyspark import SparkContext\nfrom requests_oauthlib import OAuth1Session\nfrom operator import add\nimport requests_oauthlib\nfrom time import gmtime,strftime\nimport requests\nimport time\nimport string\nimport ast\nimport json", 
            "metadata": {
                "collapsed": true
            }, 
            "cell_type": "code", 
            "execution_count": 10, 
            "outputs": []
        }, 
        {
            "source": "#Pacote NLTK\nimport nltk\nfrom nltk.classify import NaiveBayesClassifier\nfrom nltk.sentiment import SentimentAnalyzer\nfrom nltk.corpus import subjectivity\nfrom nltk.corpus import stopwords\nfrom nltk.sentiment.util import *", 
            "metadata": {
                "collapsed": true
            }, 
            "cell_type": "code", 
            "execution_count": 17, 
            "outputs": []
        }, 
        {
            "source": "", 
            "metadata": {
                "collapsed": true
            }, 
            "cell_type": "code", 
            "execution_count": 16, 
            "outputs": []
        }, 
        {
            "source": "", 
            "metadata": {
                "collapsed": true
            }, 
            "cell_type": "code", 
            "execution_count": null, 
            "outputs": []
        }
    ]
}