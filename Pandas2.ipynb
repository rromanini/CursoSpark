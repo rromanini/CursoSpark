{
    "nbformat_minor": 0, 
    "nbformat": 4, 
    "cells": [
        {
            "source": "import sys\nimport pandas as pd\nimport numpy as np", 
            "execution_count": 1, 
            "outputs": [], 
            "cell_type": "code", 
            "metadata": {
                "collapsed": true
            }
        }, 
        {
            "source": "# Usando numpy\narray1 = np.array([1,2,3,np.nan])", 
            "execution_count": 2, 
            "outputs": [], 
            "cell_type": "code", 
            "metadata": {
                "collapsed": true
            }
        }, 
        {
            "source": "array1\n", 
            "execution_count": 3, 
            "outputs": [
                {
                    "data": {
                        "text/plain": "array([  1.,   2.,   3.,  nan])"
                    }, 
                    "execution_count": 3, 
                    "output_type": "execute_result", 
                    "metadata": {}
                }
            ], 
            "cell_type": "code", 
            "metadata": {
                "collapsed": false
            }
        }, 
        {
            "source": "array1.mean()", 
            "execution_count": 4, 
            "outputs": [
                {
                    "data": {
                        "text/plain": "nan"
                    }, 
                    "execution_count": 4, 
                    "output_type": "execute_result", 
                    "metadata": {}
                }
            ], 
            "cell_type": "code", 
            "metadata": {
                "collapsed": false
            }
        }, 
        {
            "source": "# Usando pandas\narray2 = pd.Series([1,2,3,np.nan])", 
            "execution_count": 5, 
            "outputs": [], 
            "cell_type": "code", 
            "metadata": {
                "collapsed": true
            }
        }, 
        {
            "source": "array2", 
            "execution_count": 6, 
            "outputs": [
                {
                    "data": {
                        "text/plain": "0    1.0\n1    2.0\n2    3.0\n3    NaN\ndtype: float64"
                    }, 
                    "execution_count": 6, 
                    "output_type": "execute_result", 
                    "metadata": {}
                }
            ], 
            "cell_type": "code", 
            "metadata": {
                "collapsed": false
            }
        }, 
        {
            "source": "array2.mean()", 
            "execution_count": 7, 
            "outputs": [
                {
                    "data": {
                        "text/plain": "2.0"
                    }, 
                    "execution_count": 7, 
                    "output_type": "execute_result", 
                    "metadata": {}
                }
            ], 
            "cell_type": "code", 
            "metadata": {
                "collapsed": false, 
                "scrolled": true
            }
        }, 
        {
            "source": "serie1 = pd.Series(np.random.rand(5))", 
            "execution_count": 10, 
            "outputs": [], 
            "cell_type": "code", 
            "metadata": {
                "collapsed": true
            }
        }, 
        {
            "source": "serie1", 
            "execution_count": 11, 
            "outputs": [
                {
                    "data": {
                        "text/plain": "0    0.245090\n1    0.413607\n2    0.908209\n3    0.150975\n4    0.265878\ndtype: float64"
                    }, 
                    "execution_count": 11, 
                    "output_type": "execute_result", 
                    "metadata": {}
                }
            ], 
            "cell_type": "code", 
            "metadata": {
                "collapsed": false
            }
        }, 
        {
            "source": "serie2 = pd.Series(np.random.rand(5))", 
            "execution_count": 12, 
            "outputs": [], 
            "cell_type": "code", 
            "metadata": {
                "collapsed": true
            }
        }, 
        {
            "source": "serie2", 
            "execution_count": 13, 
            "outputs": [
                {
                    "data": {
                        "text/plain": "0    0.932423\n1    0.614563\n2    0.415315\n3    0.810416\n4    0.465980\ndtype: float64"
                    }, 
                    "execution_count": 13, 
                    "output_type": "execute_result", 
                    "metadata": {}
                }
            ], 
            "cell_type": "code", 
            "metadata": {
                "collapsed": false
            }
        }, 
        {
            "source": "serie3 = pd.concat([serie1,serie2])", 
            "execution_count": 18, 
            "outputs": [], 
            "cell_type": "code", 
            "metadata": {
                "collapsed": false
            }
        }, 
        {
            "source": "serie3", 
            "execution_count": 19, 
            "outputs": [
                {
                    "data": {
                        "text/plain": "0    0.245090\n1    0.413607\n2    0.908209\n3    0.150975\n4    0.265878\n0    0.932423\n1    0.614563\n2    0.415315\n3    0.810416\n4    0.465980\ndtype: float64"
                    }, 
                    "execution_count": 19, 
                    "output_type": "execute_result", 
                    "metadata": {}
                }
            ], 
            "cell_type": "code", 
            "metadata": {
                "collapsed": false
            }
        }, 
        {
            "source": "serie3[0]", 
            "execution_count": 20, 
            "outputs": [
                {
                    "data": {
                        "text/plain": "0    0.245090\n0    0.932423\ndtype: float64"
                    }, 
                    "execution_count": 20, 
                    "output_type": "execute_result", 
                    "metadata": {}
                }
            ], 
            "cell_type": "code", 
            "metadata": {
                "collapsed": false
            }
        }, 
        {
            "source": "serie3.index = range(serie3.count())", 
            "execution_count": 21, 
            "outputs": [], 
            "cell_type": "code", 
            "metadata": {
                "collapsed": true
            }
        }, 
        {
            "source": "serie3", 
            "execution_count": 22, 
            "outputs": [
                {
                    "data": {
                        "text/plain": "0    0.245090\n1    0.413607\n2    0.908209\n3    0.150975\n4    0.265878\n5    0.932423\n6    0.614563\n7    0.415315\n8    0.810416\n9    0.465980\ndtype: float64"
                    }, 
                    "execution_count": 22, 
                    "output_type": "execute_result", 
                    "metadata": {}
                }
            ], 
            "cell_type": "code", 
            "metadata": {
                "collapsed": false
            }
        }, 
        {
            "source": "new_serie = serie3.reindex([0,2,15,20])", 
            "execution_count": 29, 
            "outputs": [], 
            "cell_type": "code", 
            "metadata": {
                "collapsed": false
            }
        }, 
        {
            "source": "new_serie", 
            "execution_count": 30, 
            "outputs": [
                {
                    "data": {
                        "text/plain": "0     0.245090\n2     0.908209\n15         NaN\n20         NaN\ndtype: float64"
                    }, 
                    "execution_count": 30, 
                    "output_type": "execute_result", 
                    "metadata": {}
                }
            ], 
            "cell_type": "code", 
            "metadata": {
                "collapsed": false
            }
        }, 
        {
            "source": "new_serie = new_serie.fillna(13)", 
            "execution_count": 33, 
            "outputs": [], 
            "cell_type": "code", 
            "metadata": {
                "collapsed": false
            }
        }, 
        {
            "source": "new_serie", 
            "execution_count": 34, 
            "outputs": [
                {
                    "data": {
                        "text/plain": "0      0.245090\n2      0.908209\n15    13.000000\n20    13.000000\ndtype: float64"
                    }, 
                    "execution_count": 34, 
                    "output_type": "execute_result", 
                    "metadata": {}
                }
            ], 
            "cell_type": "code", 
            "metadata": {
                "collapsed": false
            }
        }, 
        {
            "source": "", 
            "execution_count": null, 
            "outputs": [], 
            "cell_type": "code", 
            "metadata": {
                "collapsed": true
            }
        }
    ], 
    "metadata": {
        "kernelspec": {
            "name": "python3-spark20", 
            "language": "python", 
            "display_name": "Python 3.5 (Experimental) with Spark 2.0"
        }, 
        "language_info": {
            "name": "python", 
            "pygments_lexer": "ipython3", 
            "version": "3.5.2", 
            "mimetype": "text/x-python", 
            "file_extension": ".py", 
            "nbconvert_exporter": "python", 
            "codemirror_mode": {
                "name": "ipython", 
                "version": 3
            }
        }
    }
}