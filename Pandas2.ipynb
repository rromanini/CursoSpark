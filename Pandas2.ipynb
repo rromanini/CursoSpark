{
    "cells": [
        {
            "cell_type": "code", 
            "execution_count": 1, 
            "outputs": [], 
            "source": "import sys\nimport pandas as pd\nimport numpy as np", 
            "metadata": {
                "collapsed": true
            }
        }, 
        {
            "cell_type": "code", 
            "execution_count": 2, 
            "outputs": [], 
            "source": "# Usando numpy\narray1 = np.array([1,2,3,np.nan])", 
            "metadata": {
                "collapsed": true
            }
        }, 
        {
            "cell_type": "code", 
            "execution_count": 3, 
            "outputs": [
                {
                    "output_type": "execute_result", 
                    "execution_count": 3, 
                    "metadata": {}, 
                    "data": {
                        "text/plain": "array([  1.,   2.,   3.,  nan])"
                    }
                }
            ], 
            "source": "array1\n", 
            "metadata": {
                "collapsed": false
            }
        }, 
        {
            "cell_type": "code", 
            "execution_count": 4, 
            "outputs": [
                {
                    "output_type": "execute_result", 
                    "execution_count": 4, 
                    "metadata": {}, 
                    "data": {
                        "text/plain": "nan"
                    }
                }
            ], 
            "source": "array1.mean()", 
            "metadata": {
                "collapsed": false
            }
        }, 
        {
            "cell_type": "code", 
            "execution_count": 5, 
            "outputs": [], 
            "source": "# Usando pandas\narray2 = pd.Series([1,2,3,np.nan])", 
            "metadata": {
                "collapsed": true
            }
        }, 
        {
            "cell_type": "code", 
            "execution_count": 6, 
            "outputs": [
                {
                    "output_type": "execute_result", 
                    "execution_count": 6, 
                    "metadata": {}, 
                    "data": {
                        "text/plain": "0    1.0\n1    2.0\n2    3.0\n3    NaN\ndtype: float64"
                    }
                }
            ], 
            "source": "array2", 
            "metadata": {
                "collapsed": false
            }
        }, 
        {
            "cell_type": "code", 
            "execution_count": 7, 
            "outputs": [
                {
                    "output_type": "execute_result", 
                    "execution_count": 7, 
                    "metadata": {}, 
                    "data": {
                        "text/plain": "2.0"
                    }
                }
            ], 
            "source": "array2.mean()", 
            "metadata": {
                "collapsed": false, 
                "scrolled": true
            }
        }, 
        {
            "cell_type": "code", 
            "execution_count": 10, 
            "outputs": [], 
            "source": "serie1 = pd.Series(np.random.rand(5))", 
            "metadata": {
                "collapsed": true
            }
        }, 
        {
            "cell_type": "code", 
            "execution_count": 11, 
            "outputs": [
                {
                    "output_type": "execute_result", 
                    "execution_count": 11, 
                    "metadata": {}, 
                    "data": {
                        "text/plain": "0    0.245090\n1    0.413607\n2    0.908209\n3    0.150975\n4    0.265878\ndtype: float64"
                    }
                }
            ], 
            "source": "serie1", 
            "metadata": {
                "collapsed": false
            }
        }, 
        {
            "cell_type": "code", 
            "execution_count": 12, 
            "outputs": [], 
            "source": "serie2 = pd.Series(np.random.rand(5))", 
            "metadata": {
                "collapsed": true
            }
        }, 
        {
            "cell_type": "code", 
            "execution_count": 13, 
            "outputs": [
                {
                    "output_type": "execute_result", 
                    "execution_count": 13, 
                    "metadata": {}, 
                    "data": {
                        "text/plain": "0    0.932423\n1    0.614563\n2    0.415315\n3    0.810416\n4    0.465980\ndtype: float64"
                    }
                }
            ], 
            "source": "serie2", 
            "metadata": {
                "collapsed": false
            }
        }, 
        {
            "cell_type": "code", 
            "execution_count": 18, 
            "outputs": [], 
            "source": "serie3 = pd.concat([serie1,serie2])", 
            "metadata": {
                "collapsed": false
            }
        }, 
        {
            "cell_type": "code", 
            "execution_count": 19, 
            "outputs": [
                {
                    "output_type": "execute_result", 
                    "execution_count": 19, 
                    "metadata": {}, 
                    "data": {
                        "text/plain": "0    0.245090\n1    0.413607\n2    0.908209\n3    0.150975\n4    0.265878\n0    0.932423\n1    0.614563\n2    0.415315\n3    0.810416\n4    0.465980\ndtype: float64"
                    }
                }
            ], 
            "source": "serie3", 
            "metadata": {
                "collapsed": false
            }
        }, 
        {
            "cell_type": "code", 
            "execution_count": 20, 
            "outputs": [
                {
                    "output_type": "execute_result", 
                    "execution_count": 20, 
                    "metadata": {}, 
                    "data": {
                        "text/plain": "0    0.245090\n0    0.932423\ndtype: float64"
                    }
                }
            ], 
            "source": "serie3[0]", 
            "metadata": {
                "collapsed": false
            }
        }, 
        {
            "cell_type": "code", 
            "execution_count": 21, 
            "outputs": [], 
            "source": "serie3.index = range(serie3.count())", 
            "metadata": {
                "collapsed": true
            }
        }, 
        {
            "cell_type": "code", 
            "execution_count": 22, 
            "outputs": [
                {
                    "output_type": "execute_result", 
                    "execution_count": 22, 
                    "metadata": {}, 
                    "data": {
                        "text/plain": "0    0.245090\n1    0.413607\n2    0.908209\n3    0.150975\n4    0.265878\n5    0.932423\n6    0.614563\n7    0.415315\n8    0.810416\n9    0.465980\ndtype: float64"
                    }
                }
            ], 
            "source": "serie3", 
            "metadata": {
                "collapsed": false
            }
        }, 
        {
            "cell_type": "code", 
            "execution_count": null, 
            "outputs": [], 
            "source": "", 
            "metadata": {
                "collapsed": true
            }
        }
    ], 
    "nbformat_minor": 0, 
    "metadata": {
        "kernelspec": {
            "language": "python", 
            "display_name": "Python 3.5 (Experimental) with Spark 2.0", 
            "name": "python3-spark20"
        }, 
        "language_info": {
            "pygments_lexer": "ipython3", 
            "file_extension": ".py", 
            "codemirror_mode": {
                "version": 3, 
                "name": "ipython"
            }, 
            "version": "3.5.2", 
            "mimetype": "text/x-python", 
            "nbconvert_exporter": "python", 
            "name": "python"
        }
    }, 
    "nbformat": 4
}