{
    "metadata": {
        "language_info": {
            "codemirror_mode": {
                "name": "ipython", 
                "version": 3
            }, 
            "name": "python", 
            "version": "3.5.2", 
            "mimetype": "text/x-python", 
            "nbconvert_exporter": "python", 
            "file_extension": ".py", 
            "pygments_lexer": "ipython3"
        }, 
        "kernelspec": {
            "language": "python", 
            "display_name": "Python 3.5 (Experimental) with Spark 2.0", 
            "name": "python3-spark20"
        }
    }, 
    "nbformat_minor": 0, 
    "cells": [
        {
            "metadata": {
                "collapsed": true
            }, 
            "cell_type": "markdown", 
            "source": "# Exemplos com DataFrame Pandas"
        }, 
        {
            "metadata": {
                "collapsed": true
            }, 
            "source": "import string\nimport pandas as pd\nimport numpy as np", 
            "execution_count": 1, 
            "cell_type": "code", 
            "outputs": []
        }, 
        {
            "metadata": {
                "collapsed": true
            }, 
            "source": "dict = {\"Coluna1\":[123,1234,1235,23],\"Coluna2\":[123,1234,1235,23],\"Coluna3\":[123,1234,1235,23],\"Coluna4\":[123,1234,1235,23]}", 
            "execution_count": 2, 
            "cell_type": "code", 
            "outputs": []
        }, 
        {
            "metadata": {
                "collapsed": false
            }, 
            "source": "dict", 
            "execution_count": 3, 
            "cell_type": "code", 
            "outputs": [
                {
                    "metadata": {}, 
                    "data": {
                        "text/plain": "{'Coluna1': [123, 1234, 1235, 23],\n 'Coluna2': [123, 1234, 1235, 23],\n 'Coluna3': [123, 1234, 1235, 23],\n 'Coluna4': [123, 1234, 1235, 23]}"
                    }, 
                    "output_type": "execute_result", 
                    "execution_count": 3
                }
            ]
        }, 
        {
            "metadata": {
                "collapsed": true
            }, 
            "source": "df = pd.DataFrame(dict)", 
            "execution_count": 4, 
            "cell_type": "code", 
            "outputs": []
        }, 
        {
            "metadata": {
                "collapsed": false
            }, 
            "source": "df", 
            "execution_count": 5, 
            "cell_type": "code", 
            "outputs": [
                {
                    "metadata": {}, 
                    "data": {
                        "text/html": "<div>\n<table border=\"1\" class=\"dataframe\">\n  <thead>\n    <tr style=\"text-align: right;\">\n      <th></th>\n      <th>Coluna1</th>\n      <th>Coluna2</th>\n      <th>Coluna3</th>\n      <th>Coluna4</th>\n    </tr>\n  </thead>\n  <tbody>\n    <tr>\n      <th>0</th>\n      <td>123</td>\n      <td>123</td>\n      <td>123</td>\n      <td>123</td>\n    </tr>\n    <tr>\n      <th>1</th>\n      <td>1234</td>\n      <td>1234</td>\n      <td>1234</td>\n      <td>1234</td>\n    </tr>\n    <tr>\n      <th>2</th>\n      <td>1235</td>\n      <td>1235</td>\n      <td>1235</td>\n      <td>1235</td>\n    </tr>\n    <tr>\n      <th>3</th>\n      <td>23</td>\n      <td>23</td>\n      <td>23</td>\n      <td>23</td>\n    </tr>\n  </tbody>\n</table>\n</div>", 
                        "text/plain": "   Coluna1  Coluna2  Coluna3  Coluna4\n0      123      123      123      123\n1     1234     1234     1234     1234\n2     1235     1235     1235     1235\n3       23       23       23       23"
                    }, 
                    "output_type": "execute_result", 
                    "execution_count": 5
                }
            ]
        }, 
        {
            "metadata": {
                "collapsed": false
            }, 
            "source": "df.dtypes", 
            "execution_count": 6, 
            "cell_type": "code", 
            "outputs": [
                {
                    "metadata": {}, 
                    "data": {
                        "text/plain": "Coluna1    int64\nColuna2    int64\nColuna3    int64\nColuna4    int64\ndtype: object"
                    }, 
                    "output_type": "execute_result", 
                    "execution_count": 6
                }
            ]
        }, 
        {
            "metadata": {
                "collapsed": false
            }, 
            "source": "df[\"Coluna2\"]", 
            "execution_count": 7, 
            "cell_type": "code", 
            "outputs": [
                {
                    "metadata": {}, 
                    "data": {
                        "text/plain": "0     123\n1    1234\n2    1235\n3      23\nName: Coluna2, dtype: int64"
                    }, 
                    "output_type": "execute_result", 
                    "execution_count": 7
                }
            ]
        }, 
        {
            "metadata": {
                "collapsed": false
            }, 
            "source": "df[\"Coluna3\"][2]", 
            "execution_count": 8, 
            "cell_type": "code", 
            "outputs": [
                {
                    "metadata": {}, 
                    "data": {
                        "text/plain": "1235"
                    }, 
                    "output_type": "execute_result", 
                    "execution_count": 8
                }
            ]
        }, 
        {
            "metadata": {
                "collapsed": false
            }, 
            "source": "df[2:4]", 
            "execution_count": 18, 
            "cell_type": "code", 
            "outputs": [
                {
                    "metadata": {}, 
                    "data": {
                        "text/html": "<div>\n<table border=\"1\" class=\"dataframe\">\n  <thead>\n    <tr style=\"text-align: right;\">\n      <th></th>\n      <th>Coluna1</th>\n      <th>Coluna2</th>\n      <th>Coluna3</th>\n      <th>Coluna4</th>\n    </tr>\n  </thead>\n  <tbody>\n    <tr>\n      <th>2</th>\n      <td>1235</td>\n      <td>1235</td>\n      <td>1235</td>\n      <td>1235</td>\n    </tr>\n    <tr>\n      <th>3</th>\n      <td>23</td>\n      <td>23</td>\n      <td>23</td>\n      <td>23</td>\n    </tr>\n  </tbody>\n</table>\n</div>", 
                        "text/plain": "   Coluna1  Coluna2  Coluna3  Coluna4\n2     1235     1235     1235     1235\n3       23       23       23       23"
                    }, 
                    "output_type": "execute_result", 
                    "execution_count": 18
                }
            ]
        }, 
        {
            "metadata": {
                "collapsed": false
            }, 
            "source": "df.index", 
            "execution_count": 19, 
            "cell_type": "code", 
            "outputs": [
                {
                    "metadata": {}, 
                    "data": {
                        "text/plain": "RangeIndex(start=0, stop=4, step=1)"
                    }, 
                    "output_type": "execute_result", 
                    "execution_count": 19
                }
            ]
        }, 
        {
            "metadata": {}, 
            "cell_type": "markdown", 
            "source": "# Mais dataframes"
        }, 
        {
            "metadata": {
                "collapsed": false
            }, 
            "source": "colunas = list(range(26))", 
            "execution_count": 22, 
            "cell_type": "code", 
            "outputs": []
        }, 
        {
            "metadata": {
                "collapsed": false
            }, 
            "source": "lcase = [x for x in string.ascii_lowercase]", 
            "execution_count": 25, 
            "cell_type": "code", 
            "outputs": []
        }, 
        {
            "metadata": {
                "collapsed": false
            }, 
            "source": "ucase = [x for x in string.ascii_uppercase]", 
            "execution_count": 27, 
            "cell_type": "code", 
            "outputs": []
        }, 
        {
            "metadata": {
                "collapsed": false
            }, 
            "source": "alfabeto = pd.DataFrame([colunas,lcase,ucase])", 
            "execution_count": 30, 
            "cell_type": "code", 
            "outputs": []
        }, 
        {
            "metadata": {
                "collapsed": false
            }, 
            "source": "alfabeto", 
            "execution_count": 31, 
            "cell_type": "code", 
            "outputs": [
                {
                    "metadata": {}, 
                    "data": {
                        "text/html": "<div>\n<table border=\"1\" class=\"dataframe\">\n  <thead>\n    <tr style=\"text-align: right;\">\n      <th></th>\n      <th>0</th>\n      <th>1</th>\n      <th>2</th>\n      <th>3</th>\n      <th>4</th>\n      <th>5</th>\n      <th>6</th>\n      <th>7</th>\n      <th>8</th>\n      <th>9</th>\n      <th>...</th>\n      <th>16</th>\n      <th>17</th>\n      <th>18</th>\n      <th>19</th>\n      <th>20</th>\n      <th>21</th>\n      <th>22</th>\n      <th>23</th>\n      <th>24</th>\n      <th>25</th>\n    </tr>\n  </thead>\n  <tbody>\n    <tr>\n      <th>0</th>\n      <td>0</td>\n      <td>1</td>\n      <td>2</td>\n      <td>3</td>\n      <td>4</td>\n      <td>5</td>\n      <td>6</td>\n      <td>7</td>\n      <td>8</td>\n      <td>9</td>\n      <td>...</td>\n      <td>16</td>\n      <td>17</td>\n      <td>18</td>\n      <td>19</td>\n      <td>20</td>\n      <td>21</td>\n      <td>22</td>\n      <td>23</td>\n      <td>24</td>\n      <td>25</td>\n    </tr>\n    <tr>\n      <th>1</th>\n      <td>a</td>\n      <td>b</td>\n      <td>c</td>\n      <td>d</td>\n      <td>e</td>\n      <td>f</td>\n      <td>g</td>\n      <td>h</td>\n      <td>i</td>\n      <td>j</td>\n      <td>...</td>\n      <td>q</td>\n      <td>r</td>\n      <td>s</td>\n      <td>t</td>\n      <td>u</td>\n      <td>v</td>\n      <td>w</td>\n      <td>x</td>\n      <td>y</td>\n      <td>z</td>\n    </tr>\n    <tr>\n      <th>2</th>\n      <td>A</td>\n      <td>B</td>\n      <td>C</td>\n      <td>D</td>\n      <td>E</td>\n      <td>F</td>\n      <td>G</td>\n      <td>H</td>\n      <td>I</td>\n      <td>J</td>\n      <td>...</td>\n      <td>Q</td>\n      <td>R</td>\n      <td>S</td>\n      <td>T</td>\n      <td>U</td>\n      <td>V</td>\n      <td>W</td>\n      <td>X</td>\n      <td>Y</td>\n      <td>Z</td>\n    </tr>\n  </tbody>\n</table>\n<p>3 rows \u00d7 26 columns</p>\n</div>", 
                        "text/plain": "  0  1  2  3  4  5  6  7  8  9  ...  16  17  18  19  20  21  22  23  24  25\n0  0  1  2  3  4  5  6  7  8  9 ...  16  17  18  19  20  21  22  23  24  25\n1  a  b  c  d  e  f  g  h  i  j ...   q   r   s   t   u   v   w   x   y   z\n2  A  B  C  D  E  F  G  H  I  J ...   Q   R   S   T   U   V   W   X   Y   Z\n\n[3 rows x 26 columns]"
                    }, 
                    "output_type": "execute_result", 
                    "execution_count": 31
                }
            ]
        }, 
        {
            "metadata": {
                "collapsed": true
            }, 
            "source": "", 
            "execution_count": null, 
            "cell_type": "code", 
            "outputs": []
        }
    ], 
    "nbformat": 4
}