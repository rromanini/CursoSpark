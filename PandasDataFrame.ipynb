{
    "nbformat_minor": 0, 
    "metadata": {
        "language_info": {
            "pygments_lexer": "ipython3", 
            "codemirror_mode": {
                "name": "ipython", 
                "version": 3
            }, 
            "file_extension": ".py", 
            "version": "3.5.2", 
            "mimetype": "text/x-python", 
            "name": "python", 
            "nbconvert_exporter": "python"
        }, 
        "kernelspec": {
            "name": "python3-spark20", 
            "language": "python", 
            "display_name": "Python 3.5 (Experimental) with Spark 2.0"
        }
    }, 
    "cells": [
        {
            "source": "# Exemplos com DataFrame Pandas", 
            "metadata": {
                "collapsed": true
            }, 
            "cell_type": "markdown"
        }, 
        {
            "metadata": {
                "collapsed": true
            }, 
            "source": "import string\nimport pandas as pd\nimport numpy as np", 
            "execution_count": 1, 
            "cell_type": "code", 
            "outputs": []
        }, 
        {
            "metadata": {
                "collapsed": true
            }, 
            "source": "dict = {\"Coluna1\":[123,1234,1235,23],\"Coluna2\":[123,1234,1235,23],\"Coluna3\":[123,1234,1235,23],\"Coluna4\":[123,1234,1235,23]}", 
            "execution_count": 2, 
            "cell_type": "code", 
            "outputs": []
        }, 
        {
            "metadata": {
                "collapsed": false
            }, 
            "source": "dict", 
            "execution_count": 3, 
            "cell_type": "code", 
            "outputs": [
                {
                    "metadata": {}, 
                    "output_type": "execute_result", 
                    "data": {
                        "text/plain": "{'Coluna1': [123, 1234, 1235, 23],\n 'Coluna2': [123, 1234, 1235, 23],\n 'Coluna3': [123, 1234, 1235, 23],\n 'Coluna4': [123, 1234, 1235, 23]}"
                    }, 
                    "execution_count": 3
                }
            ]
        }, 
        {
            "metadata": {
                "collapsed": true
            }, 
            "source": "df = pd.DataFrame(dict)", 
            "execution_count": 4, 
            "cell_type": "code", 
            "outputs": []
        }, 
        {
            "metadata": {
                "collapsed": false
            }, 
            "source": "df", 
            "execution_count": 5, 
            "cell_type": "code", 
            "outputs": [
                {
                    "metadata": {}, 
                    "output_type": "execute_result", 
                    "data": {
                        "text/plain": "   Coluna1  Coluna2  Coluna3  Coluna4\n0      123      123      123      123\n1     1234     1234     1234     1234\n2     1235     1235     1235     1235\n3       23       23       23       23", 
                        "text/html": "<div>\n<table border=\"1\" class=\"dataframe\">\n  <thead>\n    <tr style=\"text-align: right;\">\n      <th></th>\n      <th>Coluna1</th>\n      <th>Coluna2</th>\n      <th>Coluna3</th>\n      <th>Coluna4</th>\n    </tr>\n  </thead>\n  <tbody>\n    <tr>\n      <th>0</th>\n      <td>123</td>\n      <td>123</td>\n      <td>123</td>\n      <td>123</td>\n    </tr>\n    <tr>\n      <th>1</th>\n      <td>1234</td>\n      <td>1234</td>\n      <td>1234</td>\n      <td>1234</td>\n    </tr>\n    <tr>\n      <th>2</th>\n      <td>1235</td>\n      <td>1235</td>\n      <td>1235</td>\n      <td>1235</td>\n    </tr>\n    <tr>\n      <th>3</th>\n      <td>23</td>\n      <td>23</td>\n      <td>23</td>\n      <td>23</td>\n    </tr>\n  </tbody>\n</table>\n</div>"
                    }, 
                    "execution_count": 5
                }
            ]
        }, 
        {
            "metadata": {
                "collapsed": false
            }, 
            "source": "df.dtypes", 
            "execution_count": 6, 
            "cell_type": "code", 
            "outputs": [
                {
                    "metadata": {}, 
                    "output_type": "execute_result", 
                    "data": {
                        "text/plain": "Coluna1    int64\nColuna2    int64\nColuna3    int64\nColuna4    int64\ndtype: object"
                    }, 
                    "execution_count": 6
                }
            ]
        }, 
        {
            "metadata": {
                "collapsed": false
            }, 
            "source": "df[\"Coluna2\"]", 
            "execution_count": 7, 
            "cell_type": "code", 
            "outputs": [
                {
                    "metadata": {}, 
                    "output_type": "execute_result", 
                    "data": {
                        "text/plain": "0     123\n1    1234\n2    1235\n3      23\nName: Coluna2, dtype: int64"
                    }, 
                    "execution_count": 7
                }
            ]
        }, 
        {
            "metadata": {
                "collapsed": false
            }, 
            "source": "df[\"Coluna3\"][2]", 
            "execution_count": 8, 
            "cell_type": "code", 
            "outputs": [
                {
                    "metadata": {}, 
                    "output_type": "execute_result", 
                    "data": {
                        "text/plain": "1235"
                    }, 
                    "execution_count": 8
                }
            ]
        }, 
        {
            "metadata": {
                "collapsed": false
            }, 
            "source": "df[2:4]", 
            "execution_count": 18, 
            "cell_type": "code", 
            "outputs": [
                {
                    "metadata": {}, 
                    "output_type": "execute_result", 
                    "data": {
                        "text/plain": "   Coluna1  Coluna2  Coluna3  Coluna4\n2     1235     1235     1235     1235\n3       23       23       23       23", 
                        "text/html": "<div>\n<table border=\"1\" class=\"dataframe\">\n  <thead>\n    <tr style=\"text-align: right;\">\n      <th></th>\n      <th>Coluna1</th>\n      <th>Coluna2</th>\n      <th>Coluna3</th>\n      <th>Coluna4</th>\n    </tr>\n  </thead>\n  <tbody>\n    <tr>\n      <th>2</th>\n      <td>1235</td>\n      <td>1235</td>\n      <td>1235</td>\n      <td>1235</td>\n    </tr>\n    <tr>\n      <th>3</th>\n      <td>23</td>\n      <td>23</td>\n      <td>23</td>\n      <td>23</td>\n    </tr>\n  </tbody>\n</table>\n</div>"
                    }, 
                    "execution_count": 18
                }
            ]
        }, 
        {
            "metadata": {
                "collapsed": false
            }, 
            "source": "df.index", 
            "execution_count": 19, 
            "cell_type": "code", 
            "outputs": [
                {
                    "metadata": {}, 
                    "output_type": "execute_result", 
                    "data": {
                        "text/plain": "RangeIndex(start=0, stop=4, step=1)"
                    }, 
                    "execution_count": 19
                }
            ]
        }, 
        {
            "source": "# Mais dataframes", 
            "metadata": {}, 
            "cell_type": "markdown"
        }, 
        {
            "metadata": {
                "collapsed": false
            }, 
            "source": "colunas = list(range(26))", 
            "execution_count": 22, 
            "cell_type": "code", 
            "outputs": []
        }, 
        {
            "metadata": {
                "collapsed": false
            }, 
            "source": "lcase = [x for x in string.ascii_lowercase]", 
            "execution_count": 25, 
            "cell_type": "code", 
            "outputs": []
        }, 
        {
            "metadata": {
                "collapsed": false
            }, 
            "source": "ucase = [x for x in string.ascii_uppercase]", 
            "execution_count": 27, 
            "cell_type": "code", 
            "outputs": []
        }, 
        {
            "metadata": {
                "collapsed": false
            }, 
            "source": "alfabeto = pd.DataFrame([colunas,lcase,ucase])", 
            "execution_count": 30, 
            "cell_type": "code", 
            "outputs": []
        }, 
        {
            "metadata": {
                "collapsed": false
            }, 
            "source": "alfabeto", 
            "execution_count": 31, 
            "cell_type": "code", 
            "outputs": [
                {
                    "metadata": {}, 
                    "output_type": "execute_result", 
                    "data": {
                        "text/plain": "  0  1  2  3  4  5  6  7  8  9  ...  16  17  18  19  20  21  22  23  24  25\n0  0  1  2  3  4  5  6  7  8  9 ...  16  17  18  19  20  21  22  23  24  25\n1  a  b  c  d  e  f  g  h  i  j ...   q   r   s   t   u   v   w   x   y   z\n2  A  B  C  D  E  F  G  H  I  J ...   Q   R   S   T   U   V   W   X   Y   Z\n\n[3 rows x 26 columns]", 
                        "text/html": "<div>\n<table border=\"1\" class=\"dataframe\">\n  <thead>\n    <tr style=\"text-align: right;\">\n      <th></th>\n      <th>0</th>\n      <th>1</th>\n      <th>2</th>\n      <th>3</th>\n      <th>4</th>\n      <th>5</th>\n      <th>6</th>\n      <th>7</th>\n      <th>8</th>\n      <th>9</th>\n      <th>...</th>\n      <th>16</th>\n      <th>17</th>\n      <th>18</th>\n      <th>19</th>\n      <th>20</th>\n      <th>21</th>\n      <th>22</th>\n      <th>23</th>\n      <th>24</th>\n      <th>25</th>\n    </tr>\n  </thead>\n  <tbody>\n    <tr>\n      <th>0</th>\n      <td>0</td>\n      <td>1</td>\n      <td>2</td>\n      <td>3</td>\n      <td>4</td>\n      <td>5</td>\n      <td>6</td>\n      <td>7</td>\n      <td>8</td>\n      <td>9</td>\n      <td>...</td>\n      <td>16</td>\n      <td>17</td>\n      <td>18</td>\n      <td>19</td>\n      <td>20</td>\n      <td>21</td>\n      <td>22</td>\n      <td>23</td>\n      <td>24</td>\n      <td>25</td>\n    </tr>\n    <tr>\n      <th>1</th>\n      <td>a</td>\n      <td>b</td>\n      <td>c</td>\n      <td>d</td>\n      <td>e</td>\n      <td>f</td>\n      <td>g</td>\n      <td>h</td>\n      <td>i</td>\n      <td>j</td>\n      <td>...</td>\n      <td>q</td>\n      <td>r</td>\n      <td>s</td>\n      <td>t</td>\n      <td>u</td>\n      <td>v</td>\n      <td>w</td>\n      <td>x</td>\n      <td>y</td>\n      <td>z</td>\n    </tr>\n    <tr>\n      <th>2</th>\n      <td>A</td>\n      <td>B</td>\n      <td>C</td>\n      <td>D</td>\n      <td>E</td>\n      <td>F</td>\n      <td>G</td>\n      <td>H</td>\n      <td>I</td>\n      <td>J</td>\n      <td>...</td>\n      <td>Q</td>\n      <td>R</td>\n      <td>S</td>\n      <td>T</td>\n      <td>U</td>\n      <td>V</td>\n      <td>W</td>\n      <td>X</td>\n      <td>Y</td>\n      <td>Z</td>\n    </tr>\n  </tbody>\n</table>\n<p>3 rows \u00d7 26 columns</p>\n</div>"
                    }, 
                    "execution_count": 31
                }
            ]
        }, 
        {
            "metadata": {
                "collapsed": true
            }, 
            "source": "#Transposta do objeto\nalfabeto = alfabeto.T", 
            "execution_count": 32, 
            "cell_type": "code", 
            "outputs": []
        }, 
        {
            "metadata": {
                "collapsed": false
            }, 
            "source": "alfabeto.index", 
            "execution_count": 34, 
            "cell_type": "code", 
            "outputs": [
                {
                    "metadata": {}, 
                    "output_type": "execute_result", 
                    "data": {
                        "text/plain": "RangeIndex(start=0, stop=26, step=1)"
                    }, 
                    "execution_count": 34
                }
            ]
        }, 
        {
            "metadata": {
                "collapsed": false
            }, 
            "source": "alfabeto.columns", 
            "execution_count": 35, 
            "cell_type": "code", 
            "outputs": [
                {
                    "metadata": {}, 
                    "output_type": "execute_result", 
                    "data": {
                        "text/plain": "RangeIndex(start=0, stop=3, step=1)"
                    }, 
                    "execution_count": 35
                }
            ]
        }, 
        {
            "metadata": {
                "collapsed": false
            }, 
            "source": "alfabeto.columns = [\"codigo\",\"minuscula\",\"maiuscula\"]", 
            "execution_count": 37, 
            "cell_type": "code", 
            "outputs": []
        }, 
        {
            "metadata": {
                "collapsed": false
            }, 
            "source": "alfabeto\n", 
            "execution_count": 38, 
            "cell_type": "code", 
            "outputs": [
                {
                    "metadata": {}, 
                    "output_type": "execute_result", 
                    "data": {
                        "text/plain": "   codigo minuscula maiuscula\n0       0         a         A\n1       1         b         B\n2       2         c         C\n3       3         d         D\n4       4         e         E\n5       5         f         F\n6       6         g         G\n7       7         h         H\n8       8         i         I\n9       9         j         J\n10     10         k         K\n11     11         l         L\n12     12         m         M\n13     13         n         N\n14     14         o         O\n15     15         p         P\n16     16         q         Q\n17     17         r         R\n18     18         s         S\n19     19         t         T\n20     20         u         U\n21     21         v         V\n22     22         w         W\n23     23         x         X\n24     24         y         Y\n25     25         z         Z", 
                        "text/html": "<div>\n<table border=\"1\" class=\"dataframe\">\n  <thead>\n    <tr style=\"text-align: right;\">\n      <th></th>\n      <th>codigo</th>\n      <th>minuscula</th>\n      <th>maiuscula</th>\n    </tr>\n  </thead>\n  <tbody>\n    <tr>\n      <th>0</th>\n      <td>0</td>\n      <td>a</td>\n      <td>A</td>\n    </tr>\n    <tr>\n      <th>1</th>\n      <td>1</td>\n      <td>b</td>\n      <td>B</td>\n    </tr>\n    <tr>\n      <th>2</th>\n      <td>2</td>\n      <td>c</td>\n      <td>C</td>\n    </tr>\n    <tr>\n      <th>3</th>\n      <td>3</td>\n      <td>d</td>\n      <td>D</td>\n    </tr>\n    <tr>\n      <th>4</th>\n      <td>4</td>\n      <td>e</td>\n      <td>E</td>\n    </tr>\n    <tr>\n      <th>5</th>\n      <td>5</td>\n      <td>f</td>\n      <td>F</td>\n    </tr>\n    <tr>\n      <th>6</th>\n      <td>6</td>\n      <td>g</td>\n      <td>G</td>\n    </tr>\n    <tr>\n      <th>7</th>\n      <td>7</td>\n      <td>h</td>\n      <td>H</td>\n    </tr>\n    <tr>\n      <th>8</th>\n      <td>8</td>\n      <td>i</td>\n      <td>I</td>\n    </tr>\n    <tr>\n      <th>9</th>\n      <td>9</td>\n      <td>j</td>\n      <td>J</td>\n    </tr>\n    <tr>\n      <th>10</th>\n      <td>10</td>\n      <td>k</td>\n      <td>K</td>\n    </tr>\n    <tr>\n      <th>11</th>\n      <td>11</td>\n      <td>l</td>\n      <td>L</td>\n    </tr>\n    <tr>\n      <th>12</th>\n      <td>12</td>\n      <td>m</td>\n      <td>M</td>\n    </tr>\n    <tr>\n      <th>13</th>\n      <td>13</td>\n      <td>n</td>\n      <td>N</td>\n    </tr>\n    <tr>\n      <th>14</th>\n      <td>14</td>\n      <td>o</td>\n      <td>O</td>\n    </tr>\n    <tr>\n      <th>15</th>\n      <td>15</td>\n      <td>p</td>\n      <td>P</td>\n    </tr>\n    <tr>\n      <th>16</th>\n      <td>16</td>\n      <td>q</td>\n      <td>Q</td>\n    </tr>\n    <tr>\n      <th>17</th>\n      <td>17</td>\n      <td>r</td>\n      <td>R</td>\n    </tr>\n    <tr>\n      <th>18</th>\n      <td>18</td>\n      <td>s</td>\n      <td>S</td>\n    </tr>\n    <tr>\n      <th>19</th>\n      <td>19</td>\n      <td>t</td>\n      <td>T</td>\n    </tr>\n    <tr>\n      <th>20</th>\n      <td>20</td>\n      <td>u</td>\n      <td>U</td>\n    </tr>\n    <tr>\n      <th>21</th>\n      <td>21</td>\n      <td>v</td>\n      <td>V</td>\n    </tr>\n    <tr>\n      <th>22</th>\n      <td>22</td>\n      <td>w</td>\n      <td>W</td>\n    </tr>\n    <tr>\n      <th>23</th>\n      <td>23</td>\n      <td>x</td>\n      <td>X</td>\n    </tr>\n    <tr>\n      <th>24</th>\n      <td>24</td>\n      <td>y</td>\n      <td>Y</td>\n    </tr>\n    <tr>\n      <th>25</th>\n      <td>25</td>\n      <td>z</td>\n      <td>Z</td>\n    </tr>\n  </tbody>\n</table>\n</div>"
                    }, 
                    "execution_count": 38
                }
            ]
        }, 
        {
            "metadata": {
                "collapsed": true
            }, 
            "source": "", 
            "execution_count": null, 
            "cell_type": "code", 
            "outputs": []
        }
    ], 
    "nbformat": 4
}