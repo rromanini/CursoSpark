{
    "metadata": {
        "language_info": {
            "file_extension": ".py", 
            "version": "3.5.2", 
            "mimetype": "text/x-python", 
            "pygments_lexer": "ipython3", 
            "name": "python", 
            "codemirror_mode": {
                "version": 3, 
                "name": "ipython"
            }, 
            "nbconvert_exporter": "python"
        }, 
        "kernelspec": {
            "display_name": "Python 3.5 (Experimental) with Spark 2.0", 
            "language": "python", 
            "name": "python3-spark20"
        }
    }, 
    "nbformat": 4, 
    "cells": [
        {
            "metadata": {
                "collapsed": true
            }, 
            "cell_type": "markdown", 
            "source": "# Arrays com numpy"
        }, 
        {
            "outputs": [], 
            "metadata": {
                "collapsed": true
            }, 
            "cell_type": "code", 
            "execution_count": 1, 
            "source": "import numpy as np"
        }, 
        {
            "outputs": [], 
            "metadata": {
                "collapsed": true
            }, 
            "cell_type": "code", 
            "execution_count": 2, 
            "source": "import sys"
        }, 
        {
            "outputs": [
                {
                    "output_type": "execute_result", 
                    "metadata": {}, 
                    "execution_count": 3, 
                    "data": {
                        "text/plain": "'3.5.2 |Anaconda 4.1.1 (64-bit)| (default, Jul  2 2016, 17:53:06) \\n[GCC 4.4.7 20120313 (Red Hat 4.4.7-1)]'"
                    }
                }
            ], 
            "metadata": {
                "collapsed": false
            }, 
            "cell_type": "code", 
            "execution_count": 3, 
            "source": "sys.version"
        }, 
        {
            "outputs": [
                {
                    "output_type": "execute_result", 
                    "metadata": {}, 
                    "execution_count": 4, 
                    "data": {
                        "text/plain": "'1.11.1'"
                    }
                }
            ], 
            "metadata": {
                "collapsed": false
            }, 
            "cell_type": "code", 
            "execution_count": 4, 
            "source": "np.__version__"
        }, 
        {
            "outputs": [], 
            "metadata": {
                "collapsed": true
            }, 
            "cell_type": "code", 
            "execution_count": 5, 
            "source": "array1 = np.arange(0,15)"
        }, 
        {
            "outputs": [
                {
                    "output_type": "execute_result", 
                    "metadata": {}, 
                    "execution_count": 6, 
                    "data": {
                        "text/plain": "array([ 0,  1,  2,  3,  4,  5,  6,  7,  8,  9, 10, 11, 12, 13, 14])"
                    }
                }
            ], 
            "metadata": {
                "collapsed": false
            }, 
            "cell_type": "code", 
            "execution_count": 6, 
            "source": "array1"
        }, 
        {
            "outputs": [
                {
                    "output_type": "execute_result", 
                    "metadata": {}, 
                    "execution_count": 7, 
                    "data": {
                        "text/plain": "14"
                    }
                }
            ], 
            "metadata": {
                "collapsed": false
            }, 
            "cell_type": "code", 
            "execution_count": 7, 
            "source": "#Valor maximo\narray1.max()"
        }, 
        {
            "outputs": [
                {
                    "output_type": "execute_result", 
                    "metadata": {}, 
                    "execution_count": 8, 
                    "data": {
                        "text/plain": "0"
                    }
                }
            ], 
            "metadata": {
                "collapsed": false
            }, 
            "cell_type": "code", 
            "execution_count": 8, 
            "source": "#Valor minimo\narray1.min()"
        }, 
        {
            "outputs": [
                {
                    "output_type": "execute_result", 
                    "metadata": {}, 
                    "execution_count": 10, 
                    "data": {
                        "text/plain": "7.0"
                    }
                }
            ], 
            "metadata": {
                "collapsed": false
            }, 
            "cell_type": "code", 
            "execution_count": 10, 
            "source": "#Valor medio\narray1.mean()"
        }, 
        {
            "outputs": [
                {
                    "output_type": "execute_result", 
                    "metadata": {}, 
                    "execution_count": 11, 
                    "data": {
                        "text/plain": "4.3204937989385739"
                    }
                }
            ], 
            "metadata": {
                "collapsed": false
            }, 
            "cell_type": "code", 
            "execution_count": 11, 
            "source": "#Desvio padrao\narray1.std()"
        }, 
        {
            "outputs": [
                {
                    "output_type": "execute_result", 
                    "metadata": {}, 
                    "execution_count": 16, 
                    "data": {
                        "text/plain": "[0, 4, 16, 36, 64, 100, 144, 196]"
                    }
                }
            ], 
            "metadata": {
                "collapsed": false
            }, 
            "cell_type": "code", 
            "execution_count": 16, 
            "source": "#Utilizando list comprehension\n[x * x for x in array1 if x % 2 == 0]"
        }, 
        {
            "outputs": [
                {
                    "output_type": "execute_result", 
                    "metadata": {}, 
                    "execution_count": 20, 
                    "data": {
                        "text/plain": "[0, 4, 16, 36, 64, 100, 144, 196]"
                    }
                }
            ], 
            "metadata": {
                "collapsed": false
            }, 
            "cell_type": "code", 
            "execution_count": 20, 
            "source": "#Utilizando expressoes lambda e map\nlist(map(lambda x:x*x,filter(lambda x:x%2==0,array1)))"
        }, 
        {
            "metadata": {}, 
            "cell_type": "markdown", 
            "source": "# Avaliando a performance"
        }, 
        {
            "outputs": [
                {
                    "output_type": "stream", 
                    "text": "100000 loops, best of 3: 7.22 \u00b5s per loop\n", 
                    "name": "stdout"
                }
            ], 
            "metadata": {
                "collapsed": false
            }, 
            "cell_type": "code", 
            "execution_count": 22, 
            "source": "%timeit [x * x for x in array1 if x % 2 == 0]"
        }, 
        {
            "outputs": [
                {
                    "output_type": "stream", 
                    "text": "The slowest run took 48.39 times longer than the fastest. This could mean that an intermediate result is being cached.\n100000 loops, best of 3: 2.89 \u00b5s per loop\n", 
                    "name": "stdout"
                }
            ], 
            "metadata": {
                "collapsed": false
            }, 
            "cell_type": "code", 
            "execution_count": 23, 
            "source": "%timeit array1[array1 % 2 == 0]"
        }, 
        {
            "metadata": {
                "collapsed": true
            }, 
            "cell_type": "markdown", 
            "source": "# Concatenando arrays"
        }, 
        {
            "outputs": [], 
            "metadata": {
                "collapsed": true
            }, 
            "cell_type": "code", 
            "execution_count": 24, 
            "source": "array2 = np.ones(5)"
        }, 
        {
            "outputs": [
                {
                    "output_type": "execute_result", 
                    "metadata": {}, 
                    "execution_count": 25, 
                    "data": {
                        "text/plain": "array([ 1.,  1.,  1.,  1.,  1.])"
                    }
                }
            ], 
            "metadata": {
                "collapsed": false
            }, 
            "cell_type": "code", 
            "execution_count": 25, 
            "source": "array2"
        }, 
        {
            "outputs": [], 
            "metadata": {
                "collapsed": true
            }, 
            "cell_type": "code", 
            "execution_count": 26, 
            "source": "array3 = np.arange(0,15)"
        }, 
        {
            "outputs": [
                {
                    "output_type": "execute_result", 
                    "metadata": {}, 
                    "execution_count": 27, 
                    "data": {
                        "text/plain": "array([ 0,  1,  2,  3,  4,  5,  6,  7,  8,  9, 10, 11, 12, 13, 14])"
                    }
                }
            ], 
            "metadata": {
                "collapsed": false
            }, 
            "cell_type": "code", 
            "execution_count": 27, 
            "source": "array3"
        }, 
        {
            "outputs": [], 
            "metadata": {
                "collapsed": false
            }, 
            "cell_type": "code", 
            "execution_count": 30, 
            "source": "array4 = np.concatenate((array2,array3))"
        }, 
        {
            "outputs": [
                {
                    "output_type": "execute_result", 
                    "metadata": {}, 
                    "execution_count": 31, 
                    "data": {
                        "text/plain": "array([  1.,   1.,   1.,   1.,   1.,   0.,   1.,   2.,   3.,   4.,   5.,\n         6.,   7.,   8.,   9.,  10.,  11.,  12.,  13.,  14.])"
                    }
                }
            ], 
            "metadata": {
                "collapsed": false
            }, 
            "cell_type": "code", 
            "execution_count": 31, 
            "source": "array4"
        }, 
        {
            "metadata": {}, 
            "cell_type": "markdown", 
            "source": "# Join de arrays"
        }, 
        {
            "outputs": [], 
            "metadata": {
                "collapsed": false
            }, 
            "cell_type": "code", 
            "execution_count": 33, 
            "source": "array5 = np.zeros((3,3))"
        }, 
        {
            "outputs": [
                {
                    "output_type": "execute_result", 
                    "metadata": {}, 
                    "execution_count": 34, 
                    "data": {
                        "text/plain": "array([[ 0.,  0.,  0.],\n       [ 0.,  0.,  0.],\n       [ 0.,  0.,  0.]])"
                    }
                }
            ], 
            "metadata": {
                "collapsed": false
            }, 
            "cell_type": "code", 
            "execution_count": 34, 
            "source": "array5"
        }, 
        {
            "outputs": [], 
            "metadata": {
                "collapsed": true
            }, 
            "cell_type": "code", 
            "execution_count": 35, 
            "source": "array6 = np.ones((3,3))"
        }, 
        {
            "outputs": [
                {
                    "output_type": "execute_result", 
                    "metadata": {}, 
                    "execution_count": 36, 
                    "data": {
                        "text/plain": "array([[ 1.,  1.,  1.],\n       [ 1.,  1.,  1.],\n       [ 1.,  1.,  1.]])"
                    }
                }
            ], 
            "metadata": {
                "collapsed": false
            }, 
            "cell_type": "code", 
            "execution_count": 36, 
            "source": "array6"
        }, 
        {
            "outputs": [
                {
                    "output_type": "execute_result", 
                    "metadata": {}, 
                    "execution_count": 38, 
                    "data": {
                        "text/plain": "array([[ 0.,  0.,  0.,  1.,  1.,  1.],\n       [ 0.,  0.,  0.,  1.,  1.,  1.],\n       [ 0.,  0.,  0.,  1.,  1.,  1.]])"
                    }
                }
            ], 
            "metadata": {
                "collapsed": false
            }, 
            "cell_type": "code", 
            "execution_count": 38, 
            "source": "np.hstack((array5,array6))"
        }, 
        {
            "outputs": [
                {
                    "output_type": "execute_result", 
                    "metadata": {}, 
                    "execution_count": 39, 
                    "data": {
                        "text/plain": "array([[ 0.,  0.,  0.],\n       [ 0.,  0.,  0.],\n       [ 0.,  0.,  0.],\n       [ 1.,  1.,  1.],\n       [ 1.,  1.,  1.],\n       [ 1.,  1.,  1.]])"
                    }
                }
            ], 
            "metadata": {
                "collapsed": false
            }, 
            "cell_type": "code", 
            "execution_count": 39, 
            "source": "np.vstack((array5,array6))"
        }, 
        {
            "outputs": [
                {
                    "output_type": "execute_result", 
                    "metadata": {}, 
                    "execution_count": 40, 
                    "data": {
                        "text/plain": "array([[ 0.,  0.,  0.,  1.,  1.,  1.],\n       [ 0.,  0.,  0.,  1.,  1.,  1.],\n       [ 0.,  0.,  0.,  1.,  1.,  1.]])"
                    }
                }
            ], 
            "metadata": {
                "collapsed": false
            }, 
            "cell_type": "code", 
            "execution_count": 40, 
            "source": "np.column_stack((array5,array6))"
        }, 
        {
            "outputs": [
                {
                    "output_type": "execute_result", 
                    "metadata": {}, 
                    "execution_count": 42, 
                    "data": {
                        "text/plain": "array([[ 0.,  0.,  0.],\n       [ 0.,  0.,  0.],\n       [ 0.,  0.,  0.],\n       [ 1.,  1.,  1.],\n       [ 1.,  1.,  1.],\n       [ 1.,  1.,  1.]])"
                    }
                }
            ], 
            "metadata": {
                "collapsed": false
            }, 
            "cell_type": "code", 
            "execution_count": 42, 
            "source": "np.row_stack((array5,array6))"
        }, 
        {
            "metadata": {}, 
            "cell_type": "markdown", 
            "source": "# Split de arrays\n"
        }, 
        {
            "outputs": [], 
            "metadata": {
                "collapsed": false
            }, 
            "cell_type": "code", 
            "execution_count": 51, 
            "source": "array7 = np.arange(0,16).reshape((4,4))"
        }, 
        {
            "outputs": [
                {
                    "output_type": "execute_result", 
                    "metadata": {}, 
                    "execution_count": 52, 
                    "data": {
                        "text/plain": "array([[ 0,  1,  2,  3],\n       [ 4,  5,  6,  7],\n       [ 8,  9, 10, 11],\n       [12, 13, 14, 15]])"
                    }
                }
            ], 
            "metadata": {
                "collapsed": false
            }, 
            "cell_type": "code", 
            "execution_count": 52, 
            "source": "array7"
        }, 
        {
            "outputs": [], 
            "metadata": {
                "collapsed": true
            }, 
            "cell_type": "code", 
            "execution_count": 53, 
            "source": "[array8,array9] = np.hsplit(array7,2)"
        }, 
        {
            "outputs": [
                {
                    "output_type": "execute_result", 
                    "metadata": {}, 
                    "execution_count": 54, 
                    "data": {
                        "text/plain": "array([[ 0,  1],\n       [ 4,  5],\n       [ 8,  9],\n       [12, 13]])"
                    }
                }
            ], 
            "metadata": {
                "collapsed": false
            }, 
            "cell_type": "code", 
            "execution_count": 54, 
            "source": "array8"
        }, 
        {
            "outputs": [
                {
                    "output_type": "execute_result", 
                    "metadata": {}, 
                    "execution_count": 55, 
                    "data": {
                        "text/plain": "array([[ 2,  3],\n       [ 6,  7],\n       [10, 11],\n       [14, 15]])"
                    }
                }
            ], 
            "metadata": {
                "collapsed": false
            }, 
            "cell_type": "code", 
            "execution_count": 55, 
            "source": "array9"
        }, 
        {
            "outputs": [], 
            "metadata": {
                "collapsed": true
            }, 
            "cell_type": "code", 
            "execution_count": 56, 
            "source": "[array8,array9] = np.vsplit(array7,2)"
        }, 
        {
            "outputs": [
                {
                    "output_type": "execute_result", 
                    "metadata": {}, 
                    "execution_count": 57, 
                    "data": {
                        "text/plain": "array([[0, 1, 2, 3],\n       [4, 5, 6, 7]])"
                    }
                }
            ], 
            "metadata": {
                "collapsed": false
            }, 
            "cell_type": "code", 
            "execution_count": 57, 
            "source": "array8"
        }, 
        {
            "outputs": [
                {
                    "output_type": "execute_result", 
                    "metadata": {}, 
                    "execution_count": 58, 
                    "data": {
                        "text/plain": "array([[ 8,  9, 10, 11],\n       [12, 13, 14, 15]])"
                    }
                }
            ], 
            "metadata": {
                "collapsed": false
            }, 
            "cell_type": "code", 
            "execution_count": 58, 
            "source": "array9"
        }, 
        {
            "metadata": {}, 
            "cell_type": "markdown", 
            "source": "# Gravando e carregando dados"
        }, 
        {
            "outputs": [], 
            "metadata": {
                "collapsed": true
            }, 
            "cell_type": "code", 
            "execution_count": 59, 
            "source": "dados = array7"
        }, 
        {
            "outputs": [], 
            "metadata": {
                "collapsed": true
            }, 
            "cell_type": "code", 
            "execution_count": 60, 
            "source": "np.save(\"dadosGravados\",dados)"
        }, 
        {
            "outputs": [
                {
                    "output_type": "execute_result", 
                    "metadata": {}, 
                    "execution_count": 61, 
                    "data": {
                        "text/plain": "array([[ 0,  1,  2,  3],\n       [ 4,  5,  6,  7],\n       [ 8,  9, 10, 11],\n       [12, 13, 14, 15]])"
                    }
                }
            ], 
            "metadata": {
                "collapsed": false
            }, 
            "cell_type": "code", 
            "execution_count": 61, 
            "source": "np.load(\"dadosGravados.npy\")"
        }, 
        {
            "outputs": [], 
            "metadata": {
                "collapsed": true
            }, 
            "cell_type": "code", 
            "execution_count": null, 
            "source": ""
        }
    ], 
    "nbformat_minor": 0
}