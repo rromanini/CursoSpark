{
    "metadata": {
        "language_info": {
            "name": "python", 
            "mimetype": "text/x-python", 
            "nbconvert_exporter": "python", 
            "pygments_lexer": "ipython3", 
            "codemirror_mode": {
                "name": "ipython", 
                "version": 3
            }, 
            "file_extension": ".py", 
            "version": "3.5.2"
        }, 
        "kernelspec": {
            "display_name": "Python 3.5 (Experimental) with Spark 2.0", 
            "name": "python3-spark20", 
            "language": "python"
        }
    }, 
    "nbformat_minor": 0, 
    "cells": [
        {
            "metadata": {
                "collapsed": true
            }, 
            "source": "# Arrays com numpy", 
            "cell_type": "markdown"
        }, 
        {
            "outputs": [], 
            "metadata": {
                "collapsed": true
            }, 
            "source": "import numpy as np", 
            "cell_type": "code", 
            "execution_count": 1
        }, 
        {
            "outputs": [], 
            "metadata": {
                "collapsed": true
            }, 
            "source": "import sys", 
            "cell_type": "code", 
            "execution_count": 2
        }, 
        {
            "outputs": [
                {
                    "data": {
                        "text/plain": "'3.5.2 |Anaconda 4.1.1 (64-bit)| (default, Jul  2 2016, 17:53:06) \\n[GCC 4.4.7 20120313 (Red Hat 4.4.7-1)]'"
                    }, 
                    "metadata": {}, 
                    "output_type": "execute_result", 
                    "execution_count": 3
                }
            ], 
            "metadata": {
                "collapsed": false
            }, 
            "source": "sys.version", 
            "cell_type": "code", 
            "execution_count": 3
        }, 
        {
            "outputs": [
                {
                    "data": {
                        "text/plain": "'1.11.1'"
                    }, 
                    "metadata": {}, 
                    "output_type": "execute_result", 
                    "execution_count": 4
                }
            ], 
            "metadata": {
                "collapsed": false
            }, 
            "source": "np.__version__", 
            "cell_type": "code", 
            "execution_count": 4
        }, 
        {
            "outputs": [], 
            "metadata": {
                "collapsed": true
            }, 
            "source": "array1 = np.arange(0,15)", 
            "cell_type": "code", 
            "execution_count": 5
        }, 
        {
            "outputs": [
                {
                    "data": {
                        "text/plain": "array([ 0,  1,  2,  3,  4,  5,  6,  7,  8,  9, 10, 11, 12, 13, 14])"
                    }, 
                    "metadata": {}, 
                    "output_type": "execute_result", 
                    "execution_count": 6
                }
            ], 
            "metadata": {
                "collapsed": false
            }, 
            "source": "array1", 
            "cell_type": "code", 
            "execution_count": 6
        }, 
        {
            "outputs": [
                {
                    "data": {
                        "text/plain": "14"
                    }, 
                    "metadata": {}, 
                    "output_type": "execute_result", 
                    "execution_count": 7
                }
            ], 
            "metadata": {
                "collapsed": false
            }, 
            "source": "#Valor maximo\narray1.max()", 
            "cell_type": "code", 
            "execution_count": 7
        }, 
        {
            "outputs": [
                {
                    "data": {
                        "text/plain": "0"
                    }, 
                    "metadata": {}, 
                    "output_type": "execute_result", 
                    "execution_count": 8
                }
            ], 
            "metadata": {
                "collapsed": false
            }, 
            "source": "#Valor minimo\narray1.min()", 
            "cell_type": "code", 
            "execution_count": 8
        }, 
        {
            "outputs": [
                {
                    "data": {
                        "text/plain": "7.0"
                    }, 
                    "metadata": {}, 
                    "output_type": "execute_result", 
                    "execution_count": 10
                }
            ], 
            "metadata": {
                "collapsed": false
            }, 
            "source": "#Valor medio\narray1.mean()", 
            "cell_type": "code", 
            "execution_count": 10
        }, 
        {
            "outputs": [
                {
                    "data": {
                        "text/plain": "4.3204937989385739"
                    }, 
                    "metadata": {}, 
                    "output_type": "execute_result", 
                    "execution_count": 11
                }
            ], 
            "metadata": {
                "collapsed": false
            }, 
            "source": "#Desvio padrao\narray1.std()", 
            "cell_type": "code", 
            "execution_count": 11
        }, 
        {
            "outputs": [
                {
                    "data": {
                        "text/plain": "[0, 4, 16, 36, 64, 100, 144, 196]"
                    }, 
                    "metadata": {}, 
                    "output_type": "execute_result", 
                    "execution_count": 16
                }
            ], 
            "metadata": {
                "collapsed": false
            }, 
            "source": "#Utilizando list comprehension\n[x * x for x in array1 if x % 2 == 0]", 
            "cell_type": "code", 
            "execution_count": 16
        }, 
        {
            "outputs": [
                {
                    "data": {
                        "text/plain": "[0, 4, 16, 36, 64, 100, 144, 196]"
                    }, 
                    "metadata": {}, 
                    "output_type": "execute_result", 
                    "execution_count": 20
                }
            ], 
            "metadata": {
                "collapsed": false
            }, 
            "source": "#Utilizando expressoes lambda e map\nlist(map(lambda x:x*x,filter(lambda x:x%2==0,array1)))", 
            "cell_type": "code", 
            "execution_count": 20
        }, 
        {
            "metadata": {}, 
            "source": "# Avaliando a performance", 
            "cell_type": "markdown"
        }, 
        {
            "outputs": [
                {
                    "name": "stdout", 
                    "output_type": "stream", 
                    "text": "100000 loops, best of 3: 7.22 \u00b5s per loop\n"
                }
            ], 
            "metadata": {
                "collapsed": false
            }, 
            "source": "%timeit [x * x for x in array1 if x % 2 == 0]", 
            "cell_type": "code", 
            "execution_count": 22
        }, 
        {
            "outputs": [
                {
                    "name": "stdout", 
                    "output_type": "stream", 
                    "text": "The slowest run took 48.39 times longer than the fastest. This could mean that an intermediate result is being cached.\n100000 loops, best of 3: 2.89 \u00b5s per loop\n"
                }
            ], 
            "metadata": {
                "collapsed": false
            }, 
            "source": "%timeit array1[array1 % 2 == 0]", 
            "cell_type": "code", 
            "execution_count": 23
        }, 
        {
            "outputs": [], 
            "metadata": {
                "collapsed": true
            }, 
            "source": "", 
            "cell_type": "code", 
            "execution_count": null
        }
    ], 
    "nbformat": 4
}