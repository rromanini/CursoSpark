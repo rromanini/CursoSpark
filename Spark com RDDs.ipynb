{
    "metadata": {
        "language_info": {
            "file_extension": ".py", 
            "mimetype": "text/x-python", 
            "version": "3.5.2", 
            "pygments_lexer": "ipython3", 
            "name": "python", 
            "codemirror_mode": {
                "version": 3, 
                "name": "ipython"
            }, 
            "nbconvert_exporter": "python"
        }, 
        "kernelspec": {
            "display_name": "Python 3.5 (Experimental) with Spark 2.0", 
            "language": "python", 
            "name": "python3-spark20"
        }
    }, 
    "cells": [
        {
            "metadata": {
                "collapsed": true
            }, 
            "cell_type": "code", 
            "source": "\nfrom pyspark.sql import SparkSession\n\n# @hidden_cell\n# This function is used to setup the access of Spark to your Object Storage. The definition contains your credentials.\n# You might want to remove those credentials before you share your notebook.\ndef set_hadoop_config_with_credentials_f0d6ce325e0f4bc08812229b8d429dbe(name):\n    \"\"\"This function sets the Hadoop configuration so it is possible to\n    access data from Bluemix Object Storage using Spark\"\"\"\n\n    prefix = 'fs.swift.service.' + name\n    hconf = sc._jsc.hadoopConfiguration()\n    hconf.set(prefix + '.auth.url', 'https://identity.open.softlayer.com'+'/v3/auth/tokens')\n    hconf.set(prefix + '.auth.endpoint.prefix', 'endpoints')\n    hconf.set(prefix + '.tenant', '9a0cc60102244d368e96a83f25d4ca89')\n    hconf.set(prefix + '.username', '0caf8026c98a4342ac027a05416e6dee')\n    hconf.set(prefix + '.password', 'D[Cvr1bgf9DM^I{C')\n    hconf.setInt(prefix + '.http.port', 8080)\n    hconf.set(prefix + '.region', 'dallas')\n    hconf.setBoolean(prefix + '.public', False)\n\n# you can choose any name\nname = 'keystone'\nset_hadoop_config_with_credentials_f0d6ce325e0f4bc08812229b8d429dbe(name)\n\nspark = SparkSession.builder.getOrCreate()\n\ndf_data_1 = spark.read\\\n  .format('org.apache.spark.sql.execution.datasources.csv.CSVFileFormat')\\\n  .option('header', 'true')\\\n  .load('swift://CursoSpark.' + name + '/carros.csv')\ndf_data_1.take(5)\nfrom pyspark.sql import SparkSession\nfrom pyspark.sql import SQLContext\nfrom pyspark.sql import Row\n\n", 
            "execution_count": 1, 
            "outputs": []
        }, 
        {
            "metadata": {
                "collapsed": false
            }, 
            "cell_type": "code", 
            "source": "print(sc)", 
            "execution_count": 2, 
            "outputs": [
                {
                    "output_type": "stream", 
                    "text": "<pyspark.context.SparkContext object at 0x7f221fc311d0>\n", 
                    "name": "stdout"
                }
            ]
        }, 
        {
            "metadata": {
                "collapsed": true
            }, 
            "cell_type": "code", 
            "source": "sqlContext = SQLContext(sc)", 
            "execution_count": 3, 
            "outputs": []
        }, 
        {
            "metadata": {
                "collapsed": false
            }, 
            "cell_type": "code", 
            "source": "df_data_1.count()", 
            "execution_count": 4, 
            "outputs": [
                {
                    "output_type": "execute_result", 
                    "execution_count": 4, 
                    "data": {
                        "text/plain": "159"
                    }, 
                    "metadata": {}
                }
            ]
        }, 
        {
            "metadata": {
                "collapsed": false
            }, 
            "cell_type": "code", 
            "source": "carrosDF = df_data_1", 
            "execution_count": 5, 
            "outputs": []
        }, 
        {
            "metadata": {
                "collapsed": false
            }, 
            "cell_type": "code", 
            "source": "type(carrosDF)", 
            "execution_count": 6, 
            "outputs": [
                {
                    "output_type": "execute_result", 
                    "execution_count": 6, 
                    "data": {
                        "text/plain": "pyspark.sql.dataframe.DataFrame"
                    }, 
                    "metadata": {}
                }
            ]
        }, 
        {
            "metadata": {
                "collapsed": false
            }, 
            "cell_type": "code", 
            "source": "carrosDF.show()", 
            "execution_count": 7, 
            "outputs": [
                {
                    "output_type": "stream", 
                    "text": "+---------+------+---------+---------+----------+-----+---------+-----+---------------+----------+------+-----+------+------+-----------+---------+-----------+-----------+----+------+-----------------+----------+--------+--------+-----------+-----+\n|riskiness|losses|     make|fuel type|aspiration|doors|     body|drive|engine location|wheel base|length|width|height|weight|engine type|cylinders|engine size|fuel system|bore|stroke|compression ratio|horsepower|peak rpm|city mpg|highway mpg|price|\n+---------+------+---------+---------+----------+-----+---------+-----+---------------+----------+------+-----+------+------+-----------+---------+-----------+-----------+----+------+-----------------+----------+--------+--------+-----------+-----+\n|        2|   164|     audi|      gas|       std| four|    sedan|  fwd|          front|     99.80|176.60|66.20| 54.30|  2337|        ohc|     four|        109|       mpfi|3.19|  3.40|            10.00|       102|    5500|      24|         30|13950|\n|        2|   164|     audi|      gas|       std| four|    sedan|  4wd|          front|     99.40|176.60|66.40| 54.30|  2824|        ohc|     five|        136|       mpfi|3.19|  3.40|             8.00|       115|    5500|      18|         22|17450|\n|        1|   158|     audi|      gas|       std| four|    sedan|  fwd|          front|    105.80|192.70|71.40| 55.70|  2844|        ohc|     five|        136|       mpfi|3.19|  3.40|             8.50|       110|    5500|      19|         25|17710|\n|        1|   158|     audi|      gas|     turbo| four|    sedan|  fwd|          front|    105.80|192.70|71.40| 55.90|  3086|        ohc|     five|        131|       mpfi|3.13|  3.40|             8.30|       140|    5500|      17|         20|23875|\n|        2|   192|      bmw|      gas|       std|  two|    sedan|  rwd|          front|    101.20|176.80|64.80| 54.30|  2395|        ohc|     four|        108|       mpfi|3.50|  2.80|             8.80|       101|    5800|      23|         29|16430|\n|        0|   192|      bmw|      gas|       std| four|    sedan|  rwd|          front|    101.20|176.80|64.80| 54.30|  2395|        ohc|     four|        108|       mpfi|3.50|  2.80|             8.80|       101|    5800|      23|         29|16925|\n|        0|   188|      bmw|      gas|       std|  two|    sedan|  rwd|          front|    101.20|176.80|64.80| 54.30|  2710|        ohc|      six|        164|       mpfi|3.31|  3.19|             9.00|       121|    4250|      21|         28|20970|\n|        0|   188|      bmw|      gas|       std| four|    sedan|  rwd|          front|    101.20|176.80|64.80| 54.30|  2765|        ohc|      six|        164|       mpfi|3.31|  3.19|             9.00|       121|    4250|      21|         28|21105|\n|        2|   121|chevrolet|      gas|       std|  two|hatchback|  fwd|          front|     88.40|141.10|60.30| 53.20|  1488|          l|    three|         61|       2bbl|2.91|  3.03|             9.50|        48|    5100|      47|         53| 5151|\n|        1|    98|chevrolet|      gas|       std|  two|hatchback|  fwd|          front|     94.50|155.90|63.60| 52.00|  1874|        ohc|     four|         90|       2bbl|3.03|  3.11|             9.60|        70|    5400|      38|         43| 6295|\n|        0|    81|chevrolet|      gas|       std| four|    sedan|  fwd|          front|     94.50|158.80|63.60| 52.00|  1909|        ohc|     four|         90|       2bbl|3.03|  3.11|             9.60|        70|    5400|      38|         43| 6575|\n|        1|   118|    dodge|      gas|       std|  two|hatchback|  fwd|          front|     93.70|157.30|63.80| 50.80|  1876|        ohc|     four|         90|       2bbl|2.97|  3.23|             9.41|        68|    5500|      37|         41| 5572|\n|        1|   118|    dodge|      gas|       std|  two|hatchback|  fwd|          front|     93.70|157.30|63.80| 50.80|  1876|        ohc|     four|         90|       2bbl|2.97|  3.23|             9.40|        68|    5500|      31|         38| 6377|\n|        1|   118|    dodge|      gas|     turbo|  two|hatchback|  fwd|          front|     93.70|157.30|63.80| 50.80|  2128|        ohc|     four|         98|       mpfi|3.03|  3.39|             7.60|       102|    5500|      24|         30| 7957|\n|        1|   148|    dodge|      gas|       std| four|hatchback|  fwd|          front|     93.70|157.30|63.80| 50.60|  1967|        ohc|     four|         90|       2bbl|2.97|  3.23|             9.40|        68|    5500|      31|         38| 6229|\n|        1|   148|    dodge|      gas|       std| four|    sedan|  fwd|          front|     93.70|157.30|63.80| 50.60|  1989|        ohc|     four|         90|       2bbl|2.97|  3.23|             9.40|        68|    5500|      31|         38| 6692|\n|        1|   148|    dodge|      gas|       std| four|    sedan|  fwd|          front|     93.70|157.30|63.80| 50.60|  1989|        ohc|     four|         90|       2bbl|2.97|  3.23|             9.40|        68|    5500|      31|         38| 7609|\n|       -1|   110|    dodge|      gas|       std| four|    wagon|  fwd|          front|    103.30|174.60|64.60| 59.80|  2535|        ohc|     four|        122|       2bbl|3.34|  3.46|             8.50|        88|    5000|      24|         30| 8921|\n|        3|   145|    dodge|      gas|     turbo|  two|hatchback|  fwd|          front|     95.90|173.20|66.30| 50.20|  2811|        ohc|     four|        156|        mfi|3.60|  3.90|             7.00|       145|    5000|      19|         24|12964|\n|        2|   137|    honda|      gas|       std|  two|hatchback|  fwd|          front|     86.60|144.60|63.90| 50.80|  1713|        ohc|     four|         92|       1bbl|2.91|  3.41|             9.60|        58|    4800|      49|         54| 6479|\n+---------+------+---------+---------+----------+-----+---------+-----+---------------+----------+------+-----+------+------+-----------+---------+-----------+-----------+----+------+-----------------+----------+--------+--------+-----------+-----+\nonly showing top 20 rows\n\n", 
                    "name": "stdout"
                }
            ]
        }, 
        {
            "metadata": {
                "collapsed": true
            }, 
            "cell_type": "code", 
            "source": "carrosDF.createOrReplaceTempView(\"CarrosTB\")", 
            "execution_count": 8, 
            "outputs": []
        }, 
        {
            "metadata": {
                "collapsed": false
            }, 
            "cell_type": "code", 
            "source": "#Executando queries SQL\ncarrosTT = spark.sql(\"select make,horsepower, price from CarrosTB where cylinders='three'\")", 
            "execution_count": 17, 
            "outputs": []
        }, 
        {
            "metadata": {
                "collapsed": false
            }, 
            "cell_type": "code", 
            "source": "carrosTT.show()", 
            "execution_count": 18, 
            "outputs": [
                {
                    "output_type": "stream", 
                    "text": "+---------+----------+-----+\n|     make|horsepower|price|\n+---------+----------+-----+\n|chevrolet|        48| 5151|\n+---------+----------+-----+\n\n", 
                    "name": "stdout"
                }
            ]
        }, 
        {
            "metadata": {
                "collapsed": true
            }, 
            "cell_type": "code", 
            "source": "", 
            "execution_count": null, 
            "outputs": []
        }
    ], 
    "nbformat": 4, 
    "nbformat_minor": 0
}