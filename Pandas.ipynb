{
    "metadata": {
        "language_info": {
            "codemirror_mode": {
                "name": "ipython", 
                "version": 3
            }, 
            "name": "python", 
            "version": "3.5.2", 
            "mimetype": "text/x-python", 
            "nbconvert_exporter": "python", 
            "file_extension": ".py", 
            "pygments_lexer": "ipython3"
        }, 
        "kernelspec": {
            "language": "python", 
            "display_name": "Python 3.5 (Experimental) with Spark 2.0", 
            "name": "python3-spark20"
        }
    }, 
    "nbformat_minor": 0, 
    "cells": [
        {
            "metadata": {
                "collapsed": true
            }, 
            "cell_type": "markdown", 
            "source": "# Operacoes com pandas"
        }, 
        {
            "metadata": {
                "collapsed": true
            }, 
            "source": "import sys\nimport pandas as pd\nimport numpy as np\n", 
            "execution_count": 2, 
            "cell_type": "code", 
            "outputs": []
        }, 
        {
            "metadata": {
                "collapsed": false
            }, 
            "source": "pd.__version__", 
            "execution_count": 3, 
            "cell_type": "code", 
            "outputs": [
                {
                    "metadata": {}, 
                    "data": {
                        "text/plain": "'0.18.1'"
                    }, 
                    "output_type": "execute_result", 
                    "execution_count": 3
                }
            ]
        }, 
        {
            "metadata": {
                "collapsed": false
            }, 
            "source": "np.__version__", 
            "execution_count": 4, 
            "cell_type": "code", 
            "outputs": [
                {
                    "metadata": {}, 
                    "data": {
                        "text/plain": "'1.11.1'"
                    }, 
                    "output_type": "execute_result", 
                    "execution_count": 4
                }
            ]
        }, 
        {
            "metadata": {
                "collapsed": true
            }, 
            "source": "serie1 = pd.Series(np.arange(0,26))", 
            "execution_count": 5, 
            "cell_type": "code", 
            "outputs": []
        }, 
        {
            "metadata": {
                "collapsed": false
            }, 
            "source": "serie1.index", 
            "execution_count": 7, 
            "cell_type": "code", 
            "outputs": [
                {
                    "metadata": {}, 
                    "data": {
                        "text/plain": "RangeIndex(start=0, stop=26, step=1)"
                    }, 
                    "output_type": "execute_result", 
                    "execution_count": 7
                }
            ]
        }, 
        {
            "metadata": {
                "collapsed": false
            }, 
            "source": "import string", 
            "execution_count": 9, 
            "cell_type": "code", 
            "outputs": []
        }, 
        {
            "metadata": {
                "collapsed": false
            }, 
            "source": "lcase = list(string.ascii_lowercase)\n", 
            "execution_count": 19, 
            "cell_type": "code", 
            "outputs": []
        }, 
        {
            "metadata": {
                "collapsed": false
            }, 
            "source": "ucase = list(string.ascii_uppercase)", 
            "execution_count": 20, 
            "cell_type": "code", 
            "outputs": []
        }, 
        {
            "metadata": {
                "collapsed": false
            }, 
            "source": "print(lcase,ucase)", 
            "execution_count": 21, 
            "cell_type": "code", 
            "outputs": [
                {
                    "name": "stdout", 
                    "output_type": "stream", 
                    "text": "['a', 'b', 'c', 'd', 'e', 'f', 'g', 'h', 'i', 'j', 'k', 'l', 'm', 'n', 'o', 'p', 'q', 'r', 's', 't', 'u', 'v', 'w', 'x', 'y', 'z'] ['A', 'B', 'C', 'D', 'E', 'F', 'G', 'H', 'I', 'J', 'K', 'L', 'M', 'N', 'O', 'P', 'Q', 'R', 'S', 'T', 'U', 'V', 'W', 'X', 'Y', 'Z']\n"
                }
            ]
        }, 
        {
            "metadata": {
                "collapsed": false
            }, 
            "source": "serie1.index = lcase", 
            "execution_count": 22, 
            "cell_type": "code", 
            "outputs": []
        }, 
        {
            "metadata": {
                "collapsed": false
            }, 
            "source": "serie1", 
            "execution_count": 23, 
            "cell_type": "code", 
            "outputs": [
                {
                    "metadata": {}, 
                    "data": {
                        "text/plain": "a     0\nb     1\nc     2\nd     3\ne     4\nf     5\ng     6\nh     7\ni     8\nj     9\nk    10\nl    11\nm    12\nn    13\no    14\np    15\nq    16\nr    17\ns    18\nt    19\nu    20\nv    21\nw    22\nx    23\ny    24\nz    25\ndtype: int64"
                    }, 
                    "output_type": "execute_result", 
                    "execution_count": 23
                }
            ]
        }, 
        {
            "metadata": {}, 
            "cell_type": "markdown", 
            "source": "# Fazendo o slicing da serie"
        }, 
        {
            "metadata": {
                "collapsed": false
            }, 
            "source": "serie1[\"b\":\"d\"]", 
            "execution_count": 24, 
            "cell_type": "code", 
            "outputs": [
                {
                    "metadata": {}, 
                    "data": {
                        "text/plain": "b    1\nc    2\nd    3\ndtype: int64"
                    }, 
                    "output_type": "execute_result", 
                    "execution_count": 24
                }
            ]
        }, 
        {
            "metadata": {}, 
            "cell_type": "markdown", 
            "source": "# Aplicando funcoes em series"
        }, 
        {
            "metadata": {
                "collapsed": false
            }, 
            "source": "import matplotlib.pyplot as plt\n%matplotlib inline", 
            "execution_count": 27, 
            "cell_type": "code", 
            "outputs": []
        }, 
        {
            "metadata": {
                "collapsed": true
            }, 
            "source": "np.random.seed(437)", 
            "execution_count": 28, 
            "cell_type": "code", 
            "outputs": []
        }, 
        {
            "metadata": {
                "collapsed": true
            }, 
            "source": "array1 = np.random.randint(1,20,26)", 
            "execution_count": 29, 
            "cell_type": "code", 
            "outputs": []
        }, 
        {
            "metadata": {
                "collapsed": false
            }, 
            "source": "array1\n", 
            "execution_count": 30, 
            "cell_type": "code", 
            "outputs": [
                {
                    "metadata": {}, 
                    "data": {
                        "text/plain": "array([12,  3,  9,  7, 18, 12, 19, 19,  6,  3, 19, 13,  3, 16, 14, 14,  8,\n        7,  4,  7, 17,  4,  7,  4,  6, 18])"
                    }, 
                    "output_type": "execute_result", 
                    "execution_count": 30
                }
            ]
        }, 
        {
            "metadata": {
                "collapsed": true
            }, 
            "source": "dados = pd.Series.from_array(array1)", 
            "execution_count": 31, 
            "cell_type": "code", 
            "outputs": []
        }, 
        {
            "metadata": {
                "collapsed": false
            }, 
            "source": "type(dados)", 
            "execution_count": 32, 
            "cell_type": "code", 
            "outputs": [
                {
                    "metadata": {}, 
                    "data": {
                        "text/plain": "pandas.core.series.Series"
                    }, 
                    "output_type": "execute_result", 
                    "execution_count": 32
                }
            ]
        }, 
        {
            "metadata": {
                "collapsed": false
            }, 
            "source": "dados", 
            "execution_count": 33, 
            "cell_type": "code", 
            "outputs": [
                {
                    "metadata": {}, 
                    "data": {
                        "text/plain": "0     12\n1      3\n2      9\n3      7\n4     18\n5     12\n6     19\n7     19\n8      6\n9      3\n10    19\n11    13\n12     3\n13    16\n14    14\n15    14\n16     8\n17     7\n18     4\n19     7\n20    17\n21     4\n22     7\n23     4\n24     6\n25    18\ndtype: int64"
                    }, 
                    "output_type": "execute_result", 
                    "execution_count": 33
                }
            ]
        }, 
        {
            "metadata": {
                "collapsed": true
            }, 
            "source": "dados = pd.Series.from_array(array1,dtype=np.float16)", 
            "execution_count": 34, 
            "cell_type": "code", 
            "outputs": []
        }, 
        {
            "metadata": {
                "collapsed": false
            }, 
            "source": "dados", 
            "execution_count": 35, 
            "cell_type": "code", 
            "outputs": [
                {
                    "metadata": {}, 
                    "data": {
                        "text/plain": "0     12.0\n1      3.0\n2      9.0\n3      7.0\n4     18.0\n5     12.0\n6     19.0\n7     19.0\n8      6.0\n9      3.0\n10    19.0\n11    13.0\n12     3.0\n13    16.0\n14    14.0\n15    14.0\n16     8.0\n17     7.0\n18     4.0\n19     7.0\n20    17.0\n21     4.0\n22     7.0\n23     4.0\n24     6.0\n25    18.0\ndtype: float16"
                    }, 
                    "output_type": "execute_result", 
                    "execution_count": 35
                }
            ]
        }, 
        {
            "metadata": {
                "collapsed": false
            }, 
            "source": "dados.mean()", 
            "execution_count": 36, 
            "cell_type": "code", 
            "outputs": [
                {
                    "metadata": {}, 
                    "data": {
                        "text/plain": "10.344"
                    }, 
                    "output_type": "execute_result", 
                    "execution_count": 36
                }
            ]
        }, 
        {
            "metadata": {
                "collapsed": false
            }, 
            "source": "dados.median()", 
            "execution_count": 37, 
            "cell_type": "code", 
            "outputs": [
                {
                    "metadata": {}, 
                    "data": {
                        "text/plain": "8.5"
                    }, 
                    "output_type": "execute_result", 
                    "execution_count": 37
                }
            ]
        }, 
        {
            "metadata": {
                "collapsed": false
            }, 
            "source": "dados.max()", 
            "execution_count": 38, 
            "cell_type": "code", 
            "outputs": [
                {
                    "metadata": {}, 
                    "data": {
                        "text/plain": "19.0"
                    }, 
                    "output_type": "execute_result", 
                    "execution_count": 38
                }
            ]
        }, 
        {
            "metadata": {
                "collapsed": false
            }, 
            "source": "dados.min()", 
            "execution_count": 39, 
            "cell_type": "code", 
            "outputs": [
                {
                    "metadata": {}, 
                    "data": {
                        "text/plain": "3.0"
                    }, 
                    "output_type": "execute_result", 
                    "execution_count": 39
                }
            ]
        }, 
        {
            "metadata": {
                "collapsed": false
            }, 
            "source": "dados.mode()", 
            "execution_count": 40, 
            "cell_type": "code", 
            "outputs": [
                {
                    "metadata": {}, 
                    "data": {
                        "text/plain": "0    7.0\ndtype: float16"
                    }, 
                    "output_type": "execute_result", 
                    "execution_count": 40
                }
            ]
        }, 
        {
            "metadata": {
                "collapsed": false
            }, 
            "source": "dados.unique()", 
            "execution_count": 41, 
            "cell_type": "code", 
            "outputs": [
                {
                    "metadata": {}, 
                    "data": {
                        "text/plain": "array([ 12.,   3.,   9.,   7.,  18.,  19.,   6.,  13.,  16.,  14.,   8.,\n         4.,  17.])"
                    }, 
                    "output_type": "execute_result", 
                    "execution_count": 41
                }
            ]
        }, 
        {
            "metadata": {
                "collapsed": false
            }, 
            "source": "dados.value_counts()", 
            "execution_count": 42, 
            "cell_type": "code", 
            "outputs": [
                {
                    "metadata": {}, 
                    "data": {
                        "text/plain": "7.0     4\n19.0    3\n4.0     3\n3.0     3\n18.0    2\n14.0    2\n12.0    2\n6.0     2\n17.0    1\n16.0    1\n13.0    1\n9.0     1\n8.0     1\ndtype: int64"
                    }, 
                    "output_type": "execute_result", 
                    "execution_count": 42
                }
            ]
        }, 
        {
            "metadata": {
                "collapsed": false
            }, 
            "source": "dados.describe()", 
            "execution_count": 43, 
            "cell_type": "code", 
            "outputs": [
                {
                    "metadata": {}, 
                    "data": {
                        "text/plain": "count    26.000000\nmean     10.343750\nstd       5.761719\nmin       3.000000\n25%       6.000000\n50%       8.500000\n75%      15.500000\nmax      19.000000\ndtype: float64"
                    }, 
                    "output_type": "execute_result", 
                    "execution_count": 43
                }
            ]
        }, 
        {
            "metadata": {
                "collapsed": false
            }, 
            "source": "dados.hist()", 
            "execution_count": 44, 
            "cell_type": "code", 
            "outputs": [
                {
                    "metadata": {}, 
                    "data": {
                        "text/plain": "<matplotlib.axes._subplots.AxesSubplot at 0x7ff1f45f6320>"
                    }, 
                    "output_type": "execute_result", 
                    "execution_count": 44
                }, 
                {
                    "metadata": {}, 
                    "data": {
                        "text/plain": "<matplotlib.figure.Figure at 0x7ff1f45d6898>", 
                        "image/png": "[encoded data removed]"
                    }, 
                    "output_type": "display_data"
                }
            ]
        }, 
        {
            "metadata": {
                "collapsed": true
            }, 
            "source": "", 
            "execution_count": null, 
            "cell_type": "code", 
            "outputs": []
        }
    ], 
    "nbformat": 4
}