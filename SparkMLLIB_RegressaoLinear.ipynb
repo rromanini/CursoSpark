{
    "metadata": {
        "kernelspec": {
            "language": "python", 
            "display_name": "Python 2 with Spark 2.0", 
            "name": "python2-spark20"
        }, 
        "language_info": {
            "name": "python", 
            "codemirror_mode": {
                "version": 2, 
                "name": "ipython"
            }, 
            "version": "2.7.11", 
            "mimetype": "text/x-python", 
            "file_extension": ".py", 
            "nbconvert_exporter": "python", 
            "pygments_lexer": "ipython2"
        }, 
        "anaconda-cloud": {}
    }, 
    "nbformat_minor": 0, 
    "cells": [
        {
            "metadata": {}, 
            "cell_type": "markdown", 
            "source": "# <font color='blue'>Data Science Academy Big Data Real-Time Analytics com Python e Spark</font>\n\n# <font color='blue'>Cap\u00edtulo 9</font>"
        }, 
        {
            "metadata": {}, 
            "cell_type": "markdown", 
            "source": "## <font color='blue'>Spark MLLib - Regress\u00e3o Linear</font>"
        }, 
        {
            "metadata": {}, 
            "cell_type": "markdown", 
            "source": "<strong> Descri\u00e7\u00e3o </strong>\n<ul style=\"list-style-type:square\">\n  <li>M\u00e9todo para avaliar o relacionamento entre vari\u00e1veis.</li>\n  <li>Estima o valor de uma vari\u00e1vel dependente a partir dos valores das vari\u00e1veis independentes.</li>\n  <li>Usado quando as vari\u00e1veis dependente e independente s\u00e3o cont\u00ednuas e possuem alguma correla\u00e7\u00e3o.</li>\n  <li>O R-Square mede qu\u00e3o perto os dados est\u00e3o da linha de regress\u00e3o. O valor do R-Squared ser\u00e1 entre 0 e 1, sendo que quanto maior o valor, melhor.</li>\n  <li>Os dados de entrada e de sa\u00edda s\u00e3o usados na constru\u00e7\u00e3o do modelo. A equa\u00e7\u00e3o linear retorna os valores dos coeficientes.</li>\n  <li>A equa\u00e7\u00e3o linear representa o modelo.</li>\n</ul>"
        }, 
        {
            "metadata": {}, 
            "cell_type": "markdown", 
            "source": "<dl>\n  <dt>Vantagens</dt>\n  <dd>- Baixo custo</dd>\n  <dd>- Veloz</dd>\n  <dd>- Excelente para reala\u00e7\u00e3o lineares</dd>\n  <br />\n  <dt>Desvantagens</dt>\n  <dd>- Somente vari\u00e1veis num\u00e9ricas</dd>\n  <dd>- Sens\u00edvel a outliers</dd>\n  <br />\n  <dt>Aplica\u00e7\u00e3o</dt>\n  <dd>- Um dos modelos mais antigos e pode ser usado para resolver diversos problemas</dd>\n</dl>"
        }, 
        {
            "metadata": {}, 
            "cell_type": "markdown", 
            "source": "## Usaremos Regress\u00e3o Linear para prever os valores de MPG (Miles Per Gallon)"
        }, 
        {
            "metadata": {}, 
            "cell_type": "markdown", 
            "source": "MPG ser\u00e1 a vari\u00e1vel target e as demais vari\u00e1veis ser\u00e3o as features (vari\u00e1veis preditoras)."
        }, 
        {
            "execution_count": 28, 
            "outputs": [], 
            "cell_type": "code", 
            "source": "# Spark Session - usada quando se trabalha com Dataframes no Spark\nspark = SparkSession.builder.getOrCreate()", 
            "metadata": {
                "collapsed": true
            }
        }, 
        {
            "execution_count": 29, 
            "outputs": [], 
            "cell_type": "code", 
            "source": "from pyspark.sql import Row\nfrom pyspark.ml.linalg import Vectors\nfrom pyspark.ml.regression import LinearRegression\nfrom pyspark.ml.evaluation import RegressionEvaluator", 
            "metadata": {
                "collapsed": true
            }
        }, 
        {
            "execution_count": 33, 
            "outputs": [], 
            "cell_type": "code", 
            "source": "\n# @hidden_cell\ncredentials_1 = {\n  'auth_url':'https://identity.open.softlayer.com',\n  'project':'object_storage_f0d6ce32_5e0f_4bc0_8812_229b8d429dbe',\n  'project_id':'9a0cc60102244d368e96a83f25d4ca89',\n  'region':'dallas',\n  'user_id':'0caf8026c98a4342ac027a05416e6dee',\n  'domain_id':'3be46074545f4c09b1f10df3ace95998',\n  'domain_name':'1351407',\n  'username':'member_327b95c3eecf105b8bdb0125b81968cfcc557dbd',\n  'password':\"\"\"D[Cvr1bgf9DM^I{C\"\"\",\n  'container':'CursoSpark',\n  'tenantId':'undefined',\n  'filename':'carros.csv'\n}\n", 
            "metadata": {
                "collapsed": true
            }
        }, 
        {
            "execution_count": 34, 
            "outputs": [], 
            "cell_type": "code", 
            "source": "\nfrom pyspark.sql import SparkSession\n\n# @hidden_cell\n# This function is used to setup the access of Spark to your Object Storage. The definition contains your credentials.\n# You might want to remove those credentials before you share your notebook.\ndef set_hadoop_config_with_credentials_f0d6ce325e0f4bc08812229b8d429dbe(name):\n    \"\"\"This function sets the Hadoop configuration so it is possible to\n    access data from Bluemix Object Storage using Spark\"\"\"\n\n    prefix = 'fs.swift.service.' + name\n    hconf = sc._jsc.hadoopConfiguration()\n    hconf.set(prefix + '.auth.url', 'https://identity.open.softlayer.com'+'/v3/auth/tokens')\n    hconf.set(prefix + '.auth.endpoint.prefix', 'endpoints')\n    hconf.set(prefix + '.tenant', '9a0cc60102244d368e96a83f25d4ca89')\n    hconf.set(prefix + '.username', '0caf8026c98a4342ac027a05416e6dee')\n    hconf.set(prefix + '.password', 'D[Cvr1bgf9DM^I{C')\n    hconf.setInt(prefix + '.http.port', 8080)\n    hconf.set(prefix + '.region', 'dallas')\n    hconf.setBoolean(prefix + '.public', False)\n\n# you can choose any name\nname = 'keystone'\nset_hadoop_config_with_credentials_f0d6ce325e0f4bc08812229b8d429dbe(name)\n", 
            "metadata": {
                "collapsed": true
            }
        }, 
        {
            "execution_count": 36, 
            "outputs": [], 
            "cell_type": "code", 
            "source": "# Leitura do arquivo no Hadoop\nfileNameOut = 'swift://'+ credentials_1['container'] + '.keystone/carros.csv' \ncarrosRDD = sc.textFile(fileNameOut)", 
            "metadata": {
                "collapsed": false
            }
        }, 
        {
            "execution_count": 37, 
            "outputs": [
                {
                    "output_type": "execute_result", 
                    "execution_count": 37, 
                    "data": {
                        "text/plain": "swift://CursoSpark.keystone/carros.csv MapPartitionsRDD[49] at textFile at NativeMethodAccessorImpl.java:-2"
                    }, 
                    "metadata": {}
                }
            ], 
            "cell_type": "code", 
            "source": "# Colocando o RDD em cache. Esse processo otimiza a performance.\ncarrosRDD.cache()", 
            "metadata": {
                "collapsed": false
            }
        }, 
        {
            "execution_count": 17, 
            "outputs": [], 
            "cell_type": "code", 
            "source": "", 
            "metadata": {
                "collapsed": false
            }
        }, 
        {
            "execution_count": 38, 
            "outputs": [
                {
                    "output_type": "execute_result", 
                    "execution_count": 38, 
                    "data": {
                        "text/plain": "399"
                    }, 
                    "metadata": {}
                }
            ], 
            "cell_type": "code", 
            "source": "carrosRDD.count()", 
            "metadata": {
                "collapsed": false
            }
        }, 
        {
            "execution_count": 39, 
            "outputs": [
                {
                    "output_type": "execute_result", 
                    "execution_count": 39, 
                    "data": {
                        "text/plain": "[u'MPG,CYLINDERS,DISPLACEMENT,HORSEPOWER,WEIGHT,ACCELERATION,MODELYEAR,NAME',\n u'18,8,307,130,3504,12,70,chevrolet chevelle malibu',\n u'15,8,350,165,3693,11.5,70,buick skylark 320',\n u'18,8,318,150,3436,11,70,plymouth satellite',\n u'16,8,304,150,3433,12,70,amc rebel sst']"
                    }, 
                    "metadata": {}
                }
            ], 
            "cell_type": "code", 
            "source": "carrosRDD.take(5)", 
            "metadata": {
                "collapsed": false
            }
        }, 
        {
            "execution_count": 40, 
            "outputs": [
                {
                    "output_type": "execute_result", 
                    "execution_count": 40, 
                    "data": {
                        "text/plain": "398"
                    }, 
                    "metadata": {}
                }
            ], 
            "cell_type": "code", 
            "source": "# Removendo a primeira linha do arquivo (cabe\u00e7alho)\ncarrosRDD2 = carrosRDD.filter(lambda x: \"DISPLACEMENT\" not in x)\ncarrosRDD2.count()", 
            "metadata": {
                "collapsed": false
            }
        }, 
        {
            "metadata": {
                "collapsed": true
            }, 
            "cell_type": "markdown", 
            "source": "## Limpeza dos Dados"
        }, 
        {
            "execution_count": 41, 
            "outputs": [], 
            "cell_type": "code", 
            "source": "# Usando um valor padr\u00e3o para average HP (que ser\u00e1 usado para preencher os valores missing)\nmediaHP = sc.broadcast(75.0)", 
            "metadata": {
                "collapsed": false
            }
        }, 
        {
            "execution_count": 42, 
            "outputs": [], 
            "cell_type": "code", 
            "source": "# Fun\u00e7\u00e3o para limpeza dos dados\ndef limpaDados( inputStr) :\n    global mediaHP\n    attList = inputStr.split(\",\")\n    \n    # Substitui o caracter ? por um valor\n    hpValue = attList[3]\n    if hpValue == \"?\":\n        hpValue = mediaHP.value\n       \n    # Cria uma linha usando a fun\u00e7\u00e3o Row, limpando e convertendo os dados de string para float\n    linhas = Row(MPG = float(attList[0]), CYLINDERS = float(attList[1]), DISPLACEMENT = float(attList[2]), \n                 HORSEPOWER = float(hpValue), WEIGHT = float(attList[4]), ACCELERATION = float(attList[5]), \n                 MODELYEAR = float(attList[6]), NAME = attList[7]) \n    return linhas", 
            "metadata": {
                "collapsed": true
            }
        }, 
        {
            "execution_count": 44, 
            "outputs": [
                {
                    "output_type": "execute_result", 
                    "execution_count": 44, 
                    "data": {
                        "text/plain": "[Row(ACCELERATION=12.0, CYLINDERS=8.0, DISPLACEMENT=307.0, HORSEPOWER=130.0, MODELYEAR=70.0, MPG=18.0, NAME=u'chevrolet chevelle malibu', WEIGHT=3504.0),\n Row(ACCELERATION=11.5, CYLINDERS=8.0, DISPLACEMENT=350.0, HORSEPOWER=165.0, MODELYEAR=70.0, MPG=15.0, NAME=u'buick skylark 320', WEIGHT=3693.0),\n Row(ACCELERATION=11.0, CYLINDERS=8.0, DISPLACEMENT=318.0, HORSEPOWER=150.0, MODELYEAR=70.0, MPG=18.0, NAME=u'plymouth satellite', WEIGHT=3436.0),\n Row(ACCELERATION=12.0, CYLINDERS=8.0, DISPLACEMENT=304.0, HORSEPOWER=150.0, MODELYEAR=70.0, MPG=16.0, NAME=u'amc rebel sst', WEIGHT=3433.0),\n Row(ACCELERATION=10.5, CYLINDERS=8.0, DISPLACEMENT=302.0, HORSEPOWER=140.0, MODELYEAR=70.0, MPG=17.0, NAME=u'ford torino', WEIGHT=3449.0)]"
                    }, 
                    "metadata": {}
                }
            ], 
            "cell_type": "code", 
            "source": "# Executa a fun\u00e7\u00e3o no RDD\ncarrosRDD3 = carrosRDD2.map(limpaDados)\ncarrosRDD3.cache()\ncarrosRDD3.take(5)", 
            "metadata": {
                "collapsed": false
            }
        }, 
        {
            "metadata": {}, 
            "cell_type": "markdown", 
            "source": "## An\u00e1lise Explorat\u00f3ria de Dados"
        }, 
        {
            "execution_count": 45, 
            "outputs": [], 
            "cell_type": "code", 
            "source": "# Cria um Dataframe\ncarrosDF = spSession.createDataFrame(carrosRDD3)", 
            "metadata": {
                "collapsed": false
            }
        }, 
        {
            "execution_count": 46, 
            "outputs": [
                {
                    "output_type": "stream", 
                    "name": "stdout", 
                    "text": "+-------+-----------------+------------------+\n|summary|              MPG|         CYLINDERS|\n+-------+-----------------+------------------+\n|  count|              398|               398|\n|   mean|23.51457286432161| 5.454773869346734|\n| stddev|7.815984312565782|1.7010042445332125|\n|    min|              9.0|               3.0|\n|    max|             46.6|               8.0|\n+-------+-----------------+------------------+\n\n"
                }
            ], 
            "cell_type": "code", 
            "source": "# Estat\u00edsticas descritivas\ncarrosDF.select(\"MPG\",\"CYLINDERS\").describe().show()", 
            "metadata": {
                "collapsed": false
            }
        }, 
        {
            "execution_count": 48, 
            "outputs": [
                {
                    "output_type": "stream", 
                    "name": "stdout", 
                    "text": "('Correla\\xc3\\xa7\\xc3\\xa3o da vari\\xc3\\xa1vel MPG com ', 'ACCELERATION', 0.4202889121016501)\n('Correla\\xc3\\xa7\\xc3\\xa3o da vari\\xc3\\xa1vel MPG com ', 'CYLINDERS', -0.7753962854205548)\n('Correla\\xc3\\xa7\\xc3\\xa3o da vari\\xc3\\xa1vel MPG com ', 'DISPLACEMENT', -0.8042028248058979)\n('Correla\\xc3\\xa7\\xc3\\xa3o da vari\\xc3\\xa1vel MPG com ', 'HORSEPOWER', -0.7747041523498721)\n('Correla\\xc3\\xa7\\xc3\\xa3o da vari\\xc3\\xa1vel MPG com ', 'MODELYEAR', 0.5792671330833091)\n('Correla\\xc3\\xa7\\xc3\\xa3o da vari\\xc3\\xa1vel MPG com ', 'MPG', 1.0)\n"
                }, 
                {
                    "output_type": "error", 
                    "ename": "IllegalArgumentException", 
                    "evalue": "u'requirement failed: Currently correlation calculation for columns with dataType StringType not supported.'", 
                    "traceback": [
                        "\u001b[1;31m\u001b[0m", 
                        "\u001b[1;31mIllegalArgumentException\u001b[0mTraceback (most recent call last)", 
                        "\u001b[1;32m<ipython-input-48-316e01b01cc1>\u001b[0m in \u001b[0;36m<module>\u001b[1;34m()\u001b[0m\n\u001b[0;32m      2\u001b[0m \u001b[1;32mfor\u001b[0m \u001b[0mi\u001b[0m \u001b[1;32min\u001b[0m \u001b[0mcarrosDF\u001b[0m\u001b[1;33m.\u001b[0m\u001b[0mcolumns\u001b[0m\u001b[1;33m:\u001b[0m\u001b[1;33m\u001b[0m\u001b[0m\n\u001b[0;32m      3\u001b[0m     \u001b[1;32mif\u001b[0m \u001b[1;32mnot\u001b[0m\u001b[1;33m(\u001b[0m\u001b[0misinstance\u001b[0m\u001b[1;33m(\u001b[0m\u001b[0mcarrosDF\u001b[0m\u001b[1;33m.\u001b[0m\u001b[0mselect\u001b[0m\u001b[1;33m(\u001b[0m\u001b[0mi\u001b[0m\u001b[1;33m)\u001b[0m\u001b[1;33m.\u001b[0m\u001b[0mtake\u001b[0m\u001b[1;33m(\u001b[0m\u001b[1;36m1\u001b[0m\u001b[1;33m)\u001b[0m\u001b[1;33m[\u001b[0m\u001b[1;36m0\u001b[0m\u001b[1;33m]\u001b[0m\u001b[1;33m[\u001b[0m\u001b[1;36m0\u001b[0m\u001b[1;33m]\u001b[0m\u001b[1;33m,\u001b[0m \u001b[0mstr\u001b[0m\u001b[1;33m)\u001b[0m\u001b[1;33m)\u001b[0m \u001b[1;33m:\u001b[0m\u001b[1;33m\u001b[0m\u001b[0m\n\u001b[1;32m----> 4\u001b[1;33m         \u001b[1;32mprint\u001b[0m\u001b[1;33m(\u001b[0m \u001b[1;34m\"Correla\u00e7\u00e3o da vari\u00e1vel MPG com \"\u001b[0m\u001b[1;33m,\u001b[0m \u001b[0mi\u001b[0m\u001b[1;33m,\u001b[0m \u001b[0mcarrosDF\u001b[0m\u001b[1;33m.\u001b[0m\u001b[0mstat\u001b[0m\u001b[1;33m.\u001b[0m\u001b[0mcorr\u001b[0m\u001b[1;33m(\u001b[0m\u001b[1;34m'MPG'\u001b[0m\u001b[1;33m,\u001b[0m \u001b[0mi\u001b[0m\u001b[1;33m)\u001b[0m\u001b[1;33m)\u001b[0m\u001b[1;33m\u001b[0m\u001b[0m\n\u001b[0m", 
                        "\u001b[1;32m/usr/local/src/spark20master/spark/python/pyspark/sql/dataframe.py\u001b[0m in \u001b[0;36mcorr\u001b[1;34m(self, col1, col2, method)\u001b[0m\n\u001b[0;32m   1509\u001b[0m \u001b[1;33m\u001b[0m\u001b[0m\n\u001b[0;32m   1510\u001b[0m     \u001b[1;32mdef\u001b[0m \u001b[0mcorr\u001b[0m\u001b[1;33m(\u001b[0m\u001b[0mself\u001b[0m\u001b[1;33m,\u001b[0m \u001b[0mcol1\u001b[0m\u001b[1;33m,\u001b[0m \u001b[0mcol2\u001b[0m\u001b[1;33m,\u001b[0m \u001b[0mmethod\u001b[0m\u001b[1;33m=\u001b[0m\u001b[0mNone\u001b[0m\u001b[1;33m)\u001b[0m\u001b[1;33m:\u001b[0m\u001b[1;33m\u001b[0m\u001b[0m\n\u001b[1;32m-> 1511\u001b[1;33m         \u001b[1;32mreturn\u001b[0m \u001b[0mself\u001b[0m\u001b[1;33m.\u001b[0m\u001b[0mdf\u001b[0m\u001b[1;33m.\u001b[0m\u001b[0mcorr\u001b[0m\u001b[1;33m(\u001b[0m\u001b[0mcol1\u001b[0m\u001b[1;33m,\u001b[0m \u001b[0mcol2\u001b[0m\u001b[1;33m,\u001b[0m \u001b[0mmethod\u001b[0m\u001b[1;33m)\u001b[0m\u001b[1;33m\u001b[0m\u001b[0m\n\u001b[0m\u001b[0;32m   1512\u001b[0m \u001b[1;33m\u001b[0m\u001b[0m\n\u001b[0;32m   1513\u001b[0m     \u001b[0mcorr\u001b[0m\u001b[1;33m.\u001b[0m\u001b[0m__doc__\u001b[0m \u001b[1;33m=\u001b[0m \u001b[0mDataFrame\u001b[0m\u001b[1;33m.\u001b[0m\u001b[0mcorr\u001b[0m\u001b[1;33m.\u001b[0m\u001b[0m__doc__\u001b[0m\u001b[1;33m\u001b[0m\u001b[0m\n", 
                        "\u001b[1;32m/usr/local/src/spark20master/spark/python/pyspark/sql/dataframe.py\u001b[0m in \u001b[0;36mcorr\u001b[1;34m(self, col1, col2, method)\u001b[0m\n\u001b[0;32m   1291\u001b[0m             raise ValueError(\"Currently only the calculation of the Pearson Correlation \" +\n\u001b[0;32m   1292\u001b[0m                              \"coefficient is supported.\")\n\u001b[1;32m-> 1293\u001b[1;33m         \u001b[1;32mreturn\u001b[0m \u001b[0mself\u001b[0m\u001b[1;33m.\u001b[0m\u001b[0m_jdf\u001b[0m\u001b[1;33m.\u001b[0m\u001b[0mstat\u001b[0m\u001b[1;33m(\u001b[0m\u001b[1;33m)\u001b[0m\u001b[1;33m.\u001b[0m\u001b[0mcorr\u001b[0m\u001b[1;33m(\u001b[0m\u001b[0mcol1\u001b[0m\u001b[1;33m,\u001b[0m \u001b[0mcol2\u001b[0m\u001b[1;33m,\u001b[0m \u001b[0mmethod\u001b[0m\u001b[1;33m)\u001b[0m\u001b[1;33m\u001b[0m\u001b[0m\n\u001b[0m\u001b[0;32m   1294\u001b[0m \u001b[1;33m\u001b[0m\u001b[0m\n\u001b[0;32m   1295\u001b[0m     \u001b[1;33m@\u001b[0m\u001b[0msince\u001b[0m\u001b[1;33m(\u001b[0m\u001b[1;36m1.4\u001b[0m\u001b[1;33m)\u001b[0m\u001b[1;33m\u001b[0m\u001b[0m\n", 
                        "\u001b[1;32m/usr/local/src/spark20master/spark/python/lib/py4j-0.10.3-src.zip/py4j/java_gateway.py\u001b[0m in \u001b[0;36m__call__\u001b[1;34m(self, *args)\u001b[0m\n\u001b[0;32m   1131\u001b[0m         \u001b[0manswer\u001b[0m \u001b[1;33m=\u001b[0m \u001b[0mself\u001b[0m\u001b[1;33m.\u001b[0m\u001b[0mgateway_client\u001b[0m\u001b[1;33m.\u001b[0m\u001b[0msend_command\u001b[0m\u001b[1;33m(\u001b[0m\u001b[0mcommand\u001b[0m\u001b[1;33m)\u001b[0m\u001b[1;33m\u001b[0m\u001b[0m\n\u001b[0;32m   1132\u001b[0m         return_value = get_return_value(\n\u001b[1;32m-> 1133\u001b[1;33m             answer, self.gateway_client, self.target_id, self.name)\n\u001b[0m\u001b[0;32m   1134\u001b[0m \u001b[1;33m\u001b[0m\u001b[0m\n\u001b[0;32m   1135\u001b[0m         \u001b[1;32mfor\u001b[0m \u001b[0mtemp_arg\u001b[0m \u001b[1;32min\u001b[0m \u001b[0mtemp_args\u001b[0m\u001b[1;33m:\u001b[0m\u001b[1;33m\u001b[0m\u001b[0m\n", 
                        "\u001b[1;32m/usr/local/src/spark20master/spark/python/pyspark/sql/utils.py\u001b[0m in \u001b[0;36mdeco\u001b[1;34m(*a, **kw)\u001b[0m\n\u001b[0;32m     77\u001b[0m                 \u001b[1;32mraise\u001b[0m \u001b[0mQueryExecutionException\u001b[0m\u001b[1;33m(\u001b[0m\u001b[0ms\u001b[0m\u001b[1;33m.\u001b[0m\u001b[0msplit\u001b[0m\u001b[1;33m(\u001b[0m\u001b[1;34m': '\u001b[0m\u001b[1;33m,\u001b[0m \u001b[1;36m1\u001b[0m\u001b[1;33m)\u001b[0m\u001b[1;33m[\u001b[0m\u001b[1;36m1\u001b[0m\u001b[1;33m]\u001b[0m\u001b[1;33m,\u001b[0m \u001b[0mstackTrace\u001b[0m\u001b[1;33m)\u001b[0m\u001b[1;33m\u001b[0m\u001b[0m\n\u001b[0;32m     78\u001b[0m             \u001b[1;32mif\u001b[0m \u001b[0ms\u001b[0m\u001b[1;33m.\u001b[0m\u001b[0mstartswith\u001b[0m\u001b[1;33m(\u001b[0m\u001b[1;34m'java.lang.IllegalArgumentException: '\u001b[0m\u001b[1;33m)\u001b[0m\u001b[1;33m:\u001b[0m\u001b[1;33m\u001b[0m\u001b[0m\n\u001b[1;32m---> 79\u001b[1;33m                 \u001b[1;32mraise\u001b[0m \u001b[0mIllegalArgumentException\u001b[0m\u001b[1;33m(\u001b[0m\u001b[0ms\u001b[0m\u001b[1;33m.\u001b[0m\u001b[0msplit\u001b[0m\u001b[1;33m(\u001b[0m\u001b[1;34m': '\u001b[0m\u001b[1;33m,\u001b[0m \u001b[1;36m1\u001b[0m\u001b[1;33m)\u001b[0m\u001b[1;33m[\u001b[0m\u001b[1;36m1\u001b[0m\u001b[1;33m]\u001b[0m\u001b[1;33m,\u001b[0m \u001b[0mstackTrace\u001b[0m\u001b[1;33m)\u001b[0m\u001b[1;33m\u001b[0m\u001b[0m\n\u001b[0m\u001b[0;32m     80\u001b[0m             \u001b[1;32mraise\u001b[0m\u001b[1;33m\u001b[0m\u001b[0m\n\u001b[0;32m     81\u001b[0m     \u001b[1;32mreturn\u001b[0m \u001b[0mdeco\u001b[0m\u001b[1;33m\u001b[0m\u001b[0m\n", 
                        "\u001b[1;31mIllegalArgumentException\u001b[0m: u'requirement failed: Currently correlation calculation for columns with dataType StringType not supported.'"
                    ]
                }
            ], 
            "cell_type": "code", 
            "source": "# Encontrando a correla\u00e7\u00e3o entre a vari\u00e1vel target com as vari\u00e1veis preditoras\nfor i in carrosDF.columns:\n    if not(isinstance(carrosDF.select(i).take(1)[0][0], str)) :\n        print( \"Correla\u00e7\u00e3o da vari\u00e1vel MPG com \", i, carrosDF.stat.corr('MPG', i))", 
            "metadata": {
                "collapsed": false
            }
        }, 
        {
            "metadata": {}, 
            "cell_type": "markdown", 
            "source": "## Pr\u00e9-Processamento dos Dados"
        }, 
        {
            "execution_count": 49, 
            "outputs": [], 
            "cell_type": "code", 
            "source": "# Convertendo para um LabeledPoint (target, Vector[features])\n# Remove colunas n\u00e3o relevantes para o modelo ou com baixa correla\u00e7\u00e3o\ndef transformaVar(row) :\n    obj = (row[\"MPG\"], Vectors.dense([row[\"ACCELERATION\"], row[\"DISPLACEMENT\"], row[\"WEIGHT\"]]))\n    return obj", 
            "metadata": {
                "collapsed": false
            }
        }, 
        {
            "execution_count": 50, 
            "outputs": [
                {
                    "output_type": "stream", 
                    "name": "stdout", 
                    "text": "+-----+-------------------+\n|label|           features|\n+-----+-------------------+\n| 18.0|[12.0,307.0,3504.0]|\n| 15.0|[11.5,350.0,3693.0]|\n| 18.0|[11.0,318.0,3436.0]|\n| 16.0|[12.0,304.0,3433.0]|\n| 17.0|[10.5,302.0,3449.0]|\n| 15.0|[10.0,429.0,4341.0]|\n| 14.0| [9.0,454.0,4354.0]|\n| 14.0| [8.5,440.0,4312.0]|\n| 14.0|[10.0,455.0,4425.0]|\n| 15.0| [8.5,390.0,3850.0]|\n+-----+-------------------+\nonly showing top 10 rows\n\n"
                }
            ], 
            "cell_type": "code", 
            "source": "# Utiliza o RDD, aplica a fun\u00e7\u00e3o, converte para Dataframe e aplica a fun\u00e7\u00e3o select()\ncarrosRDD4 = carrosRDD3.map(transformaVar)\ncarrosDF = spSession.createDataFrame(carrosRDD4,[\"label\", \"features\"])\ncarrosDF.select(\"label\",\"features\").show(10)", 
            "metadata": {
                "collapsed": false
            }
        }, 
        {
            "execution_count": 51, 
            "outputs": [
                {
                    "output_type": "execute_result", 
                    "execution_count": 51, 
                    "data": {
                        "text/plain": "[(18.0, DenseVector([12.0, 307.0, 3504.0])),\n (15.0, DenseVector([11.5, 350.0, 3693.0])),\n (18.0, DenseVector([11.0, 318.0, 3436.0])),\n (16.0, DenseVector([12.0, 304.0, 3433.0])),\n (17.0, DenseVector([10.5, 302.0, 3449.0]))]"
                    }, 
                    "metadata": {}
                }
            ], 
            "cell_type": "code", 
            "source": "carrosRDD4.take(5)", 
            "metadata": {
                "collapsed": false
            }
        }, 
        {
            "metadata": {}, 
            "cell_type": "markdown", 
            "source": "## Machine Learning"
        }, 
        {
            "execution_count": 52, 
            "outputs": [], 
            "cell_type": "code", 
            "source": "# Dados de Treino e de Teste\n(dados_treino, dados_teste) = carrosDF.randomSplit([0.7, 0.3])", 
            "metadata": {
                "collapsed": false
            }
        }, 
        {
            "execution_count": 53, 
            "outputs": [
                {
                    "output_type": "execute_result", 
                    "execution_count": 53, 
                    "data": {
                        "text/plain": "272"
                    }, 
                    "metadata": {}
                }
            ], 
            "cell_type": "code", 
            "source": "dados_treino.count()", 
            "metadata": {
                "collapsed": false
            }
        }, 
        {
            "execution_count": 54, 
            "outputs": [
                {
                    "output_type": "execute_result", 
                    "execution_count": 54, 
                    "data": {
                        "text/plain": "126"
                    }, 
                    "metadata": {}
                }
            ], 
            "cell_type": "code", 
            "source": "dados_teste.count()", 
            "metadata": {
                "collapsed": false
            }
        }, 
        {
            "execution_count": 55, 
            "outputs": [], 
            "cell_type": "code", 
            "source": "# Construindo o modelo com os dados de treino\nlinearReg = LinearRegression(maxIter = 10)\nmodelo = linearReg.fit(dados_treino)", 
            "metadata": {
                "collapsed": true
            }
        }, 
        {
            "execution_count": 56, 
            "outputs": [
                {
                    "output_type": "stream", 
                    "name": "stdout", 
                    "text": "LinearRegression_4491917793456fd86cfe\n"
                }
            ], 
            "cell_type": "code", 
            "source": "print(modelo)", 
            "metadata": {
                "collapsed": false
            }
        }, 
        {
            "execution_count": 57, 
            "outputs": [
                {
                    "output_type": "stream", 
                    "name": "stdout", 
                    "text": "Coeficientes: [0.155651372686,-0.014123376903,-0.00585712917211]\nIntercept: 41.3320904343\n"
                }
            ], 
            "cell_type": "code", 
            "source": "# Imprimindo as m\u00e9tricas\nprint(\"Coeficientes: \" + str(modelo.coefficients))\nprint(\"Intercept: \" + str(modelo.intercept))", 
            "metadata": {
                "collapsed": false
            }
        }, 
        {
            "execution_count": 58, 
            "outputs": [
                {
                    "output_type": "stream", 
                    "name": "stdout", 
                    "text": "+------------------+-------------------+\n|        prediction|           features|\n+------------------+-------------------+\n|12.202199008001678|[18.5,304.0,4732.0]|\n|16.640552331132675|[11.0,350.0,3664.0]|\n| 9.849247388015257|[11.0,429.0,4633.0]|\n|11.983326531447936|[12.5,350.0,4499.0]|\n|15.054145224740232|[13.0,350.0,3988.0]|\n| 12.12140651661755|[13.5,350.0,4502.0]|\n|11.184900274614865| [8.5,440.0,4312.0]|\n|10.818999259086471| [9.0,454.0,4354.0]|\n|18.387367045107613|[10.0,455.0,3086.0]|\n|11.326505834633554|[11.5,400.0,4464.0]|\n| 14.14556409160954|[13.5,351.0,4154.0]|\n| 15.14046016200571|[14.0,318.0,4077.0]|\n| 15.13276489725651| [9.5,400.0,3761.0]|\n|14.503575082561689|[13.0,350.0,4082.0]|\n|18.798875880116704|[12.0,304.0,3433.0]|\n|20.424259684825586|[15.5,225.0,3439.0]|\n| 18.30151414441597|[17.0,250.0,3781.0]|\n|21.403301490674348|[18.0,250.0,3278.0]|\n| 19.21689074852226|[18.0,258.0,3632.0]|\n|24.701146871145287|[14.5,121.0,2933.0]|\n+------------------+-------------------+\nonly showing top 20 rows\n\n"
                }
            ], 
            "cell_type": "code", 
            "source": "# Previs\u00f5es com dados de teste\npredictions = modelo.transform(dados_teste)\npredictions.select(\"prediction\", \"features\").show()", 
            "metadata": {
                "collapsed": false
            }
        }, 
        {
            "execution_count": 59, 
            "outputs": [
                {
                    "output_type": "execute_result", 
                    "execution_count": 59, 
                    "data": {
                        "text/plain": "0.6494247503752931"
                    }, 
                    "metadata": {}
                }
            ], 
            "cell_type": "code", 
            "source": "# Coeficiente de determina\u00e7\u00e3o R2\navaliador = RegressionEvaluator(predictionCol = \"prediction\", labelCol = \"label\", metricName = \"r2\")\navaliador.evaluate(predictions)", 
            "metadata": {
                "collapsed": false
            }
        }, 
        {
            "metadata": {}, 
            "cell_type": "markdown", 
            "source": "# Fim"
        }, 
        {
            "metadata": {}, 
            "cell_type": "markdown", 
            "source": "### Obrigado - Data Science Academy - <a href=http://facebook.com/dsacademy>facebook.com/dsacademybr</a>"
        }
    ], 
    "nbformat": 4
}