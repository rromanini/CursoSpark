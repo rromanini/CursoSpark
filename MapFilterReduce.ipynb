{
    "metadata": {
        "language_info": {
            "codemirror_mode": {
                "name": "ipython", 
                "version": 3
            }, 
            "file_extension": ".py", 
            "version": "3.5.2", 
            "name": "python", 
            "pygments_lexer": "ipython3", 
            "mimetype": "text/x-python", 
            "nbconvert_exporter": "python"
        }, 
        "kernelspec": {
            "language": "python", 
            "display_name": "Python 3.5 (Experimental) with Spark 2.0", 
            "name": "python3-spark20"
        }
    }, 
    "nbformat": 4, 
    "cells": [
        {
            "metadata": {
                "collapsed": true
            }, 
            "cell_type": "markdown", 
            "source": "# Map"
        }, 
        {
            "metadata": {
                "collapsed": true
            }, 
            "execution_count": 1, 
            "outputs": [], 
            "cell_type": "code", 
            "source": "array1 = range(0,15)"
        }, 
        {
            "metadata": {
                "collapsed": false
            }, 
            "execution_count": 3, 
            "outputs": [
                {
                    "output_type": "stream", 
                    "name": "stdout", 
                    "text": "range(0, 15)\n"
                }
            ], 
            "cell_type": "code", 
            "source": "print(array1)"
        }, 
        {
            "metadata": {
                "collapsed": false
            }, 
            "execution_count": 4, 
            "outputs": [
                {
                    "metadata": {}, 
                    "data": {
                        "text/plain": "range"
                    }, 
                    "execution_count": 4, 
                    "output_type": "execute_result"
                }
            ], 
            "cell_type": "code", 
            "source": "type(array1)"
        }, 
        {
            "metadata": {
                "collapsed": true
            }, 
            "execution_count": 5, 
            "outputs": [], 
            "cell_type": "code", 
            "source": "#Criando uma funcao para calcular o cubo de um numero\ndef calc_cubo(num):\n    return num ** 3"
        }, 
        {
            "metadata": {
                "collapsed": false
            }, 
            "execution_count": 7, 
            "outputs": [
                {
                    "output_type": "stream", 
                    "name": "stdout", 
                    "text": "0\n1\n8\n27\n64\n125\n216\n343\n512\n729\n1000\n1331\n1728\n2197\n2744\n"
                }
            ], 
            "cell_type": "code", 
            "source": "for elemento in array1:\n    print(calc_cubo(elemento))"
        }, 
        {
            "metadata": {
                "collapsed": true
            }, 
            "execution_count": 8, 
            "outputs": [], 
            "cell_type": "code", 
            "source": "#Cria\u00e7\u00e3o de uma fun\u00e7\u00e3o map, aplicando uma fun\u00e7\u00e3o a um conjunto de dados\nlista_map_func = map(calc_cubo,array1)"
        }, 
        {
            "metadata": {
                "collapsed": false
            }, 
            "execution_count": 10, 
            "outputs": [
                {
                    "output_type": "stream", 
                    "name": "stdout", 
                    "text": "<map object at 0x7f6b2c5669b0>\n"
                }
            ], 
            "cell_type": "code", 
            "source": "print(lista_map_func)"
        }, 
        {
            "metadata": {
                "collapsed": false
            }, 
            "execution_count": 11, 
            "outputs": [
                {
                    "output_type": "stream", 
                    "name": "stdout", 
                    "text": "[0, 1, 8, 27, 64, 125, 216, 343, 512, 729, 1000, 1331, 1728, 2197, 2744]\n"
                }
            ], 
            "cell_type": "code", 
            "source": "#Para visualizar a saida da funcao map, \u00e9 necess\u00e1rio converter para uma lista\nprint(list(lista_map_func))"
        }, 
        {
            "metadata": {
                "collapsed": false
            }, 
            "execution_count": 22, 
            "outputs": [], 
            "cell_type": "code", 
            "source": "#outro exemplo de Map, com a funcao float\nlista_map_func2 = map(float,array1)"
        }, 
        {
            "metadata": {
                "collapsed": false
            }, 
            "execution_count": 23, 
            "outputs": [
                {
                    "output_type": "stream", 
                    "name": "stdout", 
                    "text": "[0.0, 1.0, 2.0, 3.0, 4.0, 5.0, 6.0, 7.0, 8.0, 9.0, 10.0, 11.0, 12.0, 13.0, 14.0]\n"
                }
            ], 
            "cell_type": "code", 
            "source": "print(list(lista_map_func2))"
        }, 
        {
            "metadata": {
                "collapsed": false
            }, 
            "execution_count": 25, 
            "outputs": [], 
            "cell_type": "code", 
            "source": "#outro exemplo com Map, utilizando a funcao SQRT do pacote math\nfrom math import sqrt"
        }, 
        {
            "metadata": {
                "collapsed": true
            }, 
            "execution_count": 26, 
            "outputs": [], 
            "cell_type": "code", 
            "source": "lista_map_func3 = map(sqrt,array1)"
        }, 
        {
            "metadata": {
                "collapsed": false
            }, 
            "execution_count": 27, 
            "outputs": [
                {
                    "output_type": "stream", 
                    "name": "stdout", 
                    "text": "[0.0, 1.0, 1.4142135623730951, 1.7320508075688772, 2.0, 2.23606797749979, 2.449489742783178, 2.6457513110645907, 2.8284271247461903, 3.0, 3.1622776601683795, 3.3166247903554, 3.4641016151377544, 3.605551275463989, 3.7416573867739413]\n"
                }
            ], 
            "cell_type": "code", 
            "source": "print(list(lista_map_func3))"
        }, 
        {
            "metadata": {}, 
            "cell_type": "markdown", 
            "source": "# Filter"
        }, 
        {
            "metadata": {
                "collapsed": true
            }, 
            "execution_count": 28, 
            "outputs": [], 
            "cell_type": "code", 
            "source": "#Criando um novo array\narray2 = range(0,15)"
        }, 
        {
            "metadata": {
                "collapsed": false
            }, 
            "execution_count": 31, 
            "outputs": [
                {
                    "output_type": "stream", 
                    "name": "stdout", 
                    "text": "[0, 1, 2, 3, 4, 5, 6, 7, 8, 9, 10, 11, 12, 13, 14]\n"
                }
            ], 
            "cell_type": "code", 
            "source": "print(list(array2))"
        }, 
        {
            "metadata": {
                "collapsed": true
            }, 
            "execution_count": 32, 
            "outputs": [], 
            "cell_type": "code", 
            "source": "def verifica_par(num):\n    return num % 2 == 0"
        }, 
        {
            "metadata": {
                "collapsed": false
            }, 
            "execution_count": 37, 
            "outputs": [
                {
                    "metadata": {}, 
                    "data": {
                        "text/plain": "False"
                    }, 
                    "execution_count": 37, 
                    "output_type": "execute_result"
                }
            ], 
            "cell_type": "code", 
            "source": "verifica_par(1221)"
        }, 
        {
            "metadata": {
                "collapsed": false
            }, 
            "execution_count": 38, 
            "outputs": [
                {
                    "output_type": "stream", 
                    "name": "stdout", 
                    "text": "[True, False, True, False, True, False, True, False, True, False, True, False, True, False, True]\n"
                }
            ], 
            "cell_type": "code", 
            "source": "# a funcao map simplesmente aplica a funcao verifica par a todos os elementos\nprint(list(map(verifica_par,array2)))"
        }, 
        {
            "metadata": {
                "collapsed": false
            }, 
            "execution_count": 39, 
            "outputs": [
                {
                    "output_type": "stream", 
                    "name": "stdout", 
                    "text": "[0, 2, 4, 6, 8, 10, 12, 14]\n"
                }
            ], 
            "cell_type": "code", 
            "source": "# a funcao filter retornara apenas os resultados que sejam True\nprint(list(filter(verifica_par,array2)))"
        }, 
        {
            "metadata": {
                "collapsed": true
            }, 
            "execution_count": 40, 
            "outputs": [], 
            "cell_type": "code", 
            "source": "# Criando um array de frases\nfrases = [\"Big Data com Python e Big Data com Spark\",\"Desenvolvendo\", \"Programando\",\"Big Data leva a Big Data\"]"
        }, 
        {
            "metadata": {
                "collapsed": false
            }, 
            "execution_count": 41, 
            "outputs": [
                {
                    "metadata": {}, 
                    "data": {
                        "text/plain": "['Big Data com Python e Big Data com Spark',\n 'Desenvolvendo',\n 'Programando',\n 'Big Data leva a Big Data']"
                    }, 
                    "execution_count": 41, 
                    "output_type": "execute_result"
                }
            ], 
            "cell_type": "code", 
            "source": "frases"
        }, 
        {
            "metadata": {
                "collapsed": false
            }, 
            "execution_count": 43, 
            "outputs": [], 
            "cell_type": "code", 
            "source": "def checkBigData2X(frase):\n    return frase.count(\"Big Data\") >= 2\n    "
        }, 
        {
            "metadata": {
                "collapsed": false
            }, 
            "execution_count": 44, 
            "outputs": [
                {
                    "output_type": "stream", 
                    "name": "stdout", 
                    "text": "['Big Data com Python e Big Data com Spark', 'Big Data leva a Big Data']\n"
                }
            ], 
            "cell_type": "code", 
            "source": "#Filtrando frases que contenham Big Data duas vezes\nprint(list(filter(checkBigData2X,frases)))"
        }, 
        {
            "metadata": {
                "collapsed": false
            }, 
            "execution_count": 45, 
            "outputs": [
                {
                    "output_type": "stream", 
                    "name": "stdout", 
                    "text": "[True, False, False, True]\n"
                }
            ], 
            "cell_type": "code", 
            "source": "#Com fun\u00e7\u00e3o Map, n\u00e3o h\u00e1 filtro\nprint(list(map(checkBigData2X,frases)))"
        }, 
        {
            "metadata": {}, 
            "cell_type": "markdown", 
            "source": "# Reduce"
        }, 
        {
            "metadata": {
                "collapsed": true
            }, 
            "execution_count": 47, 
            "outputs": [], 
            "cell_type": "code", 
            "source": "# A fun\u00e7\u00e3o Reduce aplica uma fun\u00e7\u00e3o a uma sequencia de valores at\u00e9 reduzir esta sequencia a um unico valor\nfrom functools import reduce"
        }, 
        {
            "metadata": {
                "collapsed": true
            }, 
            "execution_count": 48, 
            "outputs": [], 
            "cell_type": "code", 
            "source": "soma = reduce((lambda x,y:x+y),[1,2,3,4])"
        }, 
        {
            "metadata": {
                "collapsed": false
            }, 
            "execution_count": 49, 
            "outputs": [
                {
                    "metadata": {}, 
                    "data": {
                        "text/plain": "10"
                    }, 
                    "execution_count": 49, 
                    "output_type": "execute_result"
                }
            ], 
            "cell_type": "code", 
            "source": "soma"
        }, 
        {
            "metadata": {
                "collapsed": true
            }, 
            "execution_count": null, 
            "outputs": [], 
            "cell_type": "code", 
            "source": ""
        }
    ], 
    "nbformat_minor": 0
}