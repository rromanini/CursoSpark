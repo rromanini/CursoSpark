{
    "nbformat_minor": 0, 
    "nbformat": 4, 
    "cells": [
        {
            "source": "# Matplotlib e Regress\u00e3o Linear", 
            "cell_type": "markdown", 
            "metadata": {
                "collapsed": true
            }
        }, 
        {
            "source": "import numpy as np\nfrom scipy import stats\nimport matplotlib.pyplot as plt\n%matplotlib inline", 
            "execution_count": 9, 
            "outputs": [], 
            "cell_type": "code", 
            "metadata": {
                "collapsed": false
            }
        }, 
        {
            "source": "#Pre\u00e7os de casas\nx = np.array([113,247,199,371,549,301,419,579])", 
            "execution_count": 3, 
            "outputs": [], 
            "cell_type": "code", 
            "metadata": {
                "collapsed": true
            }
        }, 
        {
            "source": "#Tamanho de casas\ny = np.array([1119,1524,2101,2232,2599,3201,3687,4459])", 
            "execution_count": 5, 
            "outputs": [], 
            "cell_type": "code", 
            "metadata": {
                "collapsed": true
            }
        }, 
        {
            "source": "#Regressao Linear\nslope, intercept,r_value,p_value,std_err = stats.linregress(x,y)", 
            "execution_count": 6, 
            "outputs": [], 
            "cell_type": "code", 
            "metadata": {
                "collapsed": true
            }
        }, 
        {
            "source": "#Construindo o grafico\nplt.plot(x,y,\"ro\",color=\"red\")\nplt.xlabel(\"Pre\u00e7o\")\nplt.ylabel(\"Tamanho da casa\")\nplt.axis([0,600,0,5000])\nplt.plot(x, intercept + x * slope,\"b\")", 
            "execution_count": 19, 
            "outputs": [
                {
                    "data": {
                        "text/plain": "[<matplotlib.lines.Line2D at 0x7f2f44232b00>]"
                    }, 
                    "execution_count": 19, 
                    "output_type": "execute_result", 
                    "metadata": {}
                }, 
                {
                    "data": {
                        "image/png": "[encoded data removed]", 
                        "text/plain": "<matplotlib.figure.Figure at 0x7f2f44265f98>"
                    }, 
                    "output_type": "display_data", 
                    "metadata": {}
                }
            ], 
            "cell_type": "code", 
            "metadata": {
                "collapsed": false
            }
        }, 
        {
            "source": "", 
            "execution_count": null, 
            "outputs": [], 
            "cell_type": "code", 
            "metadata": {
                "collapsed": true
            }
        }, 
        {
            "source": "", 
            "execution_count": null, 
            "outputs": [], 
            "cell_type": "code", 
            "metadata": {
                "collapsed": true
            }
        }
    ], 
    "metadata": {
        "kernelspec": {
            "name": "python3-spark20", 
            "language": "python", 
            "display_name": "Python 3.5 (Experimental) with Spark 2.0"
        }, 
        "language_info": {
            "name": "python", 
            "pygments_lexer": "ipython3", 
            "version": "3.5.2", 
            "mimetype": "text/x-python", 
            "file_extension": ".py", 
            "nbconvert_exporter": "python", 
            "codemirror_mode": {
                "name": "ipython", 
                "version": 3
            }
        }
    }
}