{
    "metadata": {
        "language_info": {
            "codemirror_mode": {
                "name": "ipython", 
                "version": 3
            }, 
            "name": "python", 
            "version": "3.5.2", 
            "mimetype": "text/x-python", 
            "nbconvert_exporter": "python", 
            "file_extension": ".py", 
            "pygments_lexer": "ipython3"
        }, 
        "kernelspec": {
            "language": "python", 
            "display_name": "Python 3.5 (Experimental) with Spark 2.0", 
            "name": "python3-spark20"
        }
    }, 
    "nbformat_minor": 0, 
    "cells": [
        {
            "metadata": {
                "collapsed": true
            }, 
            "source": "import numpy as np", 
            "execution_count": 1, 
            "cell_type": "code", 
            "outputs": []
        }, 
        {
            "metadata": {
                "collapsed": false
            }, 
            "source": "array1 = np.random.randint(0,50,20)", 
            "execution_count": 3, 
            "cell_type": "code", 
            "outputs": []
        }, 
        {
            "metadata": {
                "collapsed": false
            }, 
            "source": "array1\n", 
            "execution_count": 4, 
            "cell_type": "code", 
            "outputs": [
                {
                    "metadata": {}, 
                    "data": {
                        "text/plain": "array([40,  2, 29, 33, 26,  1, 19, 33,  1, 26, 31, 11, 11, 46, 38, 38,  6,\n       30, 39, 41])"
                    }, 
                    "output_type": "execute_result", 
                    "execution_count": 4
                }
            ]
        }, 
        {
            "metadata": {
                "collapsed": true
            }, 
            "source": "#Nova funcao\ndef calc_num(num):\n    if num < 10:\n        return num ** 3\n    else:\n        return num ** 2", 
            "execution_count": 5, 
            "cell_type": "code", 
            "outputs": []
        }, 
        {
            "metadata": {
                "collapsed": false
            }, 
            "source": "calc_num(10)", 
            "execution_count": 9, 
            "cell_type": "code", 
            "outputs": [
                {
                    "metadata": {}, 
                    "data": {
                        "text/plain": "100"
                    }, 
                    "output_type": "execute_result", 
                    "execution_count": 9
                }
            ]
        }, 
        {
            "metadata": {
                "collapsed": false
            }, 
            "source": "# N\u00e3o \u00e9 possivel aplicar uma funcao a todo um vetor numpy\n# E necessario vetorizar a funcao\nv_calc_num = np.vectorize(calc_num)", 
            "execution_count": 11, 
            "cell_type": "code", 
            "outputs": []
        }, 
        {
            "metadata": {
                "collapsed": false
            }, 
            "source": "type(v_calc_num)", 
            "execution_count": 12, 
            "cell_type": "code", 
            "outputs": [
                {
                    "metadata": {}, 
                    "data": {
                        "text/plain": "numpy.lib.function_base.vectorize"
                    }, 
                    "output_type": "execute_result", 
                    "execution_count": 12
                }
            ]
        }, 
        {
            "metadata": {
                "collapsed": false
            }, 
            "source": "v_calc_num(array1)", 
            "execution_count": 13, 
            "cell_type": "code", 
            "outputs": [
                {
                    "metadata": {}, 
                    "data": {
                        "text/plain": "array([1600,    8,  841, 1089,  676,    1,  361, 1089,    1,  676,  961,\n        121,  121, 2116, 1444, 1444,  216,  900, 1521, 1681])"
                    }, 
                    "output_type": "execute_result", 
                    "execution_count": 13
                }
            ]
        }, 
        {
            "metadata": {}, 
            "cell_type": "markdown", 
            "source": "# Com funcao Map"
        }, 
        {
            "metadata": {
                "collapsed": false
            }, 
            "source": "# Posso obter o mesmo resultado utilizando a funcao map\nlist(map(calc_num,array1))", 
            "execution_count": 15, 
            "cell_type": "code", 
            "outputs": [
                {
                    "metadata": {}, 
                    "data": {
                        "text/plain": "[1600,\n 8,\n 841,\n 1089,\n 676,\n 1,\n 361,\n 1089,\n 1,\n 676,\n 961,\n 121,\n 121,\n 2116,\n 1444,\n 1444,\n 216,\n 900,\n 1521,\n 1681]"
                    }, 
                    "output_type": "execute_result", 
                    "execution_count": 15
                }
            ]
        }, 
        {
            "metadata": {}, 
            "cell_type": "markdown", 
            "source": "# Com List Comprehension"
        }, 
        {
            "metadata": {
                "collapsed": false
            }, 
            "source": "[calc_num(x) for x in array1]", 
            "execution_count": 16, 
            "cell_type": "code", 
            "outputs": [
                {
                    "metadata": {}, 
                    "data": {
                        "text/plain": "[1600,\n 8,\n 841,\n 1089,\n 676,\n 1,\n 361,\n 1089,\n 1,\n 676,\n 961,\n 121,\n 121,\n 2116,\n 1444,\n 1444,\n 216,\n 900,\n 1521,\n 1681]"
                    }, 
                    "output_type": "execute_result", 
                    "execution_count": 16
                }
            ]
        }, 
        {
            "metadata": {}, 
            "cell_type": "markdown", 
            "source": "# Desempenho"
        }, 
        {
            "metadata": {
                "collapsed": false
            }, 
            "source": "%timeit [calc_num(x) for x in array1]\n%timeit list(map(calc_num,array1))\n%timeit v_calc_num(array1)", 
            "execution_count": 17, 
            "cell_type": "code", 
            "outputs": [
                {
                    "name": "stdout", 
                    "output_type": "stream", 
                    "text": "The slowest run took 8.05 times longer than the fastest. This could mean that an intermediate result is being cached.\n100000 loops, best of 3: 10.5 \u00b5s per loop\n100000 loops, best of 3: 10.5 \u00b5s per loop\nThe slowest run took 11.17 times longer than the fastest. This could mean that an intermediate result is being cached.\n10000 loops, best of 3: 29.4 \u00b5s per loop\n"
                }
            ]
        }, 
        {
            "metadata": {}, 
            "cell_type": "markdown", 
            "source": "# Com um array um pouco maior"
        }, 
        {
            "metadata": {
                "collapsed": true
            }, 
            "source": "array2 = np.random.randint(0,50,20000)", 
            "execution_count": 18, 
            "cell_type": "code", 
            "outputs": []
        }, 
        {
            "metadata": {
                "collapsed": false
            }, 
            "source": "array2", 
            "execution_count": 19, 
            "cell_type": "code", 
            "outputs": [
                {
                    "metadata": {}, 
                    "data": {
                        "text/plain": "array([21,  6,  8, ..., 16, 35, 43])"
                    }, 
                    "output_type": "execute_result", 
                    "execution_count": 19
                }
            ]
        }, 
        {
            "metadata": {
                "collapsed": false
            }, 
            "source": "%timeit [calc_num(x) for x in array2]\n%timeit list(map(calc_num,array2))\n%timeit v_calc_num(array2)", 
            "execution_count": 21, 
            "cell_type": "code", 
            "outputs": [
                {
                    "name": "stdout", 
                    "output_type": "stream", 
                    "text": "100 loops, best of 3: 9.09 ms per loop\n100 loops, best of 3: 9.12 ms per loop\n100 loops, best of 3: 10.9 ms per loop\n"
                }
            ]
        }, 
        {
            "metadata": {
                "collapsed": true
            }, 
            "source": "", 
            "execution_count": null, 
            "cell_type": "code", 
            "outputs": []
        }
    ], 
    "nbformat": 4
}